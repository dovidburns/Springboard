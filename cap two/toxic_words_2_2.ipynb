{
 "cells": [
  {
   "cell_type": "code",
   "execution_count": 1,
   "metadata": {},
   "outputs": [
    {
     "name": "stdout",
     "output_type": "stream",
     "text": [
      "[nltk_data] Downloading package stopwords to\n",
      "[nltk_data]     C:\\Users\\dovidb\\AppData\\Roaming\\nltk_data...\n",
      "[nltk_data]   Package stopwords is already up-to-date!\n"
     ]
    }
   ],
   "source": [
    "import pandas as pd\n",
    "import numpy as np\n",
    "\n",
    "import re\n",
    "import string\n",
    "from nltk.tokenize import word_tokenize\n",
    "from nltk.corpus import stopwords\n",
    "from nltk.stem.porter import PorterStemmer\n",
    "from nltk.stem.snowball import SnowballStemmer\n",
    "from nltk.stem.wordnet import WordNetLemmatizer\n",
    "\n",
    "import nltk\n",
    "nltk.download('stopwords')\n",
    "from nltk.stem.porter import PorterStemmer\n",
    "from nltk.stem.snowball import SnowballStemmer\n",
    "\n",
    "from sklearn.ensemble import RandomForestClassifier\n",
    "from sklearn import metrics\n",
    "from sklearn.metrics import roc_curve\n",
    "from sklearn.model_selection import KFold\n",
    "from sklearn.model_selection import cross_val_score\n",
    "from sklearn.model_selection import cross_val_predict\n",
    "from sklearn.metrics import recall_score\n",
    "from sklearn.metrics import accuracy_score\n",
    "from sklearn.model_selection import train_test_split\n",
    "from sklearn.model_selection import GridSearchCV\n",
    "\n",
    "from sklearn.naive_bayes import MultinomialNB\n",
    "from sklearn.feature_extraction.text import CountVectorizer\n",
    "import matplotlib.pyplot as plt\n",
    "from scipy.stats import chi2_contingency\n",
    "from sklearn.model_selection import StratifiedKFold\n",
    "from sklearn.pipeline import Pipeline\n",
    "from scipy.sparse import hstack"
   ]
  },
  {
   "cell_type": "markdown",
   "metadata": {},
   "source": [
    "## Import Data"
   ]
  },
  {
   "cell_type": "code",
   "execution_count": 2,
   "metadata": {},
   "outputs": [],
   "source": [
    "data = pd.read_csv(\"train.csv\",usecols=[\"id\",\"comment_text\", \"toxic\"])"
   ]
  },
  {
   "cell_type": "markdown",
   "metadata": {},
   "source": [
    "#### The data used are Wikipedia comments which have been labeled by human raters for toxic behavior.    "
   ]
  },
  {
   "cell_type": "code",
   "execution_count": 3,
   "metadata": {},
   "outputs": [
    {
     "data": {
      "text/html": [
       "<div>\n",
       "<style scoped>\n",
       "    .dataframe tbody tr th:only-of-type {\n",
       "        vertical-align: middle;\n",
       "    }\n",
       "\n",
       "    .dataframe tbody tr th {\n",
       "        vertical-align: top;\n",
       "    }\n",
       "\n",
       "    .dataframe thead th {\n",
       "        text-align: right;\n",
       "    }\n",
       "</style>\n",
       "<table border=\"1\" class=\"dataframe\">\n",
       "  <thead>\n",
       "    <tr style=\"text-align: right;\">\n",
       "      <th></th>\n",
       "      <th>id</th>\n",
       "      <th>comment_text</th>\n",
       "      <th>toxic</th>\n",
       "    </tr>\n",
       "  </thead>\n",
       "  <tbody>\n",
       "    <tr>\n",
       "      <th>0</th>\n",
       "      <td>0000997932d777bf</td>\n",
       "      <td>Explanation\\nWhy the edits made under my usern...</td>\n",
       "      <td>0</td>\n",
       "    </tr>\n",
       "    <tr>\n",
       "      <th>1</th>\n",
       "      <td>000103f0d9cfb60f</td>\n",
       "      <td>D'aww! He matches this background colour I'm s...</td>\n",
       "      <td>0</td>\n",
       "    </tr>\n",
       "    <tr>\n",
       "      <th>2</th>\n",
       "      <td>000113f07ec002fd</td>\n",
       "      <td>Hey man, I'm really not trying to edit war. It...</td>\n",
       "      <td>0</td>\n",
       "    </tr>\n",
       "    <tr>\n",
       "      <th>3</th>\n",
       "      <td>0001b41b1c6bb37e</td>\n",
       "      <td>\"\\nMore\\nI can't make any real suggestions on ...</td>\n",
       "      <td>0</td>\n",
       "    </tr>\n",
       "    <tr>\n",
       "      <th>4</th>\n",
       "      <td>0001d958c54c6e35</td>\n",
       "      <td>You, sir, are my hero. Any chance you remember...</td>\n",
       "      <td>0</td>\n",
       "    </tr>\n",
       "  </tbody>\n",
       "</table>\n",
       "</div>"
      ],
      "text/plain": [
       "                 id                                       comment_text  toxic\n",
       "0  0000997932d777bf  Explanation\\nWhy the edits made under my usern...      0\n",
       "1  000103f0d9cfb60f  D'aww! He matches this background colour I'm s...      0\n",
       "2  000113f07ec002fd  Hey man, I'm really not trying to edit war. It...      0\n",
       "3  0001b41b1c6bb37e  \"\\nMore\\nI can't make any real suggestions on ...      0\n",
       "4  0001d958c54c6e35  You, sir, are my hero. Any chance you remember...      0"
      ]
     },
     "execution_count": 3,
     "metadata": {},
     "output_type": "execute_result"
    }
   ],
   "source": [
    "data.head()"
   ]
  },
  {
   "cell_type": "markdown",
   "metadata": {},
   "source": [
    "## Data Cleaning and Pre-Processing"
   ]
  },
  {
   "cell_type": "code",
   "execution_count": 4,
   "metadata": {},
   "outputs": [
    {
     "data": {
      "text/plain": [
       "0    144277\n",
       "1     15294\n",
       "Name: toxic, dtype: int64"
      ]
     },
     "execution_count": 4,
     "metadata": {},
     "output_type": "execute_result"
    }
   ],
   "source": [
    "data.toxic.value_counts()"
   ]
  },
  {
   "cell_type": "code",
   "execution_count": 5,
   "metadata": {},
   "outputs": [
    {
     "data": {
      "text/plain": [
       "10.600442204925248"
      ]
     },
     "execution_count": 5,
     "metadata": {},
     "output_type": "execute_result"
    }
   ],
   "source": [
    "# 10.6 percent of comments are toxic \n",
    "data[data[\"toxic\"]==1].count()[1] / data[data[\"toxic\"]==0].count()[1] *100"
   ]
  },
  {
   "cell_type": "markdown",
   "metadata": {},
   "source": [
    "### 10.6% of comments are toxic "
   ]
  },
  {
   "cell_type": "code",
   "execution_count": 6,
   "metadata": {},
   "outputs": [],
   "source": [
    "# create a new column with the length of the comment \n",
    "data['comment_length'] = data['comment_text'].str.len()"
   ]
  },
  {
   "cell_type": "code",
   "execution_count": 7,
   "metadata": {},
   "outputs": [],
   "source": [
    "data[\"length_log\"] = data[\"comment_length\"].apply(lambda x : np.log(x))"
   ]
  },
  {
   "cell_type": "code",
   "execution_count": 8,
   "metadata": {},
   "outputs": [],
   "source": [
    "def number_of_upper(words):\n",
    "    '''function to count the number of upper case letter in the comment'''\n",
    "    return(sum(1 for c in words if c.isupper()))"
   ]
  },
  {
   "cell_type": "code",
   "execution_count": 9,
   "metadata": {},
   "outputs": [],
   "source": [
    "# apply function to count number of uppercase letters in each comment \n",
    "data[\"number_uppercase\"] = data['comment_text'].map(number_of_upper)"
   ]
  },
  {
   "cell_type": "code",
   "execution_count": 10,
   "metadata": {},
   "outputs": [],
   "source": [
    "# create a new column that is the percent of words in the column that are upper case\n",
    "data[\"percent_uppercase\"] = data['number_uppercase'] / data['comment_length']"
   ]
  },
  {
   "cell_type": "code",
   "execution_count": 11,
   "metadata": {},
   "outputs": [
    {
     "data": {
      "text/html": [
       "<div>\n",
       "<style scoped>\n",
       "    .dataframe tbody tr th:only-of-type {\n",
       "        vertical-align: middle;\n",
       "    }\n",
       "\n",
       "    .dataframe tbody tr th {\n",
       "        vertical-align: top;\n",
       "    }\n",
       "\n",
       "    .dataframe thead th {\n",
       "        text-align: right;\n",
       "    }\n",
       "</style>\n",
       "<table border=\"1\" class=\"dataframe\">\n",
       "  <thead>\n",
       "    <tr style=\"text-align: right;\">\n",
       "      <th></th>\n",
       "      <th>toxic</th>\n",
       "      <th>comment_length</th>\n",
       "      <th>length_log</th>\n",
       "      <th>number_uppercase</th>\n",
       "      <th>percent_uppercase</th>\n",
       "    </tr>\n",
       "  </thead>\n",
       "  <tbody>\n",
       "    <tr>\n",
       "      <th>count</th>\n",
       "      <td>159571.000000</td>\n",
       "      <td>159571.000000</td>\n",
       "      <td>159571.000000</td>\n",
       "      <td>159571.000000</td>\n",
       "      <td>159571.000000</td>\n",
       "    </tr>\n",
       "    <tr>\n",
       "      <th>mean</th>\n",
       "      <td>0.095844</td>\n",
       "      <td>394.073221</td>\n",
       "      <td>5.338712</td>\n",
       "      <td>17.159628</td>\n",
       "      <td>0.051622</td>\n",
       "    </tr>\n",
       "    <tr>\n",
       "      <th>std</th>\n",
       "      <td>0.294379</td>\n",
       "      <td>590.720282</td>\n",
       "      <td>1.110638</td>\n",
       "      <td>96.528103</td>\n",
       "      <td>0.092837</td>\n",
       "    </tr>\n",
       "    <tr>\n",
       "      <th>min</th>\n",
       "      <td>0.000000</td>\n",
       "      <td>6.000000</td>\n",
       "      <td>1.791759</td>\n",
       "      <td>0.000000</td>\n",
       "      <td>0.000000</td>\n",
       "    </tr>\n",
       "    <tr>\n",
       "      <th>25%</th>\n",
       "      <td>0.000000</td>\n",
       "      <td>96.000000</td>\n",
       "      <td>4.564348</td>\n",
       "      <td>3.000000</td>\n",
       "      <td>0.020710</td>\n",
       "    </tr>\n",
       "    <tr>\n",
       "      <th>50%</th>\n",
       "      <td>0.000000</td>\n",
       "      <td>205.000000</td>\n",
       "      <td>5.323010</td>\n",
       "      <td>7.000000</td>\n",
       "      <td>0.031746</td>\n",
       "    </tr>\n",
       "    <tr>\n",
       "      <th>75%</th>\n",
       "      <td>0.000000</td>\n",
       "      <td>435.000000</td>\n",
       "      <td>6.075346</td>\n",
       "      <td>15.000000</td>\n",
       "      <td>0.048830</td>\n",
       "    </tr>\n",
       "    <tr>\n",
       "      <th>max</th>\n",
       "      <td>1.000000</td>\n",
       "      <td>5000.000000</td>\n",
       "      <td>8.517193</td>\n",
       "      <td>4960.000000</td>\n",
       "      <td>0.998189</td>\n",
       "    </tr>\n",
       "  </tbody>\n",
       "</table>\n",
       "</div>"
      ],
      "text/plain": [
       "               toxic  comment_length     length_log  number_uppercase  \\\n",
       "count  159571.000000   159571.000000  159571.000000     159571.000000   \n",
       "mean        0.095844      394.073221       5.338712         17.159628   \n",
       "std         0.294379      590.720282       1.110638         96.528103   \n",
       "min         0.000000        6.000000       1.791759          0.000000   \n",
       "25%         0.000000       96.000000       4.564348          3.000000   \n",
       "50%         0.000000      205.000000       5.323010          7.000000   \n",
       "75%         0.000000      435.000000       6.075346         15.000000   \n",
       "max         1.000000     5000.000000       8.517193       4960.000000   \n",
       "\n",
       "       percent_uppercase  \n",
       "count      159571.000000  \n",
       "mean            0.051622  \n",
       "std             0.092837  \n",
       "min             0.000000  \n",
       "25%             0.020710  \n",
       "50%             0.031746  \n",
       "75%             0.048830  \n",
       "max             0.998189  "
      ]
     },
     "execution_count": 11,
     "metadata": {},
     "output_type": "execute_result"
    }
   ],
   "source": [
    "data.describe()"
   ]
  },
  {
   "cell_type": "markdown",
   "metadata": {},
   "source": [
    "#### 159,571 Total Comments\n",
    "#### Comment Length Range From 6 to 5000 Characters \n",
    "#### Percent of Character Uppercase Range from 0% to 0.998%\n",
    "#### Log of the length has a Range from 1.79 to 8.5"
   ]
  },
  {
   "cell_type": "markdown",
   "metadata": {},
   "source": [
    "## Examine percent toxic by percent uppercase"
   ]
  },
  {
   "cell_type": "code",
   "execution_count": 12,
   "metadata": {},
   "outputs": [],
   "source": [
    "def bin_uppercase_2(df):\n",
    "    '''Creates a function to turn Percent Uppercase into many binned groups'''\n",
    "                        \n",
    "    col=\"percent_uppercase\"\n",
    "    for x in range(5,105,5):\n",
    "        if df[col]   <(x*0.01):\n",
    "            return x"
   ]
  },
  {
   "cell_type": "code",
   "execution_count": 13,
   "metadata": {},
   "outputs": [],
   "source": [
    "data[\"uppercase_binned_2\"] = data.apply(bin_uppercase_2, axis=1)"
   ]
  },
  {
   "cell_type": "code",
   "execution_count": 14,
   "metadata": {},
   "outputs": [
    {
     "data": {
      "text/plain": [
       "uppercase_binned_2\n",
       "5      0.082449\n",
       "10     0.086841\n",
       "15     0.137597\n",
       "20     0.185532\n",
       "25     0.194969\n",
       "30     0.184516\n",
       "35     0.169946\n",
       "40     0.234483\n",
       "45     0.353488\n",
       "50     0.511450\n",
       "55     0.523810\n",
       "60     0.593496\n",
       "65     0.649682\n",
       "70     0.649215\n",
       "75     0.675758\n",
       "80     0.680352\n",
       "85     0.633484\n",
       "90     0.600000\n",
       "95     0.705882\n",
       "100    0.750000\n",
       "Name: toxic, dtype: float64"
      ]
     },
     "execution_count": 14,
     "metadata": {},
     "output_type": "execute_result"
    }
   ],
   "source": [
    "# take a look at the change in percent toxic as the percent captilized increases. \n",
    "data.groupby(\"uppercase_binned_2\")[\"toxic\"].mean()"
   ]
  },
  {
   "cell_type": "code",
   "execution_count": 15,
   "metadata": {},
   "outputs": [
    {
     "data": {
      "image/png": "[encoded data removed]",
      "text/plain": [
       "<matplotlib.figure.Figure at 0x2318d1520b8>"
      ]
     },
     "metadata": {},
     "output_type": "display_data"
    }
   ],
   "source": [
    "data.groupby(\"uppercase_binned_2\")[\"toxic\"].mean().plot(figsize=(9,6))\n",
    "plt.title(\"Percent Uppercase Binned vs Percent Toxic\",fontsize=20)\n",
    "plt.ylabel(\"Percent Toxic\",fontsize=16)\n",
    "plt.xlabel(\"Binned Uppercase Percent\",fontsize=16)\n",
    "plt.show()"
   ]
  },
  {
   "cell_type": "markdown",
   "metadata": {},
   "source": [
    "### based on the above plot and data the best bins for percent capitalization is as follow: \n",
    "### \"0<10, 10<45, 45<55, 55< \""
   ]
  },
  {
   "cell_type": "markdown",
   "metadata": {},
   "source": [
    "### Create Bins for Percent Uppercase"
   ]
  },
  {
   "cell_type": "code",
   "execution_count": 16,
   "metadata": {},
   "outputs": [],
   "source": [
    "def bin_uppercase(df):\n",
    "    '''Creates a function to turn Percent Uppercase into three binned groups'''\n",
    "                        \n",
    "    col=\"percent_uppercase\"\n",
    "    if df[col]   <0.1:\n",
    "        return 1\n",
    "    elif df[col] <0.45:\n",
    "        return 2\n",
    "    elif df[col] <0.55:\n",
    "        return 3\n",
    "    else:\n",
    "        return 4"
   ]
  },
  {
   "cell_type": "code",
   "execution_count": 17,
   "metadata": {},
   "outputs": [],
   "source": [
    "data[\"uppercase_binned\"] = data.apply(bin_uppercase, axis=1)"
   ]
  },
  {
   "cell_type": "code",
   "execution_count": 18,
   "metadata": {
    "scrolled": true
   },
   "outputs": [
    {
     "data": {
      "text/plain": [
       "uppercase_binned\n",
       "1    0.083263\n",
       "2    0.165660\n",
       "3    0.517510\n",
       "4    0.655610\n",
       "Name: toxic, dtype: float64"
      ]
     },
     "execution_count": 18,
     "metadata": {},
     "output_type": "execute_result"
    }
   ],
   "source": [
    "data.groupby(\"uppercase_binned\")[\"toxic\"].mean()"
   ]
  },
  {
   "cell_type": "code",
   "execution_count": 19,
   "metadata": {},
   "outputs": [
    {
     "data": {
      "text/plain": [
       "uppercase_binned\n",
       "1    148493\n",
       "2      8771\n",
       "3       257\n",
       "4      2050\n",
       "Name: id, dtype: int64"
      ]
     },
     "execution_count": 19,
     "metadata": {},
     "output_type": "execute_result"
    }
   ],
   "source": [
    "data.groupby(\"uppercase_binned\")[\"id\"].count()"
   ]
  },
  {
   "cell_type": "markdown",
   "metadata": {},
   "source": [
    "Percent Uppercase Range | Count | Percent Toxic\n",
    "--- | --- | ---\n",
    "0 <= X < 0.1 | 148493 | 8.3%\n",
    "0.1<=X< 0.45 | 8771 | 16.6%\n",
    "0.45<=X< 0.55 | 257 | 51.8%\n",
    "0.55 <= X | 2050 | 65.6%\n"
   ]
  },
  {
   "cell_type": "code",
   "execution_count": 20,
   "metadata": {},
   "outputs": [
    {
     "data": {
      "image/png": "[encoded data removed]",
      "text/plain": [
       "<matplotlib.figure.Figure at 0x2318ce9d400>"
      ]
     },
     "metadata": {},
     "output_type": "display_data"
    }
   ],
   "source": [
    "# plot the binned groups\n",
    "data.groupby(\"uppercase_binned\")[\"toxic\"].mean().plot(kind=\"bar\",figsize=(9,6))\n",
    "plt.ylim(0,0.7)\n",
    "plt.title(\"Percent Uppercase Binned vs Percent Toxic\",fontsize=20)\n",
    "plt.ylabel(\"Percent Toxic\",fontsize=16)\n",
    "plt.xlabel(\"Binned Uppercase Percent\",fontsize=16)\n",
    "plt.xticks([0,1,2,3],[\"X < 0.1\",\"0.1<= X <0.45\", \"0.45<= X < 0.55\",\"0.55 <= X\"],rotation=0)\n",
    "plt.show()"
   ]
  },
  {
   "cell_type": "markdown",
   "metadata": {},
   "source": [
    "## Examine percent toxic by comment length"
   ]
  },
  {
   "cell_type": "code",
   "execution_count": 21,
   "metadata": {},
   "outputs": [],
   "source": [
    "def bin_length_test(df):\n",
    "    '''Creates a function to turn Percent Uppercase into three binned groups'''\n",
    "                        \n",
    "    col=\"comment_length\"\n",
    "    for x in range(100,5100,100):\n",
    "        if df[col]   <x:\n",
    "            return x"
   ]
  },
  {
   "cell_type": "code",
   "execution_count": 22,
   "metadata": {},
   "outputs": [],
   "source": [
    "data[\"lenth_binned_2\"] = data.apply(bin_length_test, axis=1)"
   ]
  },
  {
   "cell_type": "code",
   "execution_count": 23,
   "metadata": {},
   "outputs": [
    {
     "data": {
      "text/plain": [
       "lenth_binned_2\n",
       "100.0     0.155310\n",
       "200.0     0.100325\n",
       "300.0     0.076804\n",
       "400.0     0.066613\n",
       "500.0     0.060158\n",
       "600.0     0.055875\n",
       "700.0     0.055098\n",
       "800.0     0.050379\n",
       "900.0     0.046255\n",
       "1000.0    0.050044\n",
       "1100.0    0.049077\n",
       "1200.0    0.043646\n",
       "1300.0    0.049020\n",
       "1400.0    0.044355\n",
       "1500.0    0.038946\n",
       "1600.0    0.039526\n",
       "1700.0    0.033003\n",
       "1800.0    0.048673\n",
       "1900.0    0.043478\n",
       "2000.0    0.028818\n",
       "2100.0    0.038348\n",
       "2200.0    0.059761\n",
       "2300.0    0.059072\n",
       "2400.0    0.052133\n",
       "2500.0    0.055866\n",
       "2600.0    0.083871\n",
       "2700.0    0.071856\n",
       "2800.0    0.034965\n",
       "2900.0    0.072581\n",
       "3000.0    0.046980\n",
       "3100.0    0.052632\n",
       "3200.0    0.023438\n",
       "3300.0    0.056604\n",
       "3400.0    0.090909\n",
       "3500.0    0.069307\n",
       "3600.0    0.067308\n",
       "3700.0    0.039604\n",
       "3800.0    0.052083\n",
       "3900.0    0.051020\n",
       "4000.0    0.055556\n",
       "4100.0    0.079545\n",
       "4200.0    0.108108\n",
       "4300.0    0.037975\n",
       "4400.0    0.098765\n",
       "4500.0    0.131579\n",
       "4600.0    0.073171\n",
       "4700.0    0.068627\n",
       "4800.0    0.133333\n",
       "4900.0    0.078571\n",
       "5000.0    0.439490\n",
       "Name: toxic, dtype: float64"
      ]
     },
     "execution_count": 23,
     "metadata": {},
     "output_type": "execute_result"
    }
   ],
   "source": [
    "# Look at possible binning distribution of Percent Toxic\n",
    "data.groupby(\"lenth_binned_2\")[\"toxic\"].mean()"
   ]
  },
  {
   "cell_type": "code",
   "execution_count": 24,
   "metadata": {},
   "outputs": [
    {
     "data": {
      "image/png": "[encoded data removed]",
      "text/plain": [
       "<matplotlib.figure.Figure at 0x2318cc48ac8>"
      ]
     },
     "metadata": {},
     "output_type": "display_data"
    }
   ],
   "source": [
    "data.groupby(\"lenth_binned_2\")[\"toxic\"].mean().plot(figsize=(9,6))\n",
    "plt.title(\"Binned Length vs Percent Toxic\",fontsize=15)\n",
    "plt.ylabel(\"Percent Toxic\",fontsize=12)\n",
    "plt.xlabel(\"Binned Length (# of characters)\",fontsize=12)\n",
    "plt.show()"
   ]
  },
  {
   "cell_type": "code",
   "execution_count": 25,
   "metadata": {},
   "outputs": [
    {
     "data": {
      "text/plain": [
       "lenth_binned_2\n",
       "100.0     41575\n",
       "200.0     36611\n",
       "300.0     22590\n",
       "400.0     15027\n",
       "500.0      9741\n",
       "600.0      6783\n",
       "700.0      4973\n",
       "800.0      3692\n",
       "900.0      2897\n",
       "1000.0     2298\n",
       "1100.0     2058\n",
       "1200.0     1558\n",
       "1300.0     1224\n",
       "1400.0      992\n",
       "1500.0      873\n",
       "1600.0      759\n",
       "1700.0      606\n",
       "1800.0      452\n",
       "1900.0      460\n",
       "2000.0      347\n",
       "2100.0      339\n",
       "2200.0      251\n",
       "2300.0      237\n",
       "2400.0      211\n",
       "2500.0      179\n",
       "2600.0      155\n",
       "2700.0      167\n",
       "2800.0      143\n",
       "2900.0      124\n",
       "3000.0      149\n",
       "3100.0      114\n",
       "3200.0      128\n",
       "3300.0      106\n",
       "3400.0      121\n",
       "3500.0      101\n",
       "3600.0      104\n",
       "3700.0      101\n",
       "3800.0       96\n",
       "3900.0       98\n",
       "4000.0       90\n",
       "4100.0       88\n",
       "4200.0       74\n",
       "4300.0       79\n",
       "4400.0       81\n",
       "4500.0       76\n",
       "4600.0       82\n",
       "4700.0      102\n",
       "4800.0      120\n",
       "4900.0      140\n",
       "5000.0      157\n",
       "Name: toxic, dtype: int64"
      ]
     },
     "execution_count": 25,
     "metadata": {},
     "output_type": "execute_result"
    }
   ],
   "source": [
    "# Look at possible binning distribution of comments \n",
    "data.groupby(\"lenth_binned_2\")[\"toxic\"].count()"
   ]
  },
  {
   "cell_type": "markdown",
   "metadata": {},
   "source": [
    "### Create Bins for Comment Length"
   ]
  },
  {
   "cell_type": "code",
   "execution_count": 26,
   "metadata": {},
   "outputs": [],
   "source": [
    "def bin_length(df):\n",
    "    '''Creates a function to turn Percent Uppercase into three binned groups'''\n",
    "                        \n",
    "    col=\"comment_length\"\n",
    "    if df[col]   <100:\n",
    "        return 100\n",
    "    elif df[col] <200:\n",
    "        return 200\n",
    "    elif df[col] <300:\n",
    "        return 300\n",
    "    elif df[col] <500:\n",
    "        return 500\n",
    "    elif df[col] <2500:\n",
    "        return 2500\n",
    "    else:\n",
    "        return 4000"
   ]
  },
  {
   "cell_type": "code",
   "execution_count": 27,
   "metadata": {},
   "outputs": [],
   "source": [
    "data[\"lenth_binned\"] = data.apply(bin_length, axis=1)"
   ]
  },
  {
   "cell_type": "code",
   "execution_count": 28,
   "metadata": {},
   "outputs": [
    {
     "data": {
      "text/plain": [
       "lenth_binned\n",
       "100     0.155310\n",
       "200     0.100325\n",
       "300     0.076804\n",
       "500     0.064075\n",
       "2500    0.050018\n",
       "4000    0.099366\n",
       "Name: toxic, dtype: float64"
      ]
     },
     "execution_count": 28,
     "metadata": {},
     "output_type": "execute_result"
    }
   ],
   "source": [
    "# Look at final distribution for binned length  \n",
    "data.groupby(\"lenth_binned\")[\"toxic\"].mean()"
   ]
  },
  {
   "cell_type": "code",
   "execution_count": 29,
   "metadata": {},
   "outputs": [
    {
     "data": {
      "text/plain": [
       "lenth_binned\n",
       "100     41575\n",
       "200     36611\n",
       "300     22590\n",
       "500     24768\n",
       "2500    31189\n",
       "4000     2838\n",
       "Name: toxic, dtype: int64"
      ]
     },
     "execution_count": 29,
     "metadata": {},
     "output_type": "execute_result"
    }
   ],
   "source": [
    "# Look at final distribution for binned length  \n",
    "data.groupby(\"lenth_binned\")[\"toxic\"].count()"
   ]
  },
  {
   "cell_type": "markdown",
   "metadata": {},
   "source": [
    "Comment Length Range | Count | Percent Toxic\n",
    "--- | --- | ---\n",
    "0 <= X  < 100 | 41575 | 15.5%\n",
    "110 <=X< 200 | 36611 | 10%\n",
    "200 <=X< 300 | 22590 | 7.7%\n",
    "300 <=X< 500 | 24768 | 6.4%\n",
    "500 <=X< 2500 | 31189 | 5.0%\n",
    "2500 <= X | 2838 | 9.9%"
   ]
  },
  {
   "cell_type": "code",
   "execution_count": 30,
   "metadata": {},
   "outputs": [
    {
     "data": {
      "image/png": "[encoded data removed]",
      "text/plain": [
       "<matplotlib.figure.Figure at 0x2318feb6208>"
      ]
     },
     "metadata": {},
     "output_type": "display_data"
    }
   ],
   "source": [
    "data.groupby(\"lenth_binned\")[\"toxic\"].mean().plot(kind=\"bar\", figsize=(10.5,6.5))\n",
    "plt.ylim(0,.18)\n",
    "plt.title(\"Binned Length vs Percent Toxic\",fontsize=15)\n",
    "plt.ylabel(\"Percent Toxic\",fontsize=12)\n",
    "plt.xlabel(\"Binned Length (# of characters)\",fontsize=12)\n",
    "plt.xticks([0,1,2,3,4,5],[\"X<100\",\"100<=X<200\",\"200<=X<300\", \"300<=X<500\",\"500<=X<2.5k\", \"2.5k<=X\"],rotation=0)\n",
    "plt.show()"
   ]
  },
  {
   "cell_type": "markdown",
   "metadata": {},
   "source": [
    "## Examine log_length of length"
   ]
  },
  {
   "cell_type": "code",
   "execution_count": 31,
   "metadata": {},
   "outputs": [],
   "source": [
    "def bin_length_test2(df):\n",
    "    '''Creates a function to turn Percent Uppercase into three binned groups'''\n",
    "                        \n",
    "    col=\"length_log\"\n",
    "    for x in range(3,10,1):\n",
    "        if df[col]   <x:\n",
    "            return x"
   ]
  },
  {
   "cell_type": "code",
   "execution_count": 32,
   "metadata": {},
   "outputs": [],
   "source": [
    "data[\"log_lenth_binned\"] = data.apply(bin_length_test2, axis=1)"
   ]
  },
  {
   "cell_type": "code",
   "execution_count": 33,
   "metadata": {},
   "outputs": [
    {
     "data": {
      "text/plain": [
       "log_lenth_binned\n",
       "3    0.131349\n",
       "4    0.170071\n",
       "5    0.126759\n",
       "6    0.077530\n",
       "7    0.054863\n",
       "8    0.045410\n",
       "9    0.111215\n",
       "Name: toxic, dtype: float64"
      ]
     },
     "execution_count": 33,
     "metadata": {},
     "output_type": "execute_result"
    }
   ],
   "source": [
    "# Look at possible binning distribution of Percent Toxic\n",
    "data.groupby(\"log_lenth_binned\")[\"toxic\"].mean()"
   ]
  },
  {
   "cell_type": "code",
   "execution_count": 34,
   "metadata": {},
   "outputs": [
    {
     "data": {
      "text/plain": [
       "log_lenth_binned\n",
       "3      571\n",
       "4    19486\n",
       "5    41370\n",
       "6    54843\n",
       "7    31934\n",
       "8     9227\n",
       "9     2140\n",
       "Name: toxic, dtype: int64"
      ]
     },
     "execution_count": 34,
     "metadata": {},
     "output_type": "execute_result"
    }
   ],
   "source": [
    "data.groupby(\"log_lenth_binned\")[\"toxic\"].count()"
   ]
  },
  {
   "cell_type": "code",
   "execution_count": 35,
   "metadata": {},
   "outputs": [
    {
     "data": {
      "image/png": "[encoded data removed]",
      "text/plain": [
       "<matplotlib.figure.Figure at 0x2318fec3f28>"
      ]
     },
     "metadata": {},
     "output_type": "display_data"
    }
   ],
   "source": [
    "data.groupby(\"log_lenth_binned\")[\"toxic\"].mean().plot(kind=\"bar\", figsize=(10.5,6.5))\n",
    "plt.ylim(0,.18)\n",
    "plt.title(\"Binned Log Length vs Percent Toxic\",fontsize=15)\n",
    "plt.ylabel(\"Percent Toxic\",fontsize=12)\n",
    "plt.xlabel(\"Binned Log Length (Log of # of Characters)\",fontsize=12)\n",
    "plt.xticks([0,1,2,3,4,5,6],[\"X<3\",\"3<=X<4\",\"4<=X<5\", \"5<=X<6\",\"6<=X<7\", \"7<=X<8\",\"8<=X\"],rotation=0)\n",
    "plt.show()"
   ]
  },
  {
   "cell_type": "markdown",
   "metadata": {},
   "source": [
    "Comment Log Length Range | Count | Percent Toxic\n",
    "--- | --- | ---\n",
    "0 <= X  < 3 | 571 | 13.1%\n",
    "3 <=X< 4 | 19486 | 17%\n",
    "4 <=X< 5 | 41370 | 12.7%\n",
    "5 <=X< 6 | 54843 | 7.8%\n",
    "6 <=X< 7 | 31189 | 5.5%\n",
    "7 <=X< 8 | 9227 | 4.5%\n",
    "8<=X | 2140 | 11.1%"
   ]
  },
  {
   "cell_type": "markdown",
   "metadata": {},
   "source": [
    "## Statistical Analysis of binned features"
   ]
  },
  {
   "cell_type": "code",
   "execution_count": 36,
   "metadata": {},
   "outputs": [],
   "source": [
    "def chi_cont_func(col1,col2):\n",
    "    a=data[data[col1]==0].groupby(col2)[[col1]].count()\n",
    "    b= data[data[col1]==1].groupby(col2)[[col1]].count()\n",
    "    data_array= np.concatenate((a.values.T,b.values.T),axis=0)\n",
    "    return chi2_contingency(data_array)"
   ]
  },
  {
   "cell_type": "code",
   "execution_count": 37,
   "metadata": {},
   "outputs": [
    {
     "data": {
      "text/plain": [
       "(2844.1906350602294,\n",
       " 0.0,\n",
       " 5,\n",
       " array([[37590.26561844, 33102.03763215, 20424.87312858, 22394.12384456,\n",
       "         28199.70641909,  2565.99335719],\n",
       "        [ 3984.73438156,  3508.96236785,  2165.12687142,  2373.87615544,\n",
       "          2989.29358091,   272.00664281]]))"
      ]
     },
     "execution_count": 37,
     "metadata": {},
     "output_type": "execute_result"
    }
   ],
   "source": [
    "chi_cont_func('toxic', 'lenth_binned')"
   ]
  },
  {
   "cell_type": "code",
   "execution_count": 38,
   "metadata": {},
   "outputs": [
    {
     "data": {
      "text/plain": [
       "(2811.242671135296,\n",
       " 0.0,\n",
       " 6,\n",
       " array([[  516.2728002 , 17618.37440387, 37404.91373746, 49586.60101773,\n",
       "         28873.30227924,  8342.64295517,  1934.89280634],\n",
       "        [   54.7271998 ,  1867.62559613,  3965.08626254,  5256.39898227,\n",
       "          3060.69772076,   884.35704483,   205.10719366]]))"
      ]
     },
     "execution_count": 38,
     "metadata": {},
     "output_type": "execute_result"
    }
   ],
   "source": [
    "chi_cont_func('toxic', 'log_lenth_binned')"
   ]
  },
  {
   "cell_type": "code",
   "execution_count": 39,
   "metadata": {},
   "outputs": [
    {
     "data": {
      "text/plain": [
       "(8704.209224191574,\n",
       " 0.0,\n",
       " 3,\n",
       " array([[1.34260765e+05, 7.93034804e+03, 2.32367968e+02, 1.85351881e+03],\n",
       "        [1.42322348e+04, 8.40651961e+02, 2.46320321e+01, 1.96481190e+02]]))"
      ]
     },
     "execution_count": 39,
     "metadata": {},
     "output_type": "execute_result"
    }
   ],
   "source": [
    "chi_cont_func('toxic', 'uppercase_binned')"
   ]
  },
  {
   "cell_type": "markdown",
   "metadata": {},
   "source": [
    "#### Running a Chi-Squared test for statistical independence for the binned uppercase and length variables results in a p-value of zero. This implies that both variables are statically significant in predicting whether a topic is toxic or benign. "
   ]
  },
  {
   "cell_type": "markdown",
   "metadata": {},
   "source": [
    "## Process Binned data for Machine Learning"
   ]
  },
  {
   "cell_type": "code",
   "execution_count": 40,
   "metadata": {},
   "outputs": [],
   "source": [
    "# isolate the extra created columns using log length binned and uppercase binned\n",
    "extra_data1 = data[[\"uppercase_binned\",\"log_lenth_binned\"]].astype(str)\n",
    "\n",
    "# Use the get dummies function to turn these variables into boolian for machine learning analysis. \n",
    "extra_data = pd.get_dummies(extra_data1, drop_first=True).values"
   ]
  },
  {
   "cell_type": "markdown",
   "metadata": {},
   "source": [
    "## Process text data "
   ]
  },
  {
   "cell_type": "code",
   "execution_count": 41,
   "metadata": {},
   "outputs": [],
   "source": [
    "# Create a new column to work on the text\n",
    "data['clean_text'] = data['comment_text']"
   ]
  },
  {
   "cell_type": "code",
   "execution_count": 42,
   "metadata": {},
   "outputs": [],
   "source": [
    "# remove new line, make lower case, remove apostrophe \n",
    "\n",
    "def remove_new_line(mystring):\n",
    "    mystring = mystring.replace(\"\\n\", \" \") #  removes the new line characters \n",
    "    mystring = mystring.lower()            # turns the whole string to lower case letters \n",
    "    mystring = mystring.replace(\"'\", \"\")   # removes appostrophes \n",
    "    return(mystring)"
   ]
  },
  {
   "cell_type": "code",
   "execution_count": 43,
   "metadata": {},
   "outputs": [],
   "source": [
    "# create regex that will allow for grabing only the words in the comments\n",
    "prog = re.compile(\"[a-z]+\")\n",
    "#result = prog.findall(test_s_2)"
   ]
  },
  {
   "cell_type": "code",
   "execution_count": 44,
   "metadata": {},
   "outputs": [],
   "source": [
    "def grab_words(words):\n",
    "    '''grabs only the words from the comments and returns them in a string'''\n",
    "    return(' '.join(prog.findall(words)))"
   ]
  },
  {
   "cell_type": "code",
   "execution_count": 45,
   "metadata": {},
   "outputs": [],
   "source": [
    "def remove_stop_words(word_list):\n",
    "    new_words = []\n",
    "    for word in word_list:\n",
    "        if not word in stopwords.words('english'):\n",
    "            new_words.append(word)\n",
    "    return(new_words)"
   ]
  },
  {
   "cell_type": "markdown",
   "metadata": {},
   "source": [
    "### Run data pre-processing"
   ]
  },
  {
   "cell_type": "code",
   "execution_count": 46,
   "metadata": {},
   "outputs": [],
   "source": [
    "data[\"clean_text\"] = data[\"clean_text\"].map(remove_new_line)"
   ]
  },
  {
   "cell_type": "code",
   "execution_count": 47,
   "metadata": {},
   "outputs": [],
   "source": [
    "data[\"clean_text\"] = data[\"clean_text\"].map(grab_words)"
   ]
  },
  {
   "cell_type": "markdown",
   "metadata": {},
   "source": [
    "###  Split the data for training and testing  "
   ]
  },
  {
   "cell_type": "code",
   "execution_count": 60,
   "metadata": {},
   "outputs": [],
   "source": [
    "# Split the data for training and testing  \n",
    "y = np.array(data.toxic , dtype=int)\n",
    "X_train, X_test, Y_train, Y_test = train_test_split(data.clean_text, y, test_size=0.2, random_state=42)"
   ]
  },
  {
   "cell_type": "markdown",
   "metadata": {},
   "source": [
    "### Build a Stemmer on the words "
   ]
  },
  {
   "cell_type": "code",
   "execution_count": 49,
   "metadata": {},
   "outputs": [],
   "source": [
    "from nltk.stem.snowball import SnowballStemmer\n",
    "stemmer = SnowballStemmer(\"english\", ignore_stopwords=True)"
   ]
  },
  {
   "cell_type": "code",
   "execution_count": 50,
   "metadata": {},
   "outputs": [],
   "source": [
    "analyzers = CountVectorizer(stop_words='english').build_analyzer()\n",
    "def stemmed_words(doc):\n",
    "    return (stemmer.stem(w) for w in analyzers(doc))"
   ]
  },
  {
   "cell_type": "markdown",
   "metadata": {},
   "source": [
    "## Build ML Pipeline to Grid Search Count Vectorizer and Naive Bayes"
   ]
  },
  {
   "cell_type": "code",
   "execution_count": 64,
   "metadata": {},
   "outputs": [],
   "source": [
    "count_vec = CountVectorizer(stop_words='english', ngram_range =(1,3))\n",
    "clf_MNB = MultinomialNB()\n",
    "\n",
    "steps = [('count_vec', count_vec),\n",
    "         ('clf_MNB', clf_MNB)]\n",
    "\n",
    "p_grid = [{'count_vec__min_df': [0, 10, 15, 20], \n",
    "         'count_vec__max_df': [0.2, 0.4, 0.6, 1.0], \n",
    "         'count_vec__max_features': [10000, 15000, 20000, None]\n",
    "          , 'clf_MNB__alpha':[0.1, 1, 10]}] \n",
    "\n",
    "pipeline = Pipeline(steps)\n",
    "\n",
    "skf = StratifiedKFold(n_splits=3, shuffle=True, random_state=42)\n",
    "nb = GridSearchCV(pipeline, param_grid=p_grid, cv=skf,scoring= \"roc_auc\" ,  n_jobs=-1) "
   ]
  },
  {
   "cell_type": "code",
   "execution_count": 65,
   "metadata": {},
   "outputs": [
    {
     "data": {
      "text/plain": [
       "{'clf_MNB__alpha': 1,\n",
       " 'count_vec__max_df': 0.2,\n",
       " 'count_vec__max_features': None,\n",
       " 'count_vec__min_df': 15}"
      ]
     },
     "execution_count": 65,
     "metadata": {},
     "output_type": "execute_result"
    }
   ],
   "source": [
    "nb.fit(X_train, Y_train)\n",
    "nb.best_params_"
   ]
  },
  {
   "cell_type": "code",
   "execution_count": 66,
   "metadata": {},
   "outputs": [
    {
     "name": "stdout",
     "output_type": "stream",
     "text": [
      "Accuracy on training data: 0.956161\n",
      "Accuracy on test data:     0.935896\n",
      "AUC on test data:          0.935896\n",
      "F1 Score on test data:     0.694770\n"
     ]
    }
   ],
   "source": [
    "training_accuracy = nb.score(X_train, Y_train)\n",
    "test_accuracy = nb.score(X_test, Y_test)\n",
    "auc =  metrics.roc_auc_score(Y_test,nb.predict_proba(X_test)[:,1])\n",
    "f1score = metrics.f1_score(Y_test, nb.predict(X_test))\n",
    "\n",
    "print(\"Accuracy on training data: {:2f}\".format(training_accuracy))\n",
    "print(\"Accuracy on test data:     {:2f}\".format(test_accuracy))\n",
    "print(\"AUC on test data:          {:2f}\".format(auc))\n",
    "print(\"F1 Score on test data:     {:2f}\".format(f1score))"
   ]
  },
  {
   "cell_type": "markdown",
   "metadata": {},
   "source": [
    "#### From Grid searching we found the best hyperparameters were: alpha: 1, max_df':0.2, max_features': None, and min_df': 15"
   ]
  },
  {
   "cell_type": "markdown",
   "metadata": {},
   "source": [
    "## Run Naive Bayes Classifier "
   ]
  },
  {
   "cell_type": "markdown",
   "metadata": {},
   "source": [
    "### Add in stemmed data"
   ]
  },
  {
   "cell_type": "code",
   "execution_count": 67,
   "metadata": {},
   "outputs": [],
   "source": [
    "stem_vector = CountVectorizer(analyzer=stemmed_words, ngram_range =(1,3), max_df=0.2, max_features=None, min_df=15)\n",
    "X = stem_vector.fit_transform(data.clean_text)\n",
    "X = X.tocsc()\n",
    "y = np.array(data.toxic , dtype=int)"
   ]
  },
  {
   "cell_type": "markdown",
   "metadata": {},
   "source": [
    "### Add in the other created data columns"
   ]
  },
  {
   "cell_type": "code",
   "execution_count": 68,
   "metadata": {},
   "outputs": [],
   "source": [
    "X = hstack((X ,extra_data))\n",
    "X = X.tocsc()"
   ]
  },
  {
   "cell_type": "markdown",
   "metadata": {},
   "source": [
    "#### Continue with Test, Train Split"
   ]
  },
  {
   "cell_type": "code",
   "execution_count": 69,
   "metadata": {},
   "outputs": [],
   "source": [
    "# Split the data for training and testing  \n",
    "X_train, X_test, Y_train, Y_test = train_test_split(X, y, test_size=0.2, random_state=42)"
   ]
  },
  {
   "cell_type": "markdown",
   "metadata": {},
   "source": [
    "### Train our model using what we found above from grid search"
   ]
  },
  {
   "cell_type": "code",
   "execution_count": 70,
   "metadata": {},
   "outputs": [
    {
     "data": {
      "text/plain": [
       "MultinomialNB(alpha=1, class_prior=None, fit_prior=True)"
      ]
     },
     "execution_count": 70,
     "metadata": {},
     "output_type": "execute_result"
    }
   ],
   "source": [
    "# create an instance of the Naive Bayes classifier \n",
    "mNB = MultinomialNB(alpha=1)\n",
    "# fit the training data. \n",
    "mNB.fit(X_train, Y_train)"
   ]
  },
  {
   "cell_type": "markdown",
   "metadata": {},
   "source": [
    "### Get Scores"
   ]
  },
  {
   "cell_type": "code",
   "execution_count": 71,
   "metadata": {},
   "outputs": [
    {
     "name": "stdout",
     "output_type": "stream",
     "text": [
      "Accuracy on training data: 0.946027\n",
      "Accuracy on test data:     0.943193\n",
      "AUC on test data:          0.927640\n",
      "F1 Score on test data:     0.719480\n"
     ]
    }
   ],
   "source": [
    "training_accuracy = mNB.score(X_train, Y_train)\n",
    "test_accuracy = mNB.score(X_test, Y_test)\n",
    "auc =  metrics.roc_auc_score(Y_test,mNB.predict_proba(X_test)[:,1])\n",
    "f1score = metrics.f1_score(Y_test, mNB.predict(X_test))\n",
    "\n",
    "print(\"Accuracy on training data: {:2f}\".format(training_accuracy))\n",
    "print(\"Accuracy on test data:     {:2f}\".format(test_accuracy))\n",
    "print(\"AUC on test data:          {:2f}\".format(auc))\n",
    "print(\"F1 Score on test data:     {:2f}\".format(f1score))"
   ]
  },
  {
   "cell_type": "markdown",
   "metadata": {},
   "source": [
    "##  Apply a threshold"
   ]
  },
  {
   "cell_type": "code",
   "execution_count": 72,
   "metadata": {},
   "outputs": [
    {
     "name": "stdout",
     "output_type": "stream",
     "text": [
      "Threshold---f1-score---accuracy\n",
      "0.45 0.713420175704332 0.9407175309415635\n",
      "0.46 0.7153306918622372 0.9414695284349052\n",
      "0.47000000000000003 0.7171485390852073 0.9420648597838007\n",
      "0.48000000000000004 0.7178620795576717 0.9424408585304715\n",
      "0.49000000000000005 0.7190630297426415 0.9428795237349209\n",
      "0.5 0.7194801175924492 0.9431928560238133\n",
      "0.51 0.7214796394156046 0.9438508538304873\n",
      "0.52 0.7228388307018915 0.9444461851793827\n",
      "0.53 0.7239051954167322 0.9448848503838321\n",
      "0.54 0.724724409448819 0.9452295159016136\n",
      "0.55 0.7250039488232507 0.9454488485038384\n",
      "0.56 0.7254559873116574 0.9457621807927307\n",
      "0.5700000000000001 0.7255369928400955 0.9459501801660661\n",
      "0.5800000000000001 0.725966145001597 0.9462321792260693\n",
      "0.5900000000000001 0.7257573329059143 0.9463888453705155\n"
     ]
    }
   ],
   "source": [
    "# We see how the f1-score and the accuracy of the algorithm change with different thresholds. \n",
    "thresh_list = np.arange(0.45,0.60,0.01)  \n",
    "mNB_proba = mNB.predict_proba(X_test)[:,1]\n",
    "print(\"Threshold---f1-score---accuracy\")\n",
    "for value in thresh_list:\n",
    "    prediction = mNB_proba > value\n",
    "    f1_score_v = metrics.f1_score(Y_test,prediction)\n",
    "    total_score = metrics.accuracy_score(Y_test,prediction)\n",
    "    print(value , f1_score_v, total_score )"
   ]
  },
  {
   "cell_type": "markdown",
   "metadata": {},
   "source": [
    "#### Applying a threshold of greater than 0.55 gives the greatest F1-score of 0.725"
   ]
  },
  {
   "cell_type": "code",
   "execution_count": 73,
   "metadata": {},
   "outputs": [
    {
     "data": {
      "image/png": "[encoded data removed]",
      "text/plain": [
       "<matplotlib.figure.Figure at 0x231b5f8dd68>"
      ]
     },
     "metadata": {},
     "output_type": "display_data"
    }
   ],
   "source": [
    "# ROC CURVE \n",
    "\n",
    "y_pred_prob = mNB.predict_proba(X_test)[:,1]\n",
    "\n",
    "# Generate ROC curve values: fpr, tpr, thresholds\n",
    "fpr, tpr, thresholds = roc_curve(Y_test, y_pred_prob)\n",
    "\n",
    "# Plot ROC curve\n",
    "plt.plot([0, 1], [0, 1], 'k--')\n",
    "plt.plot(fpr, tpr)\n",
    "plt.xlabel('False Positive Rate')\n",
    "plt.ylabel('True Positive Rate')\n",
    "plt.title('ROC Curve- Naive Bayes')\n",
    "plt.show()"
   ]
  },
  {
   "cell_type": "markdown",
   "metadata": {},
   "source": [
    "# Random Forest Classifier "
   ]
  },
  {
   "cell_type": "markdown",
   "metadata": {},
   "source": [
    "###  Split the data for training and testing  "
   ]
  },
  {
   "cell_type": "code",
   "execution_count": 75,
   "metadata": {},
   "outputs": [],
   "source": [
    "# Split the data for training and testing  \n",
    "y = np.array(data.toxic , dtype=int)\n",
    "X_train, X_test, Y_train, Y_test = train_test_split(data.clean_text, y, test_size=0.2, random_state=42)"
   ]
  },
  {
   "cell_type": "markdown",
   "metadata": {},
   "source": [
    "#### Grid search count vectorizer with ML pipeline "
   ]
  },
  {
   "cell_type": "code",
   "execution_count": 76,
   "metadata": {},
   "outputs": [],
   "source": [
    "count_vec = CountVectorizer(stop_words='english', ngram_range =(1,3))\n",
    "rfc = RandomForestClassifier(n_jobs=-1, random_state = 42)\n",
    "\n",
    "steps = [('count_vec', count_vec),\n",
    "          ('rfc', rfc)]\n",
    "\n",
    "p_grid = [{'count_vec__min_df': [0, 10, 15, 20], \n",
    "         'count_vec__max_df': [0.2, 0.4, 0.6, 1.0], \n",
    "         'count_vec__max_features': [10000, 15000, 20000, None] }] \n",
    "\n",
    "pipeline = Pipeline(steps)\n",
    "\n",
    "skf = StratifiedKFold(n_splits=3, shuffle=True, random_state=42)\n",
    "nb = GridSearchCV(pipeline, param_grid=p_grid, cv=skf,scoring= \"roc_auc\" ,  n_jobs=-1) "
   ]
  },
  {
   "cell_type": "code",
   "execution_count": 77,
   "metadata": {},
   "outputs": [
    {
     "data": {
      "text/plain": [
       "{'count_vec__max_df': 0.2,\n",
       " 'count_vec__max_features': None,\n",
       " 'count_vec__min_df': 10}"
      ]
     },
     "execution_count": 77,
     "metadata": {},
     "output_type": "execute_result"
    }
   ],
   "source": [
    "nb.fit(X_train, Y_train)\n",
    "nb.best_params_"
   ]
  },
  {
   "cell_type": "code",
   "execution_count": 78,
   "metadata": {},
   "outputs": [
    {
     "name": "stdout",
     "output_type": "stream",
     "text": [
      "Accuracy on training data: 0.999682\n",
      "Accuracy on test data:     0.938614\n",
      "AUC on test data:          0.938614\n",
      "F1 Score on test data:     0.709111\n"
     ]
    }
   ],
   "source": [
    "training_accuracy = nb.score(X_train, Y_train)\n",
    "test_accuracy = nb.score(X_test, Y_test)\n",
    "auc =  metrics.roc_auc_score(Y_test,nb.predict_proba(X_test)[:,1])\n",
    "f1score = metrics.f1_score(Y_test, nb.predict(X_test))\n",
    "\n",
    "print(\"Accuracy on training data: {:2f}\".format(training_accuracy))\n",
    "print(\"Accuracy on test data:     {:2f}\".format(test_accuracy))\n",
    "print(\"AUC on test data:          {:2f}\".format(auc))\n",
    "print(\"F1 Score on test data:     {:2f}\".format(f1score))"
   ]
  },
  {
   "cell_type": "markdown",
   "metadata": {},
   "source": [
    "#### Grid search Random Forest with ML pipeline "
   ]
  },
  {
   "cell_type": "markdown",
   "metadata": {},
   "source": [
    "## put in parameters from above "
   ]
  },
  {
   "cell_type": "code",
   "execution_count": 79,
   "metadata": {},
   "outputs": [],
   "source": [
    "count_vec = CountVectorizer(stop_words='english', ngram_range =(1,3), max_df=0.2, max_features=None, min_df=10)\n",
    "rfc = RandomForestClassifier(n_jobs=-1, random_state = 42)\n",
    "\n",
    "steps = [('count_vec', count_vec),\n",
    "          ('rfc', rfc)]\n",
    "\n",
    "p_grid = [{\"rfc__max_depth\": [3, None],\n",
    "              \"rfc__max_features\": [1, 3, 10, 'auto'],\n",
    "              \"rfc__min_samples_split\": [2, 3, 10],\n",
    "              \"rfc__min_samples_leaf\": [1, 3, 10],\n",
    "              \"rfc__bootstrap\": [True, False],\n",
    "              \"rfc__criterion\": [\"gini\", \"entropy\"]}]\n",
    "\n",
    "pipeline = Pipeline(steps)\n",
    "\n",
    "skf = StratifiedKFold(n_splits=3, shuffle=True, random_state=42)\n",
    "nb = GridSearchCV(pipeline, param_grid=p_grid, cv=skf,scoring= \"roc_auc\" ,  n_jobs=-1) "
   ]
  },
  {
   "cell_type": "code",
   "execution_count": 80,
   "metadata": {},
   "outputs": [
    {
     "data": {
      "text/plain": [
       "{'rfc__bootstrap': False,\n",
       " 'rfc__criterion': 'gini',\n",
       " 'rfc__max_depth': None,\n",
       " 'rfc__max_features': 'auto',\n",
       " 'rfc__min_samples_leaf': 10,\n",
       " 'rfc__min_samples_split': 2}"
      ]
     },
     "execution_count": 80,
     "metadata": {},
     "output_type": "execute_result"
    }
   ],
   "source": [
    "nb.fit(X_train, Y_train)\n",
    "nb.best_params_"
   ]
  },
  {
   "cell_type": "code",
   "execution_count": 81,
   "metadata": {},
   "outputs": [
    {
     "name": "stdout",
     "output_type": "stream",
     "text": [
      "Accuracy on training data: 0.970732\n",
      "Accuracy on test data:     0.955986\n",
      "AUC on test data:          0.955986\n",
      "F1 Score on test data:     0.615317\n"
     ]
    }
   ],
   "source": [
    "training_accuracy = nb.score(X_train, Y_train)\n",
    "test_accuracy = nb.score(X_test, Y_test)\n",
    "auc =  metrics.roc_auc_score(Y_test,nb.predict_proba(X_test)[:,1])\n",
    "f1score = metrics.f1_score(Y_test, nb.predict(X_test))\n",
    "\n",
    "print(\"Accuracy on training data: {:2f}\".format(training_accuracy))\n",
    "print(\"Accuracy on test data:     {:2f}\".format(test_accuracy))\n",
    "print(\"AUC on test data:          {:2f}\".format(auc))\n",
    "print(\"F1 Score on test data:     {:2f}\".format(f1score))"
   ]
  },
  {
   "cell_type": "markdown",
   "metadata": {},
   "source": [
    "# Random Forest Classifier -- Stemmed Data "
   ]
  },
  {
   "cell_type": "code",
   "execution_count": null,
   "metadata": {},
   "outputs": [],
   "source": []
  },
  {
   "cell_type": "code",
   "execution_count": null,
   "metadata": {},
   "outputs": [],
   "source": []
  },
  {
   "cell_type": "code",
   "execution_count": null,
   "metadata": {},
   "outputs": [],
   "source": []
  },
  {
   "cell_type": "code",
   "execution_count": null,
   "metadata": {},
   "outputs": [],
   "source": [
    "rfc = RandomForestClassifier(n_jobs=-1, random_state = 42)\n",
    "rfc.fit(X_train_stem, y_train_stem)"
   ]
  },
  {
   "cell_type": "code",
   "execution_count": null,
   "metadata": {},
   "outputs": [],
   "source": [
    "training_accuracy = rfc.score(X_train_stem, y_train_stem)\n",
    "test_accuracy = rfc.score(X_test_stem, y_test_stem)\n",
    "\n",
    "print(\"Accuracy on training data: {:2f}\".format(training_accuracy))\n",
    "print(\"Accuracy on test data:     {:2f}\".format(test_accuracy))"
   ]
  },
  {
   "cell_type": "code",
   "execution_count": null,
   "metadata": {},
   "outputs": [],
   "source": [
    "metrics.roc_auc_score(y_test_stem,rfc.predict_proba(X_test_stem)[:,1])"
   ]
  },
  {
   "cell_type": "code",
   "execution_count": null,
   "metadata": {},
   "outputs": [],
   "source": [
    "# ROC CURVE \n",
    "\n",
    "y_pred_prob_rf = rfc.predict_proba(X_test_stem)[:,1]\n",
    "\n",
    "# Generate ROC curve values: fpr, tpr, thresholds\n",
    "fpr, tpr, thresholds = roc_curve(y_test_stem, y_pred_prob_rf)\n",
    "\n",
    "# Plot ROC curve\n",
    "plt.plot([0, 1], [0, 1], 'k--')\n",
    "plt.plot(fpr, tpr)\n",
    "plt.xlabel('False Positive Rate')\n",
    "plt.ylabel('True Positive Rate')\n",
    "plt.title('ROC Curve- Logistic Naive Bayes')\n",
    "plt.show()"
   ]
  },
  {
   "cell_type": "code",
   "execution_count": null,
   "metadata": {},
   "outputs": [],
   "source": [
    "print(metrics.f1_score(y_test_stem, rfc.predict(X_test_stem)))"
   ]
  },
  {
   "cell_type": "markdown",
   "metadata": {},
   "source": [
    "### Grid Search for Random Forest Hyperparameters "
   ]
  },
  {
   "cell_type": "code",
   "execution_count": null,
   "metadata": {},
   "outputs": [],
   "source": [
    "rfc_grid = RandomForestClassifier(n_jobs=-1, random_state = 42)\n",
    "param_grid = {\"max_depth\": [3, None],\n",
    "              \"max_features\": [1, 3, 10],\n",
    "              \"min_samples_split\": [2, 3, 10],\n",
    "              \"min_samples_leaf\": [1, 3, 10],\n",
    "              \"bootstrap\": [True, False],\n",
    "              \"criterion\": [\"gini\", \"entropy\"]}\n",
    "CV_rfc = GridSearchCV(estimator=rfc_grid, param_grid=param_grid, cv= 3, scoring= \"f1\" , n_jobs=-1)\n",
    "CV_rfc.fit(X_train_stem, y_train_stem)\n",
    "print (CV_rfc.best_params_)"
   ]
  },
  {
   "cell_type": "markdown",
   "metadata": {},
   "source": [
    "{'bootstrap': False, 'criterion': 'entropy', 'max_depth': None, 'max_features': 10, 'min_samples_leaf': 1, 'min_samples_split': 10}"
   ]
  },
  {
   "cell_type": "markdown",
   "metadata": {},
   "source": [
    "### Check on above grid search results"
   ]
  },
  {
   "cell_type": "code",
   "execution_count": null,
   "metadata": {},
   "outputs": [],
   "source": [
    "rfc_gs = RandomForestClassifier(n_jobs=-1, random_state = 42, bootstrap= False, criterion = 'entropy', max_features=10,min_samples_split=10)\n",
    "rfc_gs.fit(X_train_stem, y_train_stem)"
   ]
  },
  {
   "cell_type": "code",
   "execution_count": null,
   "metadata": {},
   "outputs": [],
   "source": [
    "training_accuracy = rfc_gs.score(X_train_stem, y_train_stem)\n",
    "test_accuracy = rfc_gs.score(X_test_stem, y_test_stem)\n",
    "\n",
    "print(\"Accuracy on training data: {:2f}\".format(training_accuracy))\n",
    "print(\"Accuracy on test data:     {:2f}\".format(test_accuracy))"
   ]
  },
  {
   "cell_type": "code",
   "execution_count": null,
   "metadata": {},
   "outputs": [],
   "source": [
    "metrics.roc_auc_score(y_test_stem,rfc_gs.predict_proba(X_test_stem)[:,1])"
   ]
  },
  {
   "cell_type": "code",
   "execution_count": null,
   "metadata": {},
   "outputs": [],
   "source": [
    "print(metrics.f1_score(y_test_stem, rfc_gs.predict(X_test_stem)))"
   ]
  },
  {
   "cell_type": "markdown",
   "metadata": {},
   "source": [
    "### Grid Search for Random Forest Hyperparameters - 2nd try "
   ]
  },
  {
   "cell_type": "markdown",
   "metadata": {},
   "source": [
    "Keep from the last grid search:  bootstrap= False, criterion = 'entropy'."
   ]
  },
  {
   "cell_type": "code",
   "execution_count": null,
   "metadata": {},
   "outputs": [],
   "source": [
    "rfc_grid2 = RandomForestClassifier(n_jobs=-1, random_state = 42,bootstrap= False, criterion = 'entropy' )\n",
    "param_grid2 = {\n",
    "              \"max_features\": [ 10,'auto' ],\n",
    "              \"min_samples_split\": [2, 10, 15],\n",
    "              \"min_samples_leaf\": [1, 10, 15] }\n",
    "CV_rfc2 = GridSearchCV(estimator=rfc_grid2, param_grid=param_grid2, cv= 3, scoring= \"f1\" , n_jobs=-1)\n",
    "CV_rfc2.fit(X_train_stem, y_train_stem)\n",
    "print (CV_rfc2.best_params_)"
   ]
  },
  {
   "cell_type": "markdown",
   "metadata": {},
   "source": [
    "results: {'max_features': 'auto', 'min_samples_leaf': 1, 'min_samples_split': 10} same as defaults execpt for min_samples_split"
   ]
  },
  {
   "cell_type": "markdown",
   "metadata": {},
   "source": [
    "#### Test of above"
   ]
  },
  {
   "cell_type": "code",
   "execution_count": null,
   "metadata": {},
   "outputs": [],
   "source": [
    "rfc_gs2 = RandomForestClassifier(n_jobs=-1, random_state = 42, bootstrap= False, criterion = 'entropy', max_features='auto',min_samples_split=10)\n",
    "rfc_gs2.fit(X_train_stem, y_train_stem)"
   ]
  },
  {
   "cell_type": "code",
   "execution_count": null,
   "metadata": {},
   "outputs": [],
   "source": [
    "training_accuracy = rfc_gs2.score(X_train_stem, y_train_stem)\n",
    "test_accuracy = rfc_gs2.score(X_test_stem, y_test_stem)\n",
    "auc =  metrics.roc_auc_score(y_test_stem,rfc_gs2.predict_proba(X_test_stem)[:,1])\n",
    "f1score = metrics.f1_score(y_test_stem, rfc_gs2.predict(X_test_stem))\n",
    "\n",
    "print(\"Accuracy on training data: {:2f}\".format(training_accuracy))\n",
    "print(\"Accuracy on test data:     {:2f}\".format(test_accuracy))\n",
    "print(\"AUC on test data:          {:2f}\".format(auc))\n",
    "print(\"F1 Score on test data:     {:2f}\".format(f1score))"
   ]
  },
  {
   "cell_type": "code",
   "execution_count": null,
   "metadata": {},
   "outputs": [],
   "source": [
    "# ROC CURVE \n",
    "\n",
    "y_pred_prob_rf = rfc_gs2.predict_proba(X_test_stem)[:,1]\n",
    "\n",
    "# Generate ROC curve values: fpr, tpr, thresholds\n",
    "fpr, tpr, thresholds = roc_curve(y_test_stem, y_pred_prob_rf)\n",
    "\n",
    "# Plot ROC curve\n",
    "plt.plot([0, 1], [0, 1], 'k--')\n",
    "plt.plot(fpr, tpr)\n",
    "plt.xlabel('False Positive Rate')\n",
    "plt.ylabel('True Positive Rate')\n",
    "plt.title('ROC Curve- Random Forest')\n",
    "plt.show()"
   ]
  },
  {
   "cell_type": "markdown",
   "metadata": {},
   "source": [
    "### Grid Search for Random Forest Hyperparameters - 3rd try "
   ]
  },
  {
   "cell_type": "code",
   "execution_count": null,
   "metadata": {},
   "outputs": [],
   "source": []
  },
  {
   "cell_type": "code",
   "execution_count": null,
   "metadata": {},
   "outputs": [],
   "source": []
  },
  {
   "cell_type": "code",
   "execution_count": null,
   "metadata": {},
   "outputs": [],
   "source": []
  },
  {
   "cell_type": "code",
   "execution_count": null,
   "metadata": {},
   "outputs": [],
   "source": []
  },
  {
   "cell_type": "markdown",
   "metadata": {},
   "source": [
    "### Most Important Features using Random Forest"
   ]
  },
  {
   "cell_type": "code",
   "execution_count": null,
   "metadata": {},
   "outputs": [],
   "source": [
    "important_feature = pd.DataFrame(rfc.feature_importances_, index = np.array(vectorizer.get_feature_names()), columns =['importance']).sort_values('importance',ascending=False)"
   ]
  },
  {
   "cell_type": "code",
   "execution_count": null,
   "metadata": {},
   "outputs": [],
   "source": [
    "important_feature[:20]"
   ]
  },
  {
   "cell_type": "code",
   "execution_count": null,
   "metadata": {},
   "outputs": [],
   "source": []
  },
  {
   "cell_type": "markdown",
   "metadata": {},
   "source": [
    "## Find strong predictive words - does not work \n",
    "###  memory error below did not run "
   ]
  },
  {
   "cell_type": "code",
   "execution_count": null,
   "metadata": {},
   "outputs": [],
   "source": [
    "X_test.shape[1]"
   ]
  },
  {
   "cell_type": "code",
   "execution_count": null,
   "metadata": {},
   "outputs": [],
   "source": [
    "words = np.array(vectorizer.get_feature_names())\n",
    "ii = np.eye(X_test.shape[1])\n",
    "probs = mNB.predict_log_proba(ii)[:,0]\n",
    "ind = np.argsort(probs)\n",
    "\n",
    "good_words = words[ind[:10]]\n",
    "bad_words = words[ind[-10:]]\n",
    "\n",
    "good_prob = probs[ind[:10]]\n",
    "bad_prob = probs[ind[-10:]]"
   ]
  },
  {
   "cell_type": "code",
   "execution_count": null,
   "metadata": {},
   "outputs": [],
   "source": []
  }
 ],
 "metadata": {
  "kernelspec": {
   "display_name": "Python 3",
   "language": "python",
   "name": "python3"
  },
  "language_info": {
   "codemirror_mode": {
    "name": "ipython",
    "version": 3
   },
   "file_extension": ".py",
   "mimetype": "text/x-python",
   "name": "python",
   "nbconvert_exporter": "python",
   "pygments_lexer": "ipython3",
   "version": "3.6.4"
  }
 },
 "nbformat": 4,
 "nbformat_minor": 2
}
