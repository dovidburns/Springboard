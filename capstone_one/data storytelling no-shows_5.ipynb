{
 "cells": [
  {
   "cell_type": "code",
   "execution_count": 1,
   "metadata": {},
   "outputs": [],
   "source": [
    "# usual imports\n",
    "import pandas as pd\n",
    "import numpy as np\n",
    "import matplotlib.pyplot as plt\n",
    "import seaborn as sns\n",
    "sns.set(style=\"whitegrid\", color_codes=True)\n",
    "%matplotlib inline"
   ]
  },
  {
   "cell_type": "code",
   "execution_count": 2,
   "metadata": {},
   "outputs": [],
   "source": [
    "# read in the data\n",
    "data = pd.read_csv(\"KaggleV2-May-2016.csv\", parse_dates=[\"AppointmentDay\", \"ScheduledDay\"])"
   ]
  },
  {
   "cell_type": "markdown",
   "metadata": {},
   "source": [
    "### Initial data cleaning "
   ]
  },
  {
   "cell_type": "code",
   "execution_count": 3,
   "metadata": {},
   "outputs": [
    {
     "name": "stdout",
     "output_type": "stream",
     "text": [
      "<class 'pandas.core.frame.DataFrame'>\n",
      "RangeIndex: 110527 entries, 0 to 110526\n",
      "Data columns (total 14 columns):\n",
      "PatientId         110527 non-null float64\n",
      "AppointmentID     110527 non-null int64\n",
      "Gender            110527 non-null object\n",
      "ScheduledDay      110527 non-null datetime64[ns]\n",
      "AppointmentDay    110527 non-null datetime64[ns]\n",
      "Age               110527 non-null int64\n",
      "Neighbourhood     110527 non-null object\n",
      "Scholarship       110527 non-null int64\n",
      "Hipertension      110527 non-null int64\n",
      "Diabetes          110527 non-null int64\n",
      "Alcoholism        110527 non-null int64\n",
      "Handcap           110527 non-null int64\n",
      "SMS_received      110527 non-null int64\n",
      "No-show           110527 non-null object\n",
      "dtypes: datetime64[ns](2), float64(1), int64(8), object(3)\n",
      "memory usage: 11.8+ MB\n"
     ]
    }
   ],
   "source": [
    "# we see we have no missing values \n",
    "data.info()"
   ]
  },
  {
   "cell_type": "code",
   "execution_count": 4,
   "metadata": {},
   "outputs": [
    {
     "data": {
      "text/html": [
       "<div>\n",
       "<style scoped>\n",
       "    .dataframe tbody tr th:only-of-type {\n",
       "        vertical-align: middle;\n",
       "    }\n",
       "\n",
       "    .dataframe tbody tr th {\n",
       "        vertical-align: top;\n",
       "    }\n",
       "\n",
       "    .dataframe thead th {\n",
       "        text-align: right;\n",
       "    }\n",
       "</style>\n",
       "<table border=\"1\" class=\"dataframe\">\n",
       "  <thead>\n",
       "    <tr style=\"text-align: right;\">\n",
       "      <th></th>\n",
       "      <th>PatientId</th>\n",
       "      <th>AppointmentID</th>\n",
       "      <th>Age</th>\n",
       "      <th>Scholarship</th>\n",
       "      <th>Hipertension</th>\n",
       "      <th>Diabetes</th>\n",
       "      <th>Alcoholism</th>\n",
       "      <th>Handcap</th>\n",
       "      <th>SMS_received</th>\n",
       "    </tr>\n",
       "  </thead>\n",
       "  <tbody>\n",
       "    <tr>\n",
       "      <th>count</th>\n",
       "      <td>1.105270e+05</td>\n",
       "      <td>1.105270e+05</td>\n",
       "      <td>110527.000000</td>\n",
       "      <td>110527.000000</td>\n",
       "      <td>110527.000000</td>\n",
       "      <td>110527.000000</td>\n",
       "      <td>110527.000000</td>\n",
       "      <td>110527.000000</td>\n",
       "      <td>110527.000000</td>\n",
       "    </tr>\n",
       "    <tr>\n",
       "      <th>mean</th>\n",
       "      <td>1.474963e+14</td>\n",
       "      <td>5.675305e+06</td>\n",
       "      <td>37.088874</td>\n",
       "      <td>0.098266</td>\n",
       "      <td>0.197246</td>\n",
       "      <td>0.071865</td>\n",
       "      <td>0.030400</td>\n",
       "      <td>0.022248</td>\n",
       "      <td>0.321026</td>\n",
       "    </tr>\n",
       "    <tr>\n",
       "      <th>std</th>\n",
       "      <td>2.560949e+14</td>\n",
       "      <td>7.129575e+04</td>\n",
       "      <td>23.110205</td>\n",
       "      <td>0.297675</td>\n",
       "      <td>0.397921</td>\n",
       "      <td>0.258265</td>\n",
       "      <td>0.171686</td>\n",
       "      <td>0.161543</td>\n",
       "      <td>0.466873</td>\n",
       "    </tr>\n",
       "    <tr>\n",
       "      <th>min</th>\n",
       "      <td>3.921784e+04</td>\n",
       "      <td>5.030230e+06</td>\n",
       "      <td>-1.000000</td>\n",
       "      <td>0.000000</td>\n",
       "      <td>0.000000</td>\n",
       "      <td>0.000000</td>\n",
       "      <td>0.000000</td>\n",
       "      <td>0.000000</td>\n",
       "      <td>0.000000</td>\n",
       "    </tr>\n",
       "    <tr>\n",
       "      <th>25%</th>\n",
       "      <td>4.172614e+12</td>\n",
       "      <td>5.640286e+06</td>\n",
       "      <td>18.000000</td>\n",
       "      <td>0.000000</td>\n",
       "      <td>0.000000</td>\n",
       "      <td>0.000000</td>\n",
       "      <td>0.000000</td>\n",
       "      <td>0.000000</td>\n",
       "      <td>0.000000</td>\n",
       "    </tr>\n",
       "    <tr>\n",
       "      <th>50%</th>\n",
       "      <td>3.173184e+13</td>\n",
       "      <td>5.680573e+06</td>\n",
       "      <td>37.000000</td>\n",
       "      <td>0.000000</td>\n",
       "      <td>0.000000</td>\n",
       "      <td>0.000000</td>\n",
       "      <td>0.000000</td>\n",
       "      <td>0.000000</td>\n",
       "      <td>0.000000</td>\n",
       "    </tr>\n",
       "    <tr>\n",
       "      <th>75%</th>\n",
       "      <td>9.439172e+13</td>\n",
       "      <td>5.725524e+06</td>\n",
       "      <td>55.000000</td>\n",
       "      <td>0.000000</td>\n",
       "      <td>0.000000</td>\n",
       "      <td>0.000000</td>\n",
       "      <td>0.000000</td>\n",
       "      <td>0.000000</td>\n",
       "      <td>1.000000</td>\n",
       "    </tr>\n",
       "    <tr>\n",
       "      <th>max</th>\n",
       "      <td>9.999816e+14</td>\n",
       "      <td>5.790484e+06</td>\n",
       "      <td>115.000000</td>\n",
       "      <td>1.000000</td>\n",
       "      <td>1.000000</td>\n",
       "      <td>1.000000</td>\n",
       "      <td>1.000000</td>\n",
       "      <td>4.000000</td>\n",
       "      <td>1.000000</td>\n",
       "    </tr>\n",
       "  </tbody>\n",
       "</table>\n",
       "</div>"
      ],
      "text/plain": [
       "          PatientId  AppointmentID            Age    Scholarship  \\\n",
       "count  1.105270e+05   1.105270e+05  110527.000000  110527.000000   \n",
       "mean   1.474963e+14   5.675305e+06      37.088874       0.098266   \n",
       "std    2.560949e+14   7.129575e+04      23.110205       0.297675   \n",
       "min    3.921784e+04   5.030230e+06      -1.000000       0.000000   \n",
       "25%    4.172614e+12   5.640286e+06      18.000000       0.000000   \n",
       "50%    3.173184e+13   5.680573e+06      37.000000       0.000000   \n",
       "75%    9.439172e+13   5.725524e+06      55.000000       0.000000   \n",
       "max    9.999816e+14   5.790484e+06     115.000000       1.000000   \n",
       "\n",
       "        Hipertension       Diabetes     Alcoholism        Handcap  \\\n",
       "count  110527.000000  110527.000000  110527.000000  110527.000000   \n",
       "mean        0.197246       0.071865       0.030400       0.022248   \n",
       "std         0.397921       0.258265       0.171686       0.161543   \n",
       "min         0.000000       0.000000       0.000000       0.000000   \n",
       "25%         0.000000       0.000000       0.000000       0.000000   \n",
       "50%         0.000000       0.000000       0.000000       0.000000   \n",
       "75%         0.000000       0.000000       0.000000       0.000000   \n",
       "max         1.000000       1.000000       1.000000       4.000000   \n",
       "\n",
       "        SMS_received  \n",
       "count  110527.000000  \n",
       "mean        0.321026  \n",
       "std         0.466873  \n",
       "min         0.000000  \n",
       "25%         0.000000  \n",
       "50%         0.000000  \n",
       "75%         1.000000  \n",
       "max         1.000000  "
      ]
     },
     "execution_count": 4,
     "metadata": {},
     "output_type": "execute_result"
    }
   ],
   "source": [
    "# we will filter nonensical data values, such as the negative value reported for a patient's age \n",
    "data.describe()"
   ]
  },
  {
   "cell_type": "code",
   "execution_count": 5,
   "metadata": {},
   "outputs": [],
   "source": [
    "# filter out negative age\n",
    "data = data[data.Age >=0]"
   ]
  },
  {
   "cell_type": "code",
   "execution_count": 6,
   "metadata": {
    "scrolled": true
   },
   "outputs": [],
   "source": [
    "# this turns the no-show variable into a binary of true or false where true means a no-show  \n",
    "data['no_show_bi'] = data[\"No-show\"]== 'Yes'"
   ]
  },
  {
   "cell_type": "code",
   "execution_count": 7,
   "metadata": {},
   "outputs": [],
   "source": [
    "# create a column that is the day of the week of the appointment \n",
    "data[\"appointment_day\"] = data[\"AppointmentDay\"].dt.weekday_name"
   ]
  },
  {
   "cell_type": "code",
   "execution_count": 8,
   "metadata": {},
   "outputs": [
    {
     "data": {
      "text/plain": [
       "Wednesday    25867\n",
       "Tuesday      25640\n",
       "Monday       22714\n",
       "Friday       19019\n",
       "Thursday     17247\n",
       "Saturday        39\n",
       "Name: appointment_day, dtype: int64"
      ]
     },
     "execution_count": 8,
     "metadata": {},
     "output_type": "execute_result"
    }
   ],
   "source": [
    "# Wednesday is the most common day of the week for an appointment, and Saturday is the least common \n",
    "data[\"appointment_day\"].value_counts()"
   ]
  },
  {
   "cell_type": "code",
   "execution_count": 9,
   "metadata": {},
   "outputs": [],
   "source": [
    "# remove the Saturday appointments since they are presumably outliers or false data\n",
    "data= data[data[\"appointment_day\"] != \"Saturday\"]"
   ]
  },
  {
   "cell_type": "code",
   "execution_count": 10,
   "metadata": {},
   "outputs": [],
   "source": [
    "# create a column for the time elapsed between when a patient scheduled the appointment and the actual start time of the appointment\n",
    "data[\"wait\"] = (data[\"AppointmentDay\"].dt.date - data[\"ScheduledDay\"].dt.date)"
   ]
  },
  {
   "cell_type": "code",
   "execution_count": 11,
   "metadata": {},
   "outputs": [
    {
     "data": {
      "text/html": [
       "<div>\n",
       "<style scoped>\n",
       "    .dataframe tbody tr th:only-of-type {\n",
       "        vertical-align: middle;\n",
       "    }\n",
       "\n",
       "    .dataframe tbody tr th {\n",
       "        vertical-align: top;\n",
       "    }\n",
       "\n",
       "    .dataframe thead th {\n",
       "        text-align: right;\n",
       "    }\n",
       "</style>\n",
       "<table border=\"1\" class=\"dataframe\">\n",
       "  <thead>\n",
       "    <tr style=\"text-align: right;\">\n",
       "      <th></th>\n",
       "      <th>PatientId</th>\n",
       "      <th>AppointmentID</th>\n",
       "      <th>Gender</th>\n",
       "      <th>ScheduledDay</th>\n",
       "      <th>AppointmentDay</th>\n",
       "      <th>Age</th>\n",
       "      <th>Neighbourhood</th>\n",
       "      <th>Scholarship</th>\n",
       "      <th>Hipertension</th>\n",
       "      <th>Diabetes</th>\n",
       "      <th>Alcoholism</th>\n",
       "      <th>Handcap</th>\n",
       "      <th>SMS_received</th>\n",
       "      <th>No-show</th>\n",
       "      <th>no_show_bi</th>\n",
       "      <th>appointment_day</th>\n",
       "      <th>wait</th>\n",
       "    </tr>\n",
       "  </thead>\n",
       "  <tbody>\n",
       "    <tr>\n",
       "      <th>27033</th>\n",
       "      <td>7.839273e+12</td>\n",
       "      <td>5679978</td>\n",
       "      <td>M</td>\n",
       "      <td>2016-05-10 10:51:53</td>\n",
       "      <td>2016-05-09</td>\n",
       "      <td>38</td>\n",
       "      <td>RESISTÊNCIA</td>\n",
       "      <td>0</td>\n",
       "      <td>0</td>\n",
       "      <td>0</td>\n",
       "      <td>0</td>\n",
       "      <td>1</td>\n",
       "      <td>0</td>\n",
       "      <td>Yes</td>\n",
       "      <td>True</td>\n",
       "      <td>Monday</td>\n",
       "      <td>-1 days</td>\n",
       "    </tr>\n",
       "    <tr>\n",
       "      <th>55226</th>\n",
       "      <td>7.896294e+12</td>\n",
       "      <td>5715660</td>\n",
       "      <td>F</td>\n",
       "      <td>2016-05-18 14:50:41</td>\n",
       "      <td>2016-05-17</td>\n",
       "      <td>19</td>\n",
       "      <td>SANTO ANTÔNIO</td>\n",
       "      <td>0</td>\n",
       "      <td>0</td>\n",
       "      <td>0</td>\n",
       "      <td>0</td>\n",
       "      <td>1</td>\n",
       "      <td>0</td>\n",
       "      <td>Yes</td>\n",
       "      <td>True</td>\n",
       "      <td>Tuesday</td>\n",
       "      <td>-1 days</td>\n",
       "    </tr>\n",
       "    <tr>\n",
       "      <th>64175</th>\n",
       "      <td>2.425226e+13</td>\n",
       "      <td>5664962</td>\n",
       "      <td>F</td>\n",
       "      <td>2016-05-05 13:43:58</td>\n",
       "      <td>2016-05-04</td>\n",
       "      <td>22</td>\n",
       "      <td>CONSOLAÇÃO</td>\n",
       "      <td>0</td>\n",
       "      <td>0</td>\n",
       "      <td>0</td>\n",
       "      <td>0</td>\n",
       "      <td>0</td>\n",
       "      <td>0</td>\n",
       "      <td>Yes</td>\n",
       "      <td>True</td>\n",
       "      <td>Wednesday</td>\n",
       "      <td>-1 days</td>\n",
       "    </tr>\n",
       "    <tr>\n",
       "      <th>71533</th>\n",
       "      <td>9.982316e+14</td>\n",
       "      <td>5686628</td>\n",
       "      <td>F</td>\n",
       "      <td>2016-05-11 13:49:20</td>\n",
       "      <td>2016-05-05</td>\n",
       "      <td>81</td>\n",
       "      <td>SANTO ANTÔNIO</td>\n",
       "      <td>0</td>\n",
       "      <td>0</td>\n",
       "      <td>0</td>\n",
       "      <td>0</td>\n",
       "      <td>0</td>\n",
       "      <td>0</td>\n",
       "      <td>Yes</td>\n",
       "      <td>True</td>\n",
       "      <td>Thursday</td>\n",
       "      <td>-6 days</td>\n",
       "    </tr>\n",
       "    <tr>\n",
       "      <th>72362</th>\n",
       "      <td>3.787482e+12</td>\n",
       "      <td>5655637</td>\n",
       "      <td>M</td>\n",
       "      <td>2016-05-04 06:50:57</td>\n",
       "      <td>2016-05-03</td>\n",
       "      <td>7</td>\n",
       "      <td>TABUAZEIRO</td>\n",
       "      <td>0</td>\n",
       "      <td>0</td>\n",
       "      <td>0</td>\n",
       "      <td>0</td>\n",
       "      <td>0</td>\n",
       "      <td>0</td>\n",
       "      <td>Yes</td>\n",
       "      <td>True</td>\n",
       "      <td>Tuesday</td>\n",
       "      <td>-1 days</td>\n",
       "    </tr>\n",
       "  </tbody>\n",
       "</table>\n",
       "</div>"
      ],
      "text/plain": [
       "          PatientId  AppointmentID Gender        ScheduledDay AppointmentDay  \\\n",
       "27033  7.839273e+12        5679978      M 2016-05-10 10:51:53     2016-05-09   \n",
       "55226  7.896294e+12        5715660      F 2016-05-18 14:50:41     2016-05-17   \n",
       "64175  2.425226e+13        5664962      F 2016-05-05 13:43:58     2016-05-04   \n",
       "71533  9.982316e+14        5686628      F 2016-05-11 13:49:20     2016-05-05   \n",
       "72362  3.787482e+12        5655637      M 2016-05-04 06:50:57     2016-05-03   \n",
       "\n",
       "       Age  Neighbourhood  Scholarship  Hipertension  Diabetes  Alcoholism  \\\n",
       "27033   38    RESISTÊNCIA            0             0         0           0   \n",
       "55226   19  SANTO ANTÔNIO            0             0         0           0   \n",
       "64175   22     CONSOLAÇÃO            0             0         0           0   \n",
       "71533   81  SANTO ANTÔNIO            0             0         0           0   \n",
       "72362    7     TABUAZEIRO            0             0         0           0   \n",
       "\n",
       "       Handcap  SMS_received No-show  no_show_bi appointment_day    wait  \n",
       "27033        1             0     Yes        True          Monday -1 days  \n",
       "55226        1             0     Yes        True         Tuesday -1 days  \n",
       "64175        0             0     Yes        True       Wednesday -1 days  \n",
       "71533        0             0     Yes        True        Thursday -6 days  \n",
       "72362        0             0     Yes        True         Tuesday -1 days  "
      ]
     },
     "execution_count": 11,
     "metadata": {},
     "output_type": "execute_result"
    }
   ],
   "source": [
    "# we will remove the 5 appointments that report a negative wait time, as this is nonsensical data \n",
    "data[data['wait'] < \"0 days\"]"
   ]
  },
  {
   "cell_type": "code",
   "execution_count": 12,
   "metadata": {},
   "outputs": [],
   "source": [
    "# drop negative wait time rows\n",
    "data = data[data['wait'] >= \"0 days\"]"
   ]
  },
  {
   "cell_type": "code",
   "execution_count": 13,
   "metadata": {},
   "outputs": [
    {
     "data": {
      "text/plain": [
       "UNIVERSITÁRIO                  152\n",
       "SEGURANÇA DO LAR               145\n",
       "NAZARETH                       135\n",
       "MORADA DE CAMBURI               96\n",
       "PONTAL DE CAMBURI               69\n",
       "ILHA DO BOI                     35\n",
       "ILHA DO FRADE                   10\n",
       "AEROPORTO                        8\n",
       "ILHAS OCEÂNICAS DE TRINDADE      2\n",
       "PARQUE INDUSTRIAL                1\n",
       "Name: Neighbourhood, dtype: int64"
      ]
     },
     "execution_count": 13,
     "metadata": {},
     "output_type": "execute_result"
    }
   ],
   "source": [
    "# neighbourhoods with fewer than 50 appointments will be treated as outliers, as this is inconsistent with the larger body of data  \n",
    "data.Neighbourhood.value_counts().tail(10)"
   ]
  },
  {
   "cell_type": "code",
   "execution_count": 14,
   "metadata": {},
   "outputs": [],
   "source": [
    "# remove outlier neighbourhoods\n",
    "remove_list = [\"ILHA DO BOI\", \"ILHA DO FRADE\", \"AEROPORTO\", \"ILHAS OCEÂNICAS DE TRINDADE\",\"PARQUE INDUSTRIAL\"]\n",
    "data= data[~data.Neighbourhood.isin(remove_list)]"
   ]
  },
  {
   "cell_type": "markdown",
   "metadata": {},
   "source": [
    "## Some interesting observations"
   ]
  },
  {
   "cell_type": "markdown",
   "metadata": {},
   "source": [
    "#### Though we have the time the appointment was scheduled, we do not have the actual time of the appointment. The time of appointment request does not seem to be a strikingly useful metric, but perhaps it is this way in order to maintain for patient privacy. "
   ]
  },
  {
   "cell_type": "code",
   "execution_count": 15,
   "metadata": {},
   "outputs": [
    {
     "data": {
      "text/plain": [
       "0.2019180265517179"
      ]
     },
     "execution_count": 15,
     "metadata": {},
     "output_type": "execute_result"
    }
   ],
   "source": [
    "# the no-show rate is the mean of the no_show_bi column \n",
    "# this will be used to compare the different features and how they relate to the no-show rate \n",
    "data.no_show_bi.mean()"
   ]
  },
  {
   "cell_type": "markdown",
   "metadata": {},
   "source": [
    "### The total no-show rate for the data set is 20.19% This is the base rate to compare with specific groups of patients. \n",
    "### We will now investigate the following question: Which variables appear to have a strong correlation to successful patient arrival for the scheduled appointment?"
   ]
  },
  {
   "cell_type": "code",
   "execution_count": 16,
   "metadata": {},
   "outputs": [
    {
     "data": {
      "text/html": [
       "<div>\n",
       "<style scoped>\n",
       "    .dataframe tbody tr th:only-of-type {\n",
       "        vertical-align: middle;\n",
       "    }\n",
       "\n",
       "    .dataframe tbody tr th {\n",
       "        vertical-align: top;\n",
       "    }\n",
       "\n",
       "    .dataframe thead th {\n",
       "        text-align: right;\n",
       "    }\n",
       "</style>\n",
       "<table border=\"1\" class=\"dataframe\">\n",
       "  <thead>\n",
       "    <tr style=\"text-align: right;\">\n",
       "      <th></th>\n",
       "      <th>no_show_bi</th>\n",
       "    </tr>\n",
       "    <tr>\n",
       "      <th>appointment_day</th>\n",
       "      <th></th>\n",
       "    </tr>\n",
       "  </thead>\n",
       "  <tbody>\n",
       "    <tr>\n",
       "      <th>Friday</th>\n",
       "      <td>0.212252</td>\n",
       "    </tr>\n",
       "    <tr>\n",
       "      <th>Monday</th>\n",
       "      <td>0.206509</td>\n",
       "    </tr>\n",
       "    <tr>\n",
       "      <th>Thursday</th>\n",
       "      <td>0.193582</td>\n",
       "    </tr>\n",
       "    <tr>\n",
       "      <th>Tuesday</th>\n",
       "      <td>0.200897</td>\n",
       "    </tr>\n",
       "    <tr>\n",
       "      <th>Wednesday</th>\n",
       "      <td>0.196860</td>\n",
       "    </tr>\n",
       "  </tbody>\n",
       "</table>\n",
       "</div>"
      ],
      "text/plain": [
       "                 no_show_bi\n",
       "appointment_day            \n",
       "Friday             0.212252\n",
       "Monday             0.206509\n",
       "Thursday           0.193582\n",
       "Tuesday            0.200897\n",
       "Wednesday          0.196860"
      ]
     },
     "execution_count": 16,
     "metadata": {},
     "output_type": "execute_result"
    }
   ],
   "source": [
    "# the day of the week that the appointment takes place does have a slight affect upon the no-show rate\n",
    "data.groupby('appointment_day')[[\"no_show_bi\"]].mean()"
   ]
  },
  {
   "cell_type": "code",
   "execution_count": 47,
   "metadata": {},
   "outputs": [
    {
     "data": {
      "image/png": "[encoded data removed]",
      "text/plain": [
       "<matplotlib.figure.Figure at 0x1a24030f2b0>"
      ]
     },
     "metadata": {},
     "output_type": "display_data"
    }
   ],
   "source": [
    "# the day of the week that the appointment takes place does have a slight affect upon the no-show rate\n",
    "data.groupby('appointment_day')[[\"no_show_bi\"]].mean().plot(kind=\"bar\")\n",
    "plt.ylim(.18,.22)\n",
    "plt.title(\"No Show Rate by Appointment Day\",fontsize=15)\n",
    "plt.ylabel(\"No Show Rate\",fontsize=12)\n",
    "plt.xlabel(\"Day of the Week\",fontsize=12)\n",
    "#plt.show()\n",
    "plt.savefig('day_of_week_plot.png') #saves the plot "
   ]
  },
  {
   "cell_type": "markdown",
   "metadata": {
    "collapsed": true
   },
   "source": [
    "#### Wednesday and Thursday have comparably-low no-show rates, while Monday and Friday have the highest no-show rates. "
   ]
  },
  {
   "cell_type": "code",
   "execution_count": 18,
   "metadata": {},
   "outputs": [
    {
     "data": {
      "text/html": [
       "<div>\n",
       "<style scoped>\n",
       "    .dataframe tbody tr th:only-of-type {\n",
       "        vertical-align: middle;\n",
       "    }\n",
       "\n",
       "    .dataframe tbody tr th {\n",
       "        vertical-align: top;\n",
       "    }\n",
       "\n",
       "    .dataframe thead th {\n",
       "        text-align: right;\n",
       "    }\n",
       "</style>\n",
       "<table border=\"1\" class=\"dataframe\">\n",
       "  <thead>\n",
       "    <tr style=\"text-align: right;\">\n",
       "      <th></th>\n",
       "      <th>no_show_bi</th>\n",
       "    </tr>\n",
       "    <tr>\n",
       "      <th>Gender</th>\n",
       "      <th></th>\n",
       "    </tr>\n",
       "  </thead>\n",
       "  <tbody>\n",
       "    <tr>\n",
       "      <th>F</th>\n",
       "      <td>0.203093</td>\n",
       "    </tr>\n",
       "    <tr>\n",
       "      <th>M</th>\n",
       "      <td>0.199736</td>\n",
       "    </tr>\n",
       "  </tbody>\n",
       "</table>\n",
       "</div>"
      ],
      "text/plain": [
       "        no_show_bi\n",
       "Gender            \n",
       "F         0.203093\n",
       "M         0.199736"
      ]
     },
     "execution_count": 18,
     "metadata": {},
     "output_type": "execute_result"
    }
   ],
   "source": [
    "data.groupby('Gender')[[\"no_show_bi\"]].mean()"
   ]
  },
  {
   "cell_type": "markdown",
   "metadata": {},
   "source": [
    "#### Comparing gender, females have a slightly higher rate of failing to arrive for the appointment, but the difference between the genders is not expected to be statistically significant."
   ]
  },
  {
   "cell_type": "code",
   "execution_count": 19,
   "metadata": {},
   "outputs": [
    {
     "data": {
      "text/plain": [
       "0    108188\n",
       "1      2039\n",
       "2       183\n",
       "3        13\n",
       "4         3\n",
       "Name: Handcap, dtype: int64"
      ]
     },
     "execution_count": 19,
     "metadata": {},
     "output_type": "execute_result"
    }
   ],
   "source": [
    "data.Handcap.value_counts()"
   ]
  },
  {
   "cell_type": "markdown",
   "metadata": {},
   "source": [
    "#### Only about 2% of all patients have any handicap. We do see below a correlation betweeen the number of handicaps and no-show rate.  "
   ]
  },
  {
   "cell_type": "code",
   "execution_count": 20,
   "metadata": {},
   "outputs": [
    {
     "data": {
      "text/html": [
       "<div>\n",
       "<style scoped>\n",
       "    .dataframe tbody tr th:only-of-type {\n",
       "        vertical-align: middle;\n",
       "    }\n",
       "\n",
       "    .dataframe tbody tr th {\n",
       "        vertical-align: top;\n",
       "    }\n",
       "\n",
       "    .dataframe thead th {\n",
       "        text-align: right;\n",
       "    }\n",
       "</style>\n",
       "<table border=\"1\" class=\"dataframe\">\n",
       "  <thead>\n",
       "    <tr style=\"text-align: right;\">\n",
       "      <th></th>\n",
       "      <th>no_show_bi</th>\n",
       "    </tr>\n",
       "    <tr>\n",
       "      <th>Handcap</th>\n",
       "      <th></th>\n",
       "    </tr>\n",
       "  </thead>\n",
       "  <tbody>\n",
       "    <tr>\n",
       "      <th>0</th>\n",
       "      <td>0.202351</td>\n",
       "    </tr>\n",
       "    <tr>\n",
       "      <th>1</th>\n",
       "      <td>0.178519</td>\n",
       "    </tr>\n",
       "    <tr>\n",
       "      <th>2</th>\n",
       "      <td>0.202186</td>\n",
       "    </tr>\n",
       "    <tr>\n",
       "      <th>3</th>\n",
       "      <td>0.230769</td>\n",
       "    </tr>\n",
       "    <tr>\n",
       "      <th>4</th>\n",
       "      <td>0.333333</td>\n",
       "    </tr>\n",
       "  </tbody>\n",
       "</table>\n",
       "</div>"
      ],
      "text/plain": [
       "         no_show_bi\n",
       "Handcap            \n",
       "0          0.202351\n",
       "1          0.178519\n",
       "2          0.202186\n",
       "3          0.230769\n",
       "4          0.333333"
      ]
     },
     "execution_count": 20,
     "metadata": {},
     "output_type": "execute_result"
    }
   ],
   "source": [
    "data.groupby('Handcap')[[\"no_show_bi\"]].mean()"
   ]
  },
  {
   "cell_type": "code",
   "execution_count": 48,
   "metadata": {},
   "outputs": [
    {
     "data": {
      "image/png": "[encoded data removed]",
      "text/plain": [
       "<matplotlib.figure.Figure at 0x1a24086d9b0>"
      ]
     },
     "metadata": {},
     "output_type": "display_data"
    }
   ],
   "source": [
    "data.groupby('Handcap')[[\"no_show_bi\"]].mean().plot(kind=\"bar\")\n",
    "plt.ylim(.16,.35)\n",
    "plt.title(\"No Show Rate by Number of Handicaps\",fontsize=15)\n",
    "plt.ylabel(\"No Show Rate\",fontsize=12)\n",
    "plt.xlabel(\"Number of Handicaps\",fontsize=12)\n",
    "plt.show()\n",
    "#plt.savefig('handicap_plot.png') #saves the plot "
   ]
  },
  {
   "cell_type": "code",
   "execution_count": 22,
   "metadata": {},
   "outputs": [
    {
     "data": {
      "text/html": [
       "<div>\n",
       "<style scoped>\n",
       "    .dataframe tbody tr th:only-of-type {\n",
       "        vertical-align: middle;\n",
       "    }\n",
       "\n",
       "    .dataframe tbody tr th {\n",
       "        vertical-align: top;\n",
       "    }\n",
       "\n",
       "    .dataframe thead th {\n",
       "        text-align: right;\n",
       "    }\n",
       "</style>\n",
       "<table border=\"1\" class=\"dataframe\">\n",
       "  <thead>\n",
       "    <tr style=\"text-align: right;\">\n",
       "      <th></th>\n",
       "      <th>no_show_bi</th>\n",
       "    </tr>\n",
       "    <tr>\n",
       "      <th>SMS_received</th>\n",
       "      <th></th>\n",
       "    </tr>\n",
       "  </thead>\n",
       "  <tbody>\n",
       "    <tr>\n",
       "      <th>0</th>\n",
       "      <td>0.166971</td>\n",
       "    </tr>\n",
       "    <tr>\n",
       "      <th>1</th>\n",
       "      <td>0.275814</td>\n",
       "    </tr>\n",
       "  </tbody>\n",
       "</table>\n",
       "</div>"
      ],
      "text/plain": [
       "              no_show_bi\n",
       "SMS_received            \n",
       "0               0.166971\n",
       "1               0.275814"
      ]
     },
     "execution_count": 22,
     "metadata": {},
     "output_type": "execute_result"
    }
   ],
   "source": [
    "data.groupby('SMS_received')[[\"no_show_bi\"]].mean()"
   ]
  },
  {
   "cell_type": "code",
   "execution_count": 49,
   "metadata": {},
   "outputs": [
    {
     "data": {
      "image/png": "[encoded data removed]",
      "text/plain": [
       "<matplotlib.figure.Figure at 0x1a2403f60f0>"
      ]
     },
     "metadata": {},
     "output_type": "display_data"
    }
   ],
   "source": [
    "data.groupby('SMS_received')[[\"no_show_bi\"]].mean().plot(kind=\"bar\")\n",
    "plt.ylim(.12,.3)\n",
    "plt.title(\"No Show Rate by SMS Received\",fontsize=15)\n",
    "plt.ylabel(\"No Show Rate\",fontsize=12)\n",
    "plt.xlabel(\"SMS Received = 1\",fontsize=12)\n",
    "plt.show()\n",
    "#plt.savefig('handicap_plot.png') #saves the plot "
   ]
  },
  {
   "cell_type": "markdown",
   "metadata": {},
   "source": [
    "####  We see a very strong correlation between receiving a SMS and failure to arrive for the appointment. This is somewhat counter-intuitive, unless recieving a text is something that patients opt into and thus there is self-selection bias towards patients that know they are more likely to miss their appointments. It certainly bears further investigation. "
   ]
  },
  {
   "cell_type": "code",
   "execution_count": 24,
   "metadata": {},
   "outputs": [
    {
     "data": {
      "text/html": [
       "<div>\n",
       "<style scoped>\n",
       "    .dataframe tbody tr th:only-of-type {\n",
       "        vertical-align: middle;\n",
       "    }\n",
       "\n",
       "    .dataframe tbody tr th {\n",
       "        vertical-align: top;\n",
       "    }\n",
       "\n",
       "    .dataframe thead th {\n",
       "        text-align: right;\n",
       "    }\n",
       "</style>\n",
       "<table border=\"1\" class=\"dataframe\">\n",
       "  <thead>\n",
       "    <tr style=\"text-align: right;\">\n",
       "      <th></th>\n",
       "      <th>no_show_bi</th>\n",
       "    </tr>\n",
       "    <tr>\n",
       "      <th>Alcoholism</th>\n",
       "      <th></th>\n",
       "    </tr>\n",
       "  </thead>\n",
       "  <tbody>\n",
       "    <tr>\n",
       "      <th>0</th>\n",
       "      <td>0.201928</td>\n",
       "    </tr>\n",
       "    <tr>\n",
       "      <th>1</th>\n",
       "      <td>0.201608</td>\n",
       "    </tr>\n",
       "  </tbody>\n",
       "</table>\n",
       "</div>"
      ],
      "text/plain": [
       "            no_show_bi\n",
       "Alcoholism            \n",
       "0             0.201928\n",
       "1             0.201608"
      ]
     },
     "execution_count": 24,
     "metadata": {},
     "output_type": "execute_result"
    }
   ],
   "source": [
    "# alcoholism does not significantly affect the no-show rate \n",
    "data.groupby('Alcoholism')[[\"no_show_bi\"]].mean()"
   ]
  },
  {
   "cell_type": "markdown",
   "metadata": {},
   "source": [
    "####  Alcoholism does not seem to affect the no-show rate. This does seem to be a surprising result. "
   ]
  },
  {
   "cell_type": "code",
   "execution_count": 25,
   "metadata": {},
   "outputs": [
    {
     "data": {
      "text/html": [
       "<div>\n",
       "<style scoped>\n",
       "    .dataframe tbody tr th:only-of-type {\n",
       "        vertical-align: middle;\n",
       "    }\n",
       "\n",
       "    .dataframe tbody tr th {\n",
       "        vertical-align: top;\n",
       "    }\n",
       "\n",
       "    .dataframe thead th {\n",
       "        text-align: right;\n",
       "    }\n",
       "</style>\n",
       "<table border=\"1\" class=\"dataframe\">\n",
       "  <thead>\n",
       "    <tr style=\"text-align: right;\">\n",
       "      <th></th>\n",
       "      <th>no_show_bi</th>\n",
       "    </tr>\n",
       "    <tr>\n",
       "      <th>Hipertension</th>\n",
       "      <th></th>\n",
       "    </tr>\n",
       "  </thead>\n",
       "  <tbody>\n",
       "    <tr>\n",
       "      <th>0</th>\n",
       "      <td>0.209013</td>\n",
       "    </tr>\n",
       "    <tr>\n",
       "      <th>1</th>\n",
       "      <td>0.173035</td>\n",
       "    </tr>\n",
       "  </tbody>\n",
       "</table>\n",
       "</div>"
      ],
      "text/plain": [
       "              no_show_bi\n",
       "Hipertension            \n",
       "0               0.209013\n",
       "1               0.173035"
      ]
     },
     "execution_count": 25,
     "metadata": {},
     "output_type": "execute_result"
    }
   ],
   "source": [
    "# hipertension was found to impact no-show rate   \n",
    "data.groupby('Hipertension')[[\"no_show_bi\"]].mean()"
   ]
  },
  {
   "cell_type": "code",
   "execution_count": 51,
   "metadata": {},
   "outputs": [
    {
     "data": {
      "image/png": "[encoded data removed]",
      "text/plain": [
       "<matplotlib.figure.Figure at 0x1a240714e48>"
      ]
     },
     "metadata": {},
     "output_type": "display_data"
    }
   ],
   "source": [
    "# hipertension was found to impact no-show rate   \n",
    "data.groupby('Hipertension')[[\"no_show_bi\"]].mean().plot(kind=\"bar\")\n",
    "plt.ylim(.15,.22)\n",
    "plt.title(\"No Show Rate by Hypertension\",fontsize=15)\n",
    "plt.ylabel(\"No Show Rate\",fontsize=12)\n",
    "plt.xlabel(\"Hypertension = 1\",fontsize=12)\n",
    "plt.show()"
   ]
  },
  {
   "cell_type": "markdown",
   "metadata": {},
   "source": [
    "#### Hipertension does seem to be inversely-correlated with the no-show rate, thus those with hipertension were more likely to arrive to their appointments. "
   ]
  },
  {
   "cell_type": "code",
   "execution_count": 27,
   "metadata": {},
   "outputs": [
    {
     "data": {
      "text/html": [
       "<div>\n",
       "<style scoped>\n",
       "    .dataframe tbody tr th:only-of-type {\n",
       "        vertical-align: middle;\n",
       "    }\n",
       "\n",
       "    .dataframe tbody tr th {\n",
       "        vertical-align: top;\n",
       "    }\n",
       "\n",
       "    .dataframe thead th {\n",
       "        text-align: right;\n",
       "    }\n",
       "</style>\n",
       "<table border=\"1\" class=\"dataframe\">\n",
       "  <thead>\n",
       "    <tr style=\"text-align: right;\">\n",
       "      <th></th>\n",
       "      <th>no_show_bi</th>\n",
       "    </tr>\n",
       "    <tr>\n",
       "      <th>Diabetes</th>\n",
       "      <th></th>\n",
       "    </tr>\n",
       "  </thead>\n",
       "  <tbody>\n",
       "    <tr>\n",
       "      <th>0</th>\n",
       "      <td>0.203614</td>\n",
       "    </tr>\n",
       "    <tr>\n",
       "      <th>1</th>\n",
       "      <td>0.180008</td>\n",
       "    </tr>\n",
       "  </tbody>\n",
       "</table>\n",
       "</div>"
      ],
      "text/plain": [
       "          no_show_bi\n",
       "Diabetes            \n",
       "0           0.203614\n",
       "1           0.180008"
      ]
     },
     "execution_count": 27,
     "metadata": {},
     "output_type": "execute_result"
    }
   ],
   "source": [
    "data.groupby('Diabetes')[[\"no_show_bi\"]].mean()"
   ]
  },
  {
   "cell_type": "code",
   "execution_count": 52,
   "metadata": {},
   "outputs": [
    {
     "data": {
      "image/png": "[encoded data removed]",
      "text/plain": [
       "<matplotlib.figure.Figure at 0x1a2409025f8>"
      ]
     },
     "metadata": {},
     "output_type": "display_data"
    }
   ],
   "source": [
    "data.groupby('Diabetes')[[\"no_show_bi\"]].mean().plot(kind=\"bar\")\n",
    "plt.ylim(.17,.21)\n",
    "plt.title(\"No Show Rate by Diabetes\",fontsize=15)\n",
    "plt.ylabel(\"No Show Rate\",fontsize=12)\n",
    "plt.xlabel(\"Diabetes = 1\",fontsize=12)\n",
    "plt.show()"
   ]
  },
  {
   "cell_type": "markdown",
   "metadata": {},
   "source": [
    "#### Diabetes was likewise inversely-correlated with the no-show rate, thus diabetic patients missed fewer appointments than patients without diabetes."
   ]
  },
  {
   "cell_type": "code",
   "execution_count": 29,
   "metadata": {},
   "outputs": [
    {
     "data": {
      "text/html": [
       "<div>\n",
       "<style scoped>\n",
       "    .dataframe tbody tr th:only-of-type {\n",
       "        vertical-align: middle;\n",
       "    }\n",
       "\n",
       "    .dataframe tbody tr th {\n",
       "        vertical-align: top;\n",
       "    }\n",
       "\n",
       "    .dataframe thead th {\n",
       "        text-align: right;\n",
       "    }\n",
       "</style>\n",
       "<table border=\"1\" class=\"dataframe\">\n",
       "  <thead>\n",
       "    <tr style=\"text-align: right;\">\n",
       "      <th></th>\n",
       "      <th>no_show_bi</th>\n",
       "    </tr>\n",
       "    <tr>\n",
       "      <th>Scholarship</th>\n",
       "      <th></th>\n",
       "    </tr>\n",
       "  </thead>\n",
       "  <tbody>\n",
       "    <tr>\n",
       "      <th>0</th>\n",
       "      <td>0.198046</td>\n",
       "    </tr>\n",
       "    <tr>\n",
       "      <th>1</th>\n",
       "      <td>0.237429</td>\n",
       "    </tr>\n",
       "  </tbody>\n",
       "</table>\n",
       "</div>"
      ],
      "text/plain": [
       "             no_show_bi\n",
       "Scholarship            \n",
       "0              0.198046\n",
       "1              0.237429"
      ]
     },
     "execution_count": 29,
     "metadata": {},
     "output_type": "execute_result"
    }
   ],
   "source": [
    "data.groupby('Scholarship')[[\"no_show_bi\"]].mean()"
   ]
  },
  {
   "cell_type": "code",
   "execution_count": 53,
   "metadata": {},
   "outputs": [
    {
     "data": {
      "image/png": "[encoded data removed]",
      "text/plain": [
       "<matplotlib.figure.Figure at 0x1a2410f80b8>"
      ]
     },
     "metadata": {},
     "output_type": "display_data"
    }
   ],
   "source": [
    "data.groupby('Scholarship')[[\"no_show_bi\"]].mean().plot(kind=\"bar\")\n",
    "plt.ylim(.18,.24)\n",
    "plt.title(\"No Show Rate by Scholarship\",fontsize=15)\n",
    "plt.ylabel(\"No Show Rate\",fontsize=12)\n",
    "plt.xlabel(\"Scholarship = 1\",fontsize=12)\n",
    "plt.show()"
   ]
  },
  {
   "cell_type": "markdown",
   "metadata": {},
   "source": [
    "#### Scholarship recipience was correlated with a higher no-show rate. "
   ]
  },
  {
   "cell_type": "code",
   "execution_count": 31,
   "metadata": {},
   "outputs": [
    {
     "data": {
      "text/html": [
       "<div>\n",
       "<style scoped>\n",
       "    .dataframe tbody tr th:only-of-type {\n",
       "        vertical-align: middle;\n",
       "    }\n",
       "\n",
       "    .dataframe tbody tr th {\n",
       "        vertical-align: top;\n",
       "    }\n",
       "\n",
       "    .dataframe thead th {\n",
       "        text-align: right;\n",
       "    }\n",
       "</style>\n",
       "<table border=\"1\" class=\"dataframe\">\n",
       "  <thead>\n",
       "    <tr style=\"text-align: right;\">\n",
       "      <th></th>\n",
       "      <th>no_show_bi</th>\n",
       "    </tr>\n",
       "    <tr>\n",
       "      <th>Neighbourhood</th>\n",
       "      <th></th>\n",
       "    </tr>\n",
       "  </thead>\n",
       "  <tbody>\n",
       "    <tr>\n",
       "      <th>ANDORINHAS</th>\n",
       "      <td>0.230327</td>\n",
       "    </tr>\n",
       "    <tr>\n",
       "      <th>ANTÔNIO HONÓRIO</th>\n",
       "      <td>0.184502</td>\n",
       "    </tr>\n",
       "    <tr>\n",
       "      <th>ARIOVALDO FAVALESSA</th>\n",
       "      <td>0.223827</td>\n",
       "    </tr>\n",
       "    <tr>\n",
       "      <th>BARRO VERMELHO</th>\n",
       "      <td>0.215130</td>\n",
       "    </tr>\n",
       "    <tr>\n",
       "      <th>BELA VISTA</th>\n",
       "      <td>0.201363</td>\n",
       "    </tr>\n",
       "    <tr>\n",
       "      <th>BENTO FERREIRA</th>\n",
       "      <td>0.224942</td>\n",
       "    </tr>\n",
       "    <tr>\n",
       "      <th>BOA VISTA</th>\n",
       "      <td>0.185897</td>\n",
       "    </tr>\n",
       "    <tr>\n",
       "      <th>BONFIM</th>\n",
       "      <td>0.198341</td>\n",
       "    </tr>\n",
       "    <tr>\n",
       "      <th>CARATOÍRA</th>\n",
       "      <td>0.229980</td>\n",
       "    </tr>\n",
       "    <tr>\n",
       "      <th>CENTRO</th>\n",
       "      <td>0.210858</td>\n",
       "    </tr>\n",
       "    <tr>\n",
       "      <th>COMDUSA</th>\n",
       "      <td>0.180645</td>\n",
       "    </tr>\n",
       "    <tr>\n",
       "      <th>CONQUISTA</th>\n",
       "      <td>0.188457</td>\n",
       "    </tr>\n",
       "    <tr>\n",
       "      <th>CONSOLAÇÃO</th>\n",
       "      <td>0.171636</td>\n",
       "    </tr>\n",
       "  </tbody>\n",
       "</table>\n",
       "</div>"
      ],
      "text/plain": [
       "                     no_show_bi\n",
       "Neighbourhood                  \n",
       "ANDORINHAS             0.230327\n",
       "ANTÔNIO HONÓRIO        0.184502\n",
       "ARIOVALDO FAVALESSA    0.223827\n",
       "BARRO VERMELHO         0.215130\n",
       "BELA VISTA             0.201363\n",
       "BENTO FERREIRA         0.224942\n",
       "BOA VISTA              0.185897\n",
       "BONFIM                 0.198341\n",
       "CARATOÍRA              0.229980\n",
       "CENTRO                 0.210858\n",
       "COMDUSA                0.180645\n",
       "CONQUISTA              0.188457\n",
       "CONSOLAÇÃO             0.171636"
      ]
     },
     "execution_count": 31,
     "metadata": {},
     "output_type": "execute_result"
    }
   ],
   "source": [
    "# a sample of the no-show rate from 15 of the 76 remaining neighbourhoods\n",
    "data.groupby('Neighbourhood')[[\"no_show_bi\"]].mean().head(13)"
   ]
  },
  {
   "cell_type": "code",
   "execution_count": 54,
   "metadata": {},
   "outputs": [
    {
     "data": {
      "image/png": "[encoded data removed]",
      "text/plain": [
       "<matplotlib.figure.Figure at 0x1a2408449b0>"
      ]
     },
     "metadata": {},
     "output_type": "display_data"
    }
   ],
   "source": [
    "# a sample of the no-show rate from 15 of the 76 remaining neighbourhoods\n",
    "data.groupby('Neighbourhood')[[\"no_show_bi\"]].mean().head(35).plot(kind=\"bar\")\n",
    "plt.ylim(.14,.27)\n",
    "plt.title(\"No Show Rate by Neighborhood\",fontsize=15)\n",
    "plt.ylabel(\"No Show Rate\",fontsize=12)\n",
    "plt.xlabel(\"Neighborhood\",fontsize=12)\n",
    "plt.show()"
   ]
  },
  {
   "cell_type": "markdown",
   "metadata": {},
   "source": [
    "#### We can see from the above that the 76 remaining neighbourhoods report a broad range of no-show rates. The minimun no-show rate by neighbourhood is 15%, and the maximum rate is 29%."
   ]
  },
  {
   "cell_type": "markdown",
   "metadata": {},
   "source": [
    "## IMPORTANT FEATURES: So far, we have found some categorical features of our dataset that should be able to help predict whether or not a patient will no-show. The strongest indicators seem to be appointment day, handicap, hipertension, diabetes, scholarship, receipt of a text reminder, and neighbourhood. "
   ]
  },
  {
   "cell_type": "markdown",
   "metadata": {},
   "source": [
    "### We will now evaluate some continuous variables to see their effect on no-show trends. "
   ]
  },
  {
   "cell_type": "code",
   "execution_count": 33,
   "metadata": {
    "scrolled": true
   },
   "outputs": [
    {
     "data": {
      "image/png": "[encoded data removed]",
      "text/plain": [
       "<matplotlib.figure.Figure at 0x1a2422b1780>"
      ]
     },
     "metadata": {},
     "output_type": "display_data"
    }
   ],
   "source": [
    "# create a plot of no-show rate by patient appointment wait time \n",
    "data.groupby('wait').mean().no_show_bi[:70].plot()\n",
    "plt.title(\"PATIENT NO-SHOW RATE vs WAIT TIME\")\n",
    "plt.ylabel(\"NO-SHOW RATE\")\n",
    "plt.xlabel(\"PATIENT WAIT TIME\")\n",
    "plt.xticks(rotation=40)\n",
    "plt.ylim(0,0.46)\n",
    "plt.show()"
   ]
  },
  {
   "cell_type": "markdown",
   "metadata": {},
   "source": [
    "#### The plot above indicates that the time elapsed between appointment booking and the appointment date, called 'patient wait time', is positivly correlated with no-show rates. The correlation increases sharply in the first 10 days of 'patient wait time', and levels off to a pretty consistent mid-30s percent no-show rate in the range of 11-23 days of 'patient wait time'. "
   ]
  },
  {
   "cell_type": "code",
   "execution_count": 34,
   "metadata": {},
   "outputs": [
    {
     "data": {
      "text/html": [
       "<div>\n",
       "<style scoped>\n",
       "    .dataframe tbody tr th:only-of-type {\n",
       "        vertical-align: middle;\n",
       "    }\n",
       "\n",
       "    .dataframe tbody tr th {\n",
       "        vertical-align: top;\n",
       "    }\n",
       "\n",
       "    .dataframe thead th {\n",
       "        text-align: right;\n",
       "    }\n",
       "</style>\n",
       "<table border=\"1\" class=\"dataframe\">\n",
       "  <thead>\n",
       "    <tr style=\"text-align: right;\">\n",
       "      <th></th>\n",
       "      <th>no_show_bi</th>\n",
       "    </tr>\n",
       "    <tr>\n",
       "      <th>wait</th>\n",
       "      <th></th>\n",
       "    </tr>\n",
       "  </thead>\n",
       "  <tbody>\n",
       "    <tr>\n",
       "      <th>0 days</th>\n",
       "      <td>0.046476</td>\n",
       "    </tr>\n",
       "    <tr>\n",
       "      <th>1 days</th>\n",
       "      <td>0.213216</td>\n",
       "    </tr>\n",
       "    <tr>\n",
       "      <th>2 days</th>\n",
       "      <td>0.238223</td>\n",
       "    </tr>\n",
       "    <tr>\n",
       "      <th>3 days</th>\n",
       "      <td>0.235445</td>\n",
       "    </tr>\n",
       "    <tr>\n",
       "      <th>4 days</th>\n",
       "      <td>0.232967</td>\n",
       "    </tr>\n",
       "  </tbody>\n",
       "</table>\n",
       "</div>"
      ],
      "text/plain": [
       "        no_show_bi\n",
       "wait              \n",
       "0 days    0.046476\n",
       "1 days    0.213216\n",
       "2 days    0.238223\n",
       "3 days    0.235445\n",
       "4 days    0.232967"
      ]
     },
     "execution_count": 34,
     "metadata": {},
     "output_type": "execute_result"
    }
   ],
   "source": [
    "data.groupby('wait')[[\"no_show_bi\"]].mean().head(5)"
   ]
  },
  {
   "cell_type": "markdown",
   "metadata": {},
   "source": [
    "#### We can clearly see above that the no-show rate for same-day appointments is very low. "
   ]
  },
  {
   "cell_type": "code",
   "execution_count": 35,
   "metadata": {
    "scrolled": true
   },
   "outputs": [
    {
     "data": {
      "image/png": "[encoded data removed]",
      "text/plain": [
       "<matplotlib.figure.Figure at 0x1a2403847b8>"
      ]
     },
     "metadata": {},
     "output_type": "display_data"
    }
   ],
   "source": [
    "# create a plot of no-show rate compared to the patients age\n",
    "data.groupby('Age').mean().no_show_bi[:65].plot()\n",
    "plt.title(\"PATIENT NO-SHOW RATE vs AGE\")\n",
    "plt.ylabel(\"NO-SHOW RATE\")\n",
    "plt.xlabel(\"PATIENT AGE\")\n",
    "plt.ylim(0,.29)\n",
    "plt.show()"
   ]
  },
  {
   "cell_type": "markdown",
   "metadata": {},
   "source": [
    "#### We can see that in pateints under 20 years old, age is positivley-correlated with no-show rate. After the age of 20, patient age is negatively-correlated with no-show rate. "
   ]
  },
  {
   "cell_type": "markdown",
   "metadata": {},
   "source": [
    "## TIME SERIES PLOTS"
   ]
  },
  {
   "cell_type": "code",
   "execution_count": 36,
   "metadata": {
    "scrolled": true
   },
   "outputs": [
    {
     "data": {
      "image/png": "[encoded data removed]",
      "text/plain": [
       "<matplotlib.figure.Figure at 0x1a240730908>"
      ]
     },
     "metadata": {},
     "output_type": "display_data"
    }
   ],
   "source": [
    "# create a plot of no-show rates over time, resampling every 5 days \n",
    "no_show_over_time = data.set_index('AppointmentDay').resample('5D').mean().no_show_bi.plot()\n",
    "plt.title(\"PATIENT NO-SHOW RATE OVER TIME\")\n",
    "plt.ylabel(\"NO-SHOW RATE\")\n",
    "plt.xlabel(\"APPOINTMENT DATE\")\n",
    "plt.ylim(0.15,.222)\n",
    "plt.show()"
   ]
  },
  {
   "cell_type": "markdown",
   "metadata": {},
   "source": [
    "#### The above graph shows that the average no-show rate increased until mid-May and then decreased. This is interesting, and looking into why such a variation would exist could be enlightening."
   ]
  },
  {
   "cell_type": "code",
   "execution_count": 37,
   "metadata": {},
   "outputs": [
    {
     "data": {
      "text/html": [
       "<div>\n",
       "<style scoped>\n",
       "    .dataframe tbody tr th:only-of-type {\n",
       "        vertical-align: middle;\n",
       "    }\n",
       "\n",
       "    .dataframe tbody tr th {\n",
       "        vertical-align: top;\n",
       "    }\n",
       "\n",
       "    .dataframe thead th {\n",
       "        text-align: right;\n",
       "    }\n",
       "</style>\n",
       "<table border=\"1\" class=\"dataframe\">\n",
       "  <thead>\n",
       "    <tr style=\"text-align: right;\">\n",
       "      <th></th>\n",
       "      <th>no_show_bi</th>\n",
       "    </tr>\n",
       "    <tr>\n",
       "      <th>AppointmentDay</th>\n",
       "      <th></th>\n",
       "    </tr>\n",
       "  </thead>\n",
       "  <tbody>\n",
       "    <tr>\n",
       "      <th>2016-04-30</th>\n",
       "      <td>0.195605</td>\n",
       "    </tr>\n",
       "    <tr>\n",
       "      <th>2016-05-31</th>\n",
       "      <td>0.207851</td>\n",
       "    </tr>\n",
       "    <tr>\n",
       "      <th>2016-06-30</th>\n",
       "      <td>0.184569</td>\n",
       "    </tr>\n",
       "  </tbody>\n",
       "</table>\n",
       "</div>"
      ],
      "text/plain": [
       "                no_show_bi\n",
       "AppointmentDay            \n",
       "2016-04-30        0.195605\n",
       "2016-05-31        0.207851\n",
       "2016-06-30        0.184569"
      ]
     },
     "execution_count": 37,
     "metadata": {},
     "output_type": "execute_result"
    }
   ],
   "source": [
    "data_by_month = data.set_index('AppointmentDay').resample('1M')[[\"no_show_bi\"]].mean()\n",
    "data_by_month"
   ]
  },
  {
   "cell_type": "markdown",
   "metadata": {},
   "source": [
    "#### The above shows that May, on average, had more no-shows than April or June. This is an odd observation, and it would be interesting to see if something important occured external to this data that would cause such a shift by month. Also, it would be great if we had more of a timespan to investigate if this occurs on a yearly basis or monthly cycles.  "
   ]
  },
  {
   "cell_type": "markdown",
   "metadata": {},
   "source": [
    "## In Conclusion, we have shown that many of the variables from this data set can be strong indicators of the likelihood of patient no-show to an appointment with a physician. We found some variables like alcoholism and gender to be incosequential, while others, such as receiving an SMS reminder, are surprisingly highly-correlated to no-show rate. "
   ]
  }
 ],
 "metadata": {
  "kernelspec": {
   "display_name": "Python 3",
   "language": "python",
   "name": "python3"
  },
  "language_info": {
   "codemirror_mode": {
    "name": "ipython",
    "version": 3
   },
   "file_extension": ".py",
   "mimetype": "text/x-python",
   "name": "python",
   "nbconvert_exporter": "python",
   "pygments_lexer": "ipython3",
   "version": "3.6.4"
  }
 },
 "nbformat": 4,
 "nbformat_minor": 2
}
