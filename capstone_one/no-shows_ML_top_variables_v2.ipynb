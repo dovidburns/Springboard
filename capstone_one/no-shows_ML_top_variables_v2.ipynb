{
 "cells": [
  {
   "cell_type": "code",
   "execution_count": 1,
   "metadata": {
    "collapsed": true
   },
   "outputs": [],
   "source": [
    "# usual imports\n",
    "import pandas as pd\n",
    "import numpy as np\n",
    "import matplotlib.pyplot as plt\n",
    "import seaborn as sns\n",
    "sns.set(style=\"whitegrid\", color_codes=True)\n",
    "%matplotlib inline\n",
    "import datetime as dt\n",
    "from  scipy.stats import chisquare\n",
    "from scipy.stats import chi2_contingency\n",
    "\n",
    "\n",
    "# stats tests \n",
    "from scipy.stats import ttest_ind\n",
    "\n",
    "# ml imports\n",
    "from sklearn.linear_model import LogisticRegressionCV\n",
    "from sklearn.model_selection import train_test_split\n",
    "from sklearn.pipeline import Pipeline\n",
    "from sklearn.svm import SVC\n",
    "from sklearn.linear_model import LogisticRegression\n",
    "from sklearn.model_selection import GridSearchCV\n",
    "from sklearn.tree import DecisionTreeClassifier\n",
    "from sklearn.model_selection import RandomizedSearchCV\n",
    "from sklearn.neighbors import KNeighborsClassifier \n",
    "from sklearn.metrics import classification_report\n",
    "from sklearn.ensemble import RandomForestClassifier\n",
    "\n",
    "from sklearn import metrics\n",
    "from sklearn.metrics import roc_curve\n",
    "from sklearn.model_selection import KFold\n",
    "from sklearn.model_selection import cross_val_score\n",
    "from sklearn.model_selection import cross_val_predict\n",
    "from sklearn.metrics import recall_score\n",
    "from sklearn.metrics import accuracy_score\n",
    "\n",
    "from imblearn.over_sampling import SMOTE\n",
    "from imblearn.pipeline import make_pipeline\n",
    "from imblearn.combine import SMOTEENN, SMOTETomek\n",
    "from imblearn import datasets"
   ]
  },
  {
   "cell_type": "code",
   "execution_count": 2,
   "metadata": {
    "collapsed": true
   },
   "outputs": [],
   "source": [
    "# read in the data\n",
    "data = pd.read_csv(\"KaggleV2-May-2016.csv\", parse_dates=[\"AppointmentDay\", \"ScheduledDay\"])"
   ]
  },
  {
   "cell_type": "markdown",
   "metadata": {},
   "source": [
    "### Initial data cleaning\n",
    "###### For details see other notebooks"
   ]
  },
  {
   "cell_type": "code",
   "execution_count": 3,
   "metadata": {
    "collapsed": true
   },
   "outputs": [],
   "source": [
    "# filter out negative age\n",
    "data = data[data.Age >=0]\n",
    "\n",
    "# This turns the No-show variable into a binary of true or false where true means a no-show.  \n",
    "data['no_show_bi'] = data[\"No-show\"]== 'Yes'\n",
    "\n",
    "# Create a column that is the day of the week of the appointment \n",
    "data[\"appointment_day\"] = data[\"AppointmentDay\"].dt.weekday_name\n",
    "\n",
    "# Remove the Saturday appointments as they are clearly outliers. \n",
    "data= data[data[\"appointment_day\"] != \"Saturday\"]\n",
    "\n",
    "# create a column for the time between when a patient scheduled the appointment to the appointment.\n",
    "data[\"wait\"] = (data[\"AppointmentDay\"].dt.date - data[\"ScheduledDay\"].dt.date)\n",
    "\n",
    "# drop negative wait time rows. \n",
    "data = data[data['wait'] >= \"0 days\"]\n",
    "\n",
    "# remove outlier neighbourhoods\n",
    "remove_list = [\"ILHA DO BOI\", \"ILHA DO FRADE\", \"AEROPORTO\", \"ILHAS OCEÂNICAS DE TRINDADE\",\"PARQUE INDUSTRIAL\"]\n",
    "data= data[~data.Neighbourhood.isin(remove_list)]"
   ]
  },
  {
   "cell_type": "markdown",
   "metadata": {},
   "source": [
    "## Implement Binning System \n",
    "### Age Binning"
   ]
  },
  {
   "cell_type": "code",
   "execution_count": 4,
   "metadata": {
    "collapsed": true
   },
   "outputs": [],
   "source": [
    "def bin_age(df):\n",
    "    '''Creates a function to turn age into 6 groups of binned ages.'''\n",
    "                        # bin ranges 0-3, 4-7, 8-27, 28-40, 41-60, 61 < \n",
    "    if df[\"Age\"] <4:\n",
    "        return 2\n",
    "    elif df[\"Age\"] <8:\n",
    "        return 5\n",
    "    elif df[\"Age\"] <28:\n",
    "        return 16\n",
    "    elif df[\"Age\"] <41:\n",
    "        return 34\n",
    "    elif df[\"Age\"] <61:\n",
    "        return 51\n",
    "    else:\n",
    "        return 70"
   ]
  },
  {
   "cell_type": "code",
   "execution_count": 5,
   "metadata": {
    "collapsed": true
   },
   "outputs": [],
   "source": [
    "# apply binning function\n",
    "data[\"Age_Binned\"]= data.apply(bin_age, axis=1)"
   ]
  },
  {
   "cell_type": "markdown",
   "metadata": {},
   "source": [
    "### Wait time binning"
   ]
  },
  {
   "cell_type": "code",
   "execution_count": 6,
   "metadata": {
    "collapsed": true
   },
   "outputs": [],
   "source": [
    "# turn wait time from time delta to an int\n",
    "data[\"days_waiting\"] = data[\"wait\"].dt.days"
   ]
  },
  {
   "cell_type": "code",
   "execution_count": 7,
   "metadata": {
    "collapsed": true
   },
   "outputs": [],
   "source": [
    "def bin_wait_time(df):\n",
    "    '''Creates a function to turn wait_time into 5 groups of binned wait times .'''\n",
    "                        # bin ranges 0, 1, 2-4, 5-9, 10 < \n",
    "    col=\"days_waiting\"\n",
    "    if df[col]   <1:\n",
    "        return 0\n",
    "    elif df[col] <2:\n",
    "        return 1\n",
    "    elif df[col] <5:\n",
    "        return 3\n",
    "    elif df[col] <10:\n",
    "        return 7\n",
    "    else:\n",
    "        return 15"
   ]
  },
  {
   "cell_type": "code",
   "execution_count": 13,
   "metadata": {
    "collapsed": true
   },
   "outputs": [],
   "source": [
    "# Apply the binning function. \n",
    "data[\"Wait_Binned\"]= data.apply(bin_wait_time, axis=1)"
   ]
  },
  {
   "cell_type": "markdown",
   "metadata": {},
   "source": [
    "# MACHINE LEARNING SECTION"
   ]
  },
  {
   "cell_type": "markdown",
   "metadata": {},
   "source": [
    "## Wrangle the data into a form where ml can be applied"
   ]
  },
  {
   "cell_type": "markdown",
   "metadata": {},
   "source": [
    "#### We will run the follow ml algorithms on the best features in our data."
   ]
  },
  {
   "cell_type": "code",
   "execution_count": 14,
   "metadata": {
    "scrolled": false
   },
   "outputs": [
    {
     "data": {
      "text/html": [
       "<div>\n",
       "<style>\n",
       "    .dataframe thead tr:only-child th {\n",
       "        text-align: right;\n",
       "    }\n",
       "\n",
       "    .dataframe thead th {\n",
       "        text-align: left;\n",
       "    }\n",
       "\n",
       "    .dataframe tbody tr th {\n",
       "        vertical-align: top;\n",
       "    }\n",
       "</style>\n",
       "<table border=\"1\" class=\"dataframe\">\n",
       "  <thead>\n",
       "    <tr style=\"text-align: right;\">\n",
       "      <th></th>\n",
       "      <th>SMS_received</th>\n",
       "      <th>Age_Binned</th>\n",
       "      <th>Wait_Binned</th>\n",
       "      <th>Neighbourhood</th>\n",
       "    </tr>\n",
       "    <tr>\n",
       "      <th>AppointmentID</th>\n",
       "      <th></th>\n",
       "      <th></th>\n",
       "      <th></th>\n",
       "      <th></th>\n",
       "    </tr>\n",
       "  </thead>\n",
       "  <tbody>\n",
       "    <tr>\n",
       "      <th>5642903</th>\n",
       "      <td>0</td>\n",
       "      <td>70</td>\n",
       "      <td>0</td>\n",
       "      <td>JARDIM DA PENHA</td>\n",
       "    </tr>\n",
       "    <tr>\n",
       "      <th>5642503</th>\n",
       "      <td>0</td>\n",
       "      <td>51</td>\n",
       "      <td>0</td>\n",
       "      <td>JARDIM DA PENHA</td>\n",
       "    </tr>\n",
       "  </tbody>\n",
       "</table>\n",
       "</div>"
      ],
      "text/plain": [
       "               SMS_received Age_Binned Wait_Binned    Neighbourhood\n",
       "AppointmentID                                                      \n",
       "5642903                   0         70           0  JARDIM DA PENHA\n",
       "5642503                   0         51           0  JARDIM DA PENHA"
      ]
     },
     "execution_count": 14,
     "metadata": {},
     "output_type": "execute_result"
    }
   ],
   "source": [
    "# Run cell to run ML on only the best predictor variables.\n",
    "X_create= data.set_index(\"AppointmentID\")[[\"SMS_received\",\"Age_Binned\", \"Wait_Binned\",\"Neighbourhood\"]]\n",
    "X_create[\"Age_Binned\"]=X_create[\"Age_Binned\"].astype(str)\n",
    "X_create[\"Wait_Binned\"]=X_create[\"Wait_Binned\"].astype(str)\n",
    "y_create = data.set_index(\"AppointmentID\")[[\"No-show\"]]\n",
    "y_create[\"No-show\"][y_create[\"No-show\"]==\"Yes\"] = 1\n",
    "y_create[\"No-show\"][y_create[\"No-show\"]==\"No\"]  = 0\n",
    "X_create.head(2)"
   ]
  },
  {
   "cell_type": "code",
   "execution_count": 15,
   "metadata": {
    "collapsed": true
   },
   "outputs": [],
   "source": [
    "# make the categorical variables into bool columns, drop the first to avoid redundancy. \n",
    "X = pd.get_dummies(X_create, drop_first=True).values\n",
    "\n",
    "# This puts the y values which are our targets into the correct format for ml \n",
    "y = np.array(list(y_create[\"No-show\"]))"
   ]
  },
  {
   "cell_type": "markdown",
   "metadata": {},
   "source": [
    "## Rebalance the data with SMOTE"
   ]
  },
  {
   "cell_type": "code",
   "execution_count": 30,
   "metadata": {
    "collapsed": true
   },
   "outputs": [],
   "source": [
    "# we split the data at this point to set aside 10% of the data for model evaluation\n",
    "X_train, X_test, y_train, y_test = train_test_split(X, y, test_size = 0.1, random_state=12)\n",
    "\n",
    "# split the data again for independent data to rebalance. \n",
    "X_train2, X_test2, y_train2, y_test2 = train_test_split(X_train, y_train, test_size = .1, random_state=12)\n",
    "\n",
    "# run the rebalancing algorithm on data. \n",
    "smote = SMOTE(random_state=12 , ratio='minority') \n",
    "x_train_res, y_train_res = smote.fit_sample(X_train2, y_train2)"
   ]
  },
  {
   "cell_type": "markdown",
   "metadata": {},
   "source": [
    "### Logistic Regression "
   ]
  },
  {
   "cell_type": "code",
   "execution_count": 16,
   "metadata": {},
   "outputs": [],
   "source": [
    "# we split the data at this point to set aside 20% of the data for model evaluation\n",
    "X_train, X_test, y_train, y_test = train_test_split(X, y, test_size = 0.2, random_state=12)"
   ]
  },
  {
   "cell_type": "code",
   "execution_count": 17,
   "metadata": {},
   "outputs": [
    {
     "name": "stderr",
     "output_type": "stream",
     "text": [
      "C:\\Users\\dovidb\\AppData\\Local\\Continuum\\anaconda3\\lib\\site-packages\\sklearn\\metrics\\classification.py:1135: UndefinedMetricWarning: F-score is ill-defined and being set to 0.0 due to no predicted samples.\n",
      "  'precision', 'predicted', average, warn_for)\n"
     ]
    }
   ],
   "source": [
    "# run logistic regression with cross validation on the top variables. \n",
    "searchCV = LogisticRegressionCV(cv=10, scoring = 'f1')\n",
    "searchCV.fit(X_train, y_train)\n",
    "y_pred_LR = searchCV.predict(X_test)"
   ]
  },
  {
   "cell_type": "code",
   "execution_count": 18,
   "metadata": {
    "scrolled": true
   },
   "outputs": [
    {
     "name": "stdout",
     "output_type": "stream",
     "text": [
      "0.0123702231058\n"
     ]
    }
   ],
   "source": [
    "print(metrics.f1_score(y_test, y_pred_LR))\n",
    "# We have predicted almost no no-shows with Logistic Regression, f1-score is 0.01"
   ]
  },
  {
   "cell_type": "code",
   "execution_count": 20,
   "metadata": {
    "scrolled": true
   },
   "outputs": [
    {
     "name": "stdout",
     "output_type": "stream",
     "text": [
      "0.446428571429\n"
     ]
    }
   ],
   "source": [
    "# we see that the with a lower threshold of 0.21 we get a much better f1-score\n",
    "y_pred_prob_LR = searchCV.predict_proba(X_test)[:,1] >.21\n",
    "print(metrics.f1_score(y_test, y_pred_prob_LR))"
   ]
  },
  {
   "cell_type": "code",
   "execution_count": 21,
   "metadata": {},
   "outputs": [
    {
     "data": {
      "text/plain": [
       "0.59014760481753148"
      ]
     },
     "execution_count": 21,
     "metadata": {},
     "output_type": "execute_result"
    }
   ],
   "source": [
    "# we don't have a great a accuracy. \n",
    "accuracy_score(y_test,y_pred_prob_LR)"
   ]
  },
  {
   "cell_type": "code",
   "execution_count": 22,
   "metadata": {},
   "outputs": [
    {
     "data": {
      "text/plain": [
       "0.72522287586588163"
      ]
     },
     "execution_count": 22,
     "metadata": {},
     "output_type": "execute_result"
    }
   ],
   "source": [
    "# we have a decent AUC of 0.725 \n",
    "metrics.roc_auc_score(y_test,searchCV.predict_proba(X_test)[:,1])"
   ]
  },
  {
   "cell_type": "code",
   "execution_count": 23,
   "metadata": {},
   "outputs": [
    {
     "data": {
      "image/png": "[encoded data removed]",
      "text/plain": [
       "<matplotlib.figure.Figure at 0x2849a044ef0>"
      ]
     },
     "metadata": {},
     "output_type": "display_data"
    }
   ],
   "source": [
    "y_pred_prob = searchCV.predict_proba(X_test)[:,1]\n",
    "\n",
    "# Generate ROC curve values: fpr, tpr, thresholds\n",
    "fpr, tpr, thresholds = roc_curve(y_test, y_pred_prob)\n",
    "\n",
    "# Plot ROC curve\n",
    "plt.plot([0, 1], [0, 1], 'k--')\n",
    "plt.plot(fpr, tpr)\n",
    "plt.xlabel('False Positive Rate')\n",
    "plt.ylabel('True Positive Rate')\n",
    "plt.title('ROC Curve- Logistic Regression')\n",
    "plt.show()"
   ]
  },
  {
   "cell_type": "markdown",
   "metadata": {},
   "source": [
    "## Logistic Regression with rebalanced data"
   ]
  },
  {
   "cell_type": "code",
   "execution_count": 31,
   "metadata": {
    "collapsed": true
   },
   "outputs": [],
   "source": [
    "# we split the data at this point to set aside 10% of the data for model evaluation\n",
    "X_train, X_test, y_train, y_test = train_test_split(X, y, test_size = 0.2, random_state=12)\n",
    "\n",
    "# split the data again for independent data to rebalance. \n",
    "X_train2, X_test2, y_train2, y_test2 = train_test_split(X_train, y_train, test_size = .1, random_state=12)\n",
    "\n",
    "# run the rebalancing algorithm on data. \n",
    "smote = SMOTE(random_state=12 , ratio='minority') \n",
    "x_train_res, y_train_res = smote.fit_sample(X_train2, y_train2)"
   ]
  },
  {
   "cell_type": "code",
   "execution_count": 32,
   "metadata": {
    "collapsed": true
   },
   "outputs": [],
   "source": [
    "# run logistical regression with built in cross validation, maximizing f1-score, on the rebalanced data\n",
    "searchCV_SMOTE = LogisticRegressionCV(cv=10, scoring= \"f1\")\n",
    "searchCV_SMOTE.fit(x_train_res, y_train_res)\n",
    "y_pred_LR = searchCV_SMOTE.predict(X_test)"
   ]
  },
  {
   "cell_type": "code",
   "execution_count": 33,
   "metadata": {},
   "outputs": [
    {
     "name": "stdout",
     "output_type": "stream",
     "text": [
      "0.44608801956\n"
     ]
    }
   ],
   "source": [
    "# We see that the rebalanced data has a better f1-score with the regular threshold of 0.5 \n",
    "print(metrics.f1_score(y_test, searchCV_SMOTE.predict(X_test)))"
   ]
  },
  {
   "cell_type": "code",
   "execution_count": 34,
   "metadata": {},
   "outputs": [
    {
     "data": {
      "text/plain": [
       "0.72400725923010145"
      ]
     },
     "execution_count": 34,
     "metadata": {},
     "output_type": "execute_result"
    }
   ],
   "source": [
    "metrics.roc_auc_score(y_test,searchCV_SMOTE.predict_proba(X_test)[:,1])"
   ]
  },
  {
   "cell_type": "code",
   "execution_count": 35,
   "metadata": {
    "scrolled": true
   },
   "outputs": [
    {
     "name": "stdout",
     "output_type": "stream",
     "text": [
      "Threshold---f1-score---accuracy\n",
      "0.42 0.439620377441 0.534818437019\n",
      "0.43 0.440402264109 0.538938694195\n",
      "0.44 0.439789997237 0.541021461559\n",
      "0.45 0.441017559658 0.550303359594\n",
      "0.46 0.442361547694 0.558226931088\n",
      "0.47 0.443320544123 0.566422167889\n",
      "0.48 0.444038212053 0.573123245495\n",
      "0.49 0.446046623408 0.582540976184\n",
      "0.5 0.44608801956 0.589694829304\n",
      "0.51 0.445881255828 0.596441184461\n",
      "0.52 0.444430135222 0.609345286607\n",
      "0.53 0.444840327263 0.619034682604\n",
      "0.54 0.440800710528 0.629403241873\n"
     ]
    }
   ],
   "source": [
    "# We see how the f1-score and the accuracy of the algorithm change with different thresholds. \n",
    "thresh_list = np.arange(0.42,0.54,0.01)  \n",
    "lr_cv_proba = searchCV_SMOTE.predict_proba(X_test)[:,1]\n",
    "print(\"Threshold---f1-score---accuracy\")\n",
    "for value in thresh_list:\n",
    "    prediction = lr_cv_proba > value\n",
    "    f1_score_v = metrics.f1_score(y_test,prediction)\n",
    "    total_score = metrics.accuracy_score(y_test,prediction)\n",
    "    print(value , f1_score_v, total_score )"
   ]
  },
  {
   "cell_type": "code",
   "execution_count": 36,
   "metadata": {},
   "outputs": [
    {
     "data": {
      "image/png": "[encoded data removed]",
      "text/plain": [
       "<matplotlib.figure.Figure at 0x2849bfce0f0>"
      ]
     },
     "metadata": {},
     "output_type": "display_data"
    }
   ],
   "source": [
    "# Generate ROC curve values: fpr, tpr, thresholds - rebalanced data \n",
    "fpr, tpr, thresholds = roc_curve(y_test, lr_cv_proba)\n",
    "\n",
    "# Plot ROC curve\n",
    "plt.plot([0, 1], [0, 1], 'k--')\n",
    "plt.plot(fpr, tpr)\n",
    "plt.xlabel('False Positive Rate')\n",
    "plt.ylabel('True Positive Rate')\n",
    "plt.title('ROC Curve- Logistic Regression')\n",
    "plt.show()"
   ]
  },
  {
   "cell_type": "markdown",
   "metadata": {},
   "source": [
    "## Impliment K-nearest neighbors Classifier"
   ]
  },
  {
   "cell_type": "code",
   "execution_count": 37,
   "metadata": {
    "collapsed": true
   },
   "outputs": [],
   "source": [
    "# we split the data at this point to set aside 20% of the data for model evaluation\n",
    "X_train, X_test, y_train, y_test = train_test_split(X, y, test_size = 0.2, random_state=12)"
   ]
  },
  {
   "cell_type": "code",
   "execution_count": 38,
   "metadata": {
    "collapsed": true
   },
   "outputs": [],
   "source": [
    "# run with the top variables \n",
    "knn = KNeighborsClassifier(n_jobs=-1 ).fit(X_train, y_train)\n",
    "knn.score(X_test,y_test)\n",
    "y_pred_knn = knn.predict(X_test)"
   ]
  },
  {
   "cell_type": "code",
   "execution_count": 39,
   "metadata": {},
   "outputs": [
    {
     "data": {
      "text/plain": [
       "0.6489625118354595"
      ]
     },
     "execution_count": 39,
     "metadata": {},
     "output_type": "execute_result"
    }
   ],
   "source": [
    "metrics.roc_auc_score(y_test,knn.predict_proba(X_test)[:,1])"
   ]
  },
  {
   "cell_type": "code",
   "execution_count": 40,
   "metadata": {},
   "outputs": [
    {
     "data": {
      "text/plain": [
       "0.24541809851088203"
      ]
     },
     "execution_count": 40,
     "metadata": {},
     "output_type": "execute_result"
    }
   ],
   "source": [
    "# the default f1-score is higher for knn than logistical regression without a threshold or rebalancing\n",
    "metrics.f1_score(y_test, y_pred_knn)"
   ]
  },
  {
   "cell_type": "markdown",
   "metadata": {},
   "source": [
    "### Grid Search to find best number of neighbors"
   ]
  },
  {
   "cell_type": "code",
   "execution_count": 98,
   "metadata": {},
   "outputs": [
    {
     "data": {
      "text/plain": [
       "{'n_neighbors': 18}"
      ]
     },
     "execution_count": 98,
     "metadata": {},
     "output_type": "execute_result"
    }
   ],
   "source": [
    "param_grid = {'n_neighbors':np.arange(4,20)}\n",
    "knn = KNeighborsClassifier(n_jobs=-1)\n",
    "knn_cv = GridSearchCV(knn, param_grid, cv=3,scoring= \"f1\")\n",
    "knn_cv.fit(X_train,y_train)\n",
    "knn_cv.best_params_"
   ]
  },
  {
   "cell_type": "code",
   "execution_count": 42,
   "metadata": {
    "collapsed": true
   },
   "outputs": [],
   "source": [
    "# Re-run with 18 neighbors  \n",
    "knn = KNeighborsClassifier(n_neighbors=18, n_jobs=-1 ).fit(X_train, y_train)\n",
    "knn.score(X_test,y_test)\n",
    "y_pred_knn = knn.predict(X_test)"
   ]
  },
  {
   "cell_type": "code",
   "execution_count": 44,
   "metadata": {},
   "outputs": [
    {
     "name": "stdout",
     "output_type": "stream",
     "text": [
      "0.11 0.410514654044 0.469980983428\n",
      "0.12 0.424256163219 0.540025355429\n",
      "0.13 0.424256163219 0.540025355429\n",
      "0.14 0.424256163219 0.540025355429\n",
      "0.15 0.424256163219 0.540025355429\n",
      "0.16 0.424256163219 0.540025355429\n",
      "0.17 0.424190463629 0.604681698814\n",
      "0.18 0.424190463629 0.604681698814\n",
      "0.19 0.424190463629 0.604681698814\n",
      "0.2 0.424190463629 0.604681698814\n",
      "0.21 0.424190463629 0.604681698814\n",
      "0.22 0.424190463629 0.604681698814\n",
      "0.23 0.412384195107 0.663995291135\n"
     ]
    }
   ],
   "source": [
    "# applying different thresholds to see how the f1-score and accuracy are effected\n",
    "thresh_list = np.arange(0.11,0.24,0.01)  # k = default \n",
    "knn_proba = knn.predict_proba(X_test)[:,1]\n",
    "for value in thresh_list:\n",
    "    knn_sn_th = knn_proba > value\n",
    "    f1_score_v = metrics.f1_score(y_test,knn_sn_th)\n",
    "    accuracy = metrics.accuracy_score(y_test,knn_sn_th)\n",
    "    print(value , f1_score_v, accuracy )"
   ]
  },
  {
   "cell_type": "markdown",
   "metadata": {},
   "source": [
    "#### At this point we have a max f1-score of 0.424 with a threshold of greater than 0.22"
   ]
  },
  {
   "cell_type": "code",
   "execution_count": 45,
   "metadata": {},
   "outputs": [
    {
     "data": {
      "text/plain": [
       "0.69963725456614079"
      ]
     },
     "execution_count": 45,
     "metadata": {},
     "output_type": "execute_result"
    }
   ],
   "source": [
    "# once we optimize the algorithm, we get a better roc_auc score of .70\n",
    "metrics.roc_auc_score(y_test,knn.predict_proba(X_test)[:,1])"
   ]
  },
  {
   "cell_type": "code",
   "execution_count": 46,
   "metadata": {
    "scrolled": true
   },
   "outputs": [
    {
     "data": {
      "image/png": "[encoded data removed]",
      "text/plain": [
       "<matplotlib.figure.Figure at 0x2849617c128>"
      ]
     },
     "metadata": {},
     "output_type": "display_data"
    }
   ],
   "source": [
    "y_pred_prob = knn.predict_proba(X_test)[:,1]\n",
    "\n",
    "# Generate ROC curve values: fpr, tpr, thresholds\n",
    "fpr, tpr, thresholds = roc_curve(y_test, y_pred_prob)\n",
    "\n",
    "# Plot ROC curve\n",
    "plt.plot([0, 1], [0, 1], 'k--')\n",
    "plt.plot(fpr, tpr)\n",
    "plt.xlabel('False Positive Rate')\n",
    "plt.ylabel('True Positive Rate')\n",
    "plt.title('ROC Curve-KNN')\n",
    "plt.show()"
   ]
  },
  {
   "cell_type": "markdown",
   "metadata": {},
   "source": [
    "## KNN with rebalanced data "
   ]
  },
  {
   "cell_type": "code",
   "execution_count": 47,
   "metadata": {
    "collapsed": true
   },
   "outputs": [],
   "source": [
    "# Re-run with 18 neighbors  \n",
    "knn_sn = KNeighborsClassifier(n_neighbors=18, n_jobs=-1 ).fit(x_train_res, y_train_res)\n",
    "knn_sn.score(X_test,y_test)\n",
    "y_pred_knn = knn_sn.predict(X_test)"
   ]
  },
  {
   "cell_type": "code",
   "execution_count": 64,
   "metadata": {},
   "outputs": [
    {
     "data": {
      "text/plain": [
       "0.6913706242163844"
      ]
     },
     "execution_count": 64,
     "metadata": {},
     "output_type": "execute_result"
    }
   ],
   "source": [
    "# Rebalancing the data does not increase the roc score\n",
    "metrics.roc_auc_score(y_test,knn_sn.predict_proba(X_test)[:,1])"
   ]
  },
  {
   "cell_type": "code",
   "execution_count": 65,
   "metadata": {},
   "outputs": [
    {
     "data": {
      "text/plain": [
       "0.34730901028018546"
      ]
     },
     "execution_count": 65,
     "metadata": {},
     "output_type": "execute_result"
    }
   ],
   "source": [
    "# this is the better f1 score with rebalancing and no threshold \n",
    "metrics.f1_score(y_test, y_pred_knn)"
   ]
  },
  {
   "cell_type": "code",
   "execution_count": 48,
   "metadata": {},
   "outputs": [
    {
     "name": "stdout",
     "output_type": "stream",
     "text": [
      "0.16 0.424232719509 0.511591053156\n",
      "0.17 0.430785064898 0.549261975912\n",
      "0.18 0.430785064898 0.549261975912\n",
      "0.19 0.430785064898 0.549261975912\n",
      "0.2 0.430785064898 0.549261975912\n",
      "0.21 0.430785064898 0.549261975912\n",
      "0.22 0.430785064898 0.549261975912\n",
      "0.23 0.426701247376 0.579643212895\n",
      "0.24 0.426701247376 0.579643212895\n",
      "0.25 0.426701247376 0.579643212895\n",
      "0.26 0.426701247376 0.579643212895\n",
      "0.27 0.426701247376 0.579643212895\n",
      "0.28 0.422256198896 0.606492800869\n"
     ]
    }
   ],
   "source": [
    "###### applying different thresholds to see how the f1-score and accuracy are effected\n",
    "thresh_list = np.arange(0.16,0.29,0.01)  # k = default \n",
    "knn_proba = knn_sn.predict_proba(X_test)[:,1]\n",
    "for value in thresh_list:\n",
    "    knn_sn_th = knn_proba > value\n",
    "    f1_score_v = metrics.f1_score(y_test,knn_sn_th)\n",
    "    accuracy = metrics.accuracy_score(y_test,knn_sn_th)\n",
    "    print(value , f1_score_v, accuracy )"
   ]
  },
  {
   "cell_type": "markdown",
   "metadata": {},
   "source": [
    "#### Our best f1-value is 0.431 with a threshold of 0.22 and an accuracy of 0.549 "
   ]
  },
  {
   "cell_type": "markdown",
   "metadata": {},
   "source": [
    "## Random Forest Classifier"
   ]
  },
  {
   "cell_type": "code",
   "execution_count": 49,
   "metadata": {},
   "outputs": [],
   "source": [
    "# we split the data at this point to set aside 20% of the data for model evaluation\n",
    "X_train, X_test, y_train, y_test = train_test_split(X, y, test_size = 0.2, random_state=12)"
   ]
  },
  {
   "cell_type": "code",
   "execution_count": 52,
   "metadata": {},
   "outputs": [
    {
     "data": {
      "text/plain": [
       "0.7896404962419632"
      ]
     },
     "execution_count": 52,
     "metadata": {},
     "output_type": "execute_result"
    }
   ],
   "source": [
    "# run random forest \n",
    "rfc = RandomForestClassifier(n_jobs=-1, random_state = 42)\n",
    "rfc.fit(X_train, y_train)\n",
    "rfc.score(X_test, y_test)"
   ]
  },
  {
   "cell_type": "code",
   "execution_count": 53,
   "metadata": {},
   "outputs": [
    {
     "data": {
      "text/plain": [
       "0.71277793668897427"
      ]
     },
     "execution_count": 53,
     "metadata": {},
     "output_type": "execute_result"
    }
   ],
   "source": [
    "metrics.roc_auc_score(y_test,rfc.predict_proba(X_test)[:,1])"
   ]
  },
  {
   "cell_type": "code",
   "execution_count": 55,
   "metadata": {},
   "outputs": [
    {
     "name": "stdout",
     "output_type": "stream",
     "text": [
      "0.117401215805\n"
     ]
    }
   ],
   "source": [
    "print(metrics.f1_score(y_test, rfc.predict(X_test)))"
   ]
  },
  {
   "cell_type": "code",
   "execution_count": 57,
   "metadata": {},
   "outputs": [
    {
     "data": {
      "text/plain": [
       "0.79516435751154579"
      ]
     },
     "execution_count": 57,
     "metadata": {},
     "output_type": "execute_result"
    }
   ],
   "source": [
    "# run random forest \n",
    "rfc = RandomForestClassifier(n_jobs=-1, random_state = 42, max_depth= 30, min_samples_leaf= 1, n_estimators= 9)\n",
    "rfc.fit(X_train, y_train)\n",
    "y_pred_RF = rfc.predict(X_test)\n",
    "rfc.score(X_test, y_test)"
   ]
  },
  {
   "cell_type": "code",
   "execution_count": 58,
   "metadata": {},
   "outputs": [
    {
     "data": {
      "text/plain": [
       "0.72439053778408669"
      ]
     },
     "execution_count": 58,
     "metadata": {},
     "output_type": "execute_result"
    }
   ],
   "source": [
    "metrics.roc_auc_score(y_test,rfc.predict_proba(X_test)[:,1])"
   ]
  },
  {
   "cell_type": "code",
   "execution_count": 59,
   "metadata": {},
   "outputs": [
    {
     "data": {
      "text/plain": [
       "0.057892544773011249"
      ]
     },
     "execution_count": 59,
     "metadata": {},
     "output_type": "execute_result"
    }
   ],
   "source": [
    "metrics.f1_score(y_test, y_pred_RF)"
   ]
  },
  {
   "cell_type": "code",
   "execution_count": 60,
   "metadata": {},
   "outputs": [
    {
     "data": {
      "text/plain": [
       "0.43916400425985086"
      ]
     },
     "execution_count": 60,
     "metadata": {},
     "output_type": "execute_result"
    }
   ],
   "source": [
    "y_pred_prob_RF = rfc.predict_proba(X_test)[:,1] > 0.22\n",
    "metrics.f1_score(y_test,y_pred_prob_RF)"
   ]
  },
  {
   "cell_type": "code",
   "execution_count": 61,
   "metadata": {},
   "outputs": [
    {
     "data": {
      "image/png": "[encoded data removed]",
      "text/plain": [
       "<matplotlib.figure.Figure at 0x2849cb76c50>"
      ]
     },
     "metadata": {},
     "output_type": "display_data"
    }
   ],
   "source": [
    "y_pred_prob = rfc.predict_proba(X_test)[:,1]\n",
    "\n",
    "# Generate ROC curve values: fpr, tpr, thresholds\n",
    "fpr, tpr, thresholds = roc_curve(y_test, y_pred_prob)\n",
    "\n",
    "# Plot ROC curve\n",
    "plt.plot([0, 1], [0, 1], 'k--')\n",
    "plt.plot(fpr, tpr)\n",
    "plt.xlabel('False Positive Rate')\n",
    "plt.ylabel('True Positive Rate')\n",
    "plt.title('ROC Curve- Random Forest')\n",
    "plt.show()"
   ]
  },
  {
   "cell_type": "markdown",
   "metadata": {},
   "source": [
    "### Grid Search for Random Forest Hyperparameters "
   ]
  },
  {
   "cell_type": "code",
   "execution_count": 63,
   "metadata": {},
   "outputs": [
    {
     "name": "stdout",
     "output_type": "stream",
     "text": [
      "{'max_depth': 55, 'min_samples_leaf': 1, 'n_estimators': 1}\n"
     ]
    }
   ],
   "source": [
    "rfc = RandomForestClassifier(n_jobs=-1, random_state = 42) \n",
    " \n",
    "# Use a grid over parameters of interest\n",
    "param_grid = { \n",
    "           \"n_estimators\" : [1,3,5,7,9, 18, 27],\n",
    "           \"max_depth\" : [30, 42,45,48,51,55],\n",
    "           \"min_samples_leaf\" : [1, 2, 4, 6]}\n",
    " \n",
    "CV_rfc = GridSearchCV(estimator=rfc, param_grid=param_grid, cv= 3, scoring= \"f1\" , n_jobs=-1)\n",
    "CV_rfc.fit(X_train, y_train)\n",
    "print (CV_rfc.best_params_)"
   ]
  },
  {
   "cell_type": "markdown",
   "metadata": {},
   "source": [
    "### RF using tuned hyperperameters "
   ]
  },
  {
   "cell_type": "code",
   "execution_count": 65,
   "metadata": {},
   "outputs": [
    {
     "data": {
      "text/plain": [
       "0.78810105949470255"
      ]
     },
     "execution_count": 65,
     "metadata": {},
     "output_type": "execute_result"
    }
   ],
   "source": [
    "# run random forest \n",
    "rfc_sm = RandomForestClassifier(n_jobs=-1, random_state = 42,max_depth= 55, min_samples_leaf= 1, n_estimators= 1) \n",
    "rfc_sm.fit(X_train,y_train)\n",
    "rf_sm = rfc_sm.predict(X_test)\n",
    "rfc_sm.score(X_test, y_test)"
   ]
  },
  {
   "cell_type": "code",
   "execution_count": 66,
   "metadata": {},
   "outputs": [
    {
     "name": "stdout",
     "output_type": "stream",
     "text": [
      "ROC_AUC = \n",
      "0.699342069516\n",
      "F1 Score = \n",
      "0.115980355119\n"
     ]
    }
   ],
   "source": [
    "print(\"ROC_AUC = \")\n",
    "print(metrics.roc_auc_score(y_test,rfc_sm.predict_proba(X_test)[:,1]))\n",
    "print(\"F1 Score = \")\n",
    "print(metrics.f1_score(y_test,rf_sm))"
   ]
  },
  {
   "cell_type": "code",
   "execution_count": 72,
   "metadata": {},
   "outputs": [
    {
     "name": "stdout",
     "output_type": "stream",
     "text": [
      "0.14 0.429706672899 0.558091098433\n",
      "0.15 0.431480265122 0.568912433216\n",
      "0.16 0.431019708655 0.579099882278\n",
      "0.17 0.430726851562 0.588291225211\n",
      "0.18 0.431052997284 0.59218509463\n",
      "0.19 0.430814398775 0.596214796704\n",
      "0.2 0.430903297132 0.603776147786\n",
      "0.21 0.431265772347 0.612243049896\n",
      "0.22 0.433003750426 0.623517160192\n"
     ]
    }
   ],
   "source": [
    "y_rf_sm = rfc_sm.predict_proba(X_test)[:,1] \n",
    "\n",
    "thresh_list = np.arange(0.14,0.23,0.01)  # k = default \n",
    "\n",
    "for value in thresh_list:\n",
    "    knn_sn_th = y_rf_sm > value\n",
    "    f1_score_v = metrics.f1_score(y_test,knn_sn_th)\n",
    "    accuracy = metrics.accuracy_score(y_test,knn_sn_th)\n",
    "    print(value , f1_score_v, accuracy )"
   ]
  },
  {
   "cell_type": "markdown",
   "metadata": {},
   "source": [
    "#### Random Forest with hyperameter tunning had a max f1-score of 0.431 with a threshold of 0.16"
   ]
  },
  {
   "cell_type": "code",
   "execution_count": 73,
   "metadata": {},
   "outputs": [
    {
     "data": {
      "image/png": "[encoded data removed]",
      "text/plain": [
       "<matplotlib.figure.Figure at 0x2849cb6b128>"
      ]
     },
     "metadata": {},
     "output_type": "display_data"
    }
   ],
   "source": [
    "y_pred_rfsm = rfc_sm.predict_proba(X_test)[:,1]\n",
    "\n",
    "# Generate ROC curve values: fpr, tpr, thresholds\n",
    "fpr, tpr, thresholds = roc_curve(y_test, y_pred_rfsm)\n",
    "\n",
    "# Plot ROC curve\n",
    "plt.plot([0, 1], [0, 1], 'k--')\n",
    "plt.plot(fpr, tpr)\n",
    "plt.xlabel('False Positive Rate')\n",
    "plt.ylabel('True Positive Rate')\n",
    "plt.title('ROC Curve- Random Forest')\n",
    "plt.show()"
   ]
  },
  {
   "cell_type": "markdown",
   "metadata": {},
   "source": [
    "### Grid Search for Random Forest Hyperparameters on rebalanced data "
   ]
  },
  {
   "cell_type": "code",
   "execution_count": 74,
   "metadata": {
    "collapsed": true
   },
   "outputs": [],
   "source": [
    "# we split the data at this point to set aside 10% of the data for model evaluation\n",
    "X_train, X_test, y_train, y_test = train_test_split(X, y, test_size = 0.2, random_state=12)\n",
    "\n",
    "# split the data again for independent data to rebalance. \n",
    "X_train2, X_test2, y_train2, y_test2 = train_test_split(X_train, y_train, test_size = .1, random_state=12)\n",
    "\n",
    "# run the rebalancing algorithm on data. \n",
    "smote = SMOTE(random_state=12 , ratio='minority') \n",
    "x_train_res, y_train_res = smote.fit_sample(X_train2, y_train2)"
   ]
  },
  {
   "cell_type": "code",
   "execution_count": 75,
   "metadata": {},
   "outputs": [
    {
     "name": "stdout",
     "output_type": "stream",
     "text": [
      "{'max_depth': 30, 'min_samples_leaf': 1, 'n_estimators': 18}\n"
     ]
    }
   ],
   "source": [
    "rfc = RandomForestClassifier(n_jobs=-1, random_state = 42) \n",
    " \n",
    "# Use a grid over parameters of interest\n",
    "param_grid = { \n",
    "           \"n_estimators\" : [1,3,5,7,9, 18, 27],\n",
    "           \"max_depth\" : [30, 42,45,48,51,55],\n",
    "           \"min_samples_leaf\" : [1, 2, 4, 6]}\n",
    " \n",
    "CV_rfc = GridSearchCV(estimator=rfc, param_grid=param_grid, cv= 3, scoring= \"f1\" , n_jobs=-1)\n",
    "CV_rfc.fit(x_train_res, y_train_res)\n",
    "print (CV_rfc.best_params_)"
   ]
  },
  {
   "cell_type": "code",
   "execution_count": 76,
   "metadata": {},
   "outputs": [
    {
     "data": {
      "text/plain": [
       "0.79643212895046633"
      ]
     },
     "execution_count": 76,
     "metadata": {},
     "output_type": "execute_result"
    }
   ],
   "source": [
    "# run random forest \n",
    "rfc_sm = RandomForestClassifier(n_jobs=-1, random_state = 42,max_depth= 30, min_samples_leaf= 1, n_estimators= 18) \n",
    "rfc_sm.fit(X_train,y_train)\n",
    "rf_sm = rfc_sm.predict(X_test)\n",
    "rfc_sm.score(X_test, y_test)"
   ]
  },
  {
   "cell_type": "code",
   "execution_count": 77,
   "metadata": {},
   "outputs": [
    {
     "name": "stdout",
     "output_type": "stream",
     "text": [
      "ROC_AUC = \n",
      "0.725934550886\n",
      "F1 Score = \n",
      "0.0446238844029\n"
     ]
    }
   ],
   "source": [
    "print(\"ROC_AUC = \")\n",
    "print(metrics.roc_auc_score(y_test,rfc_sm.predict_proba(X_test)[:,1]))\n",
    "print(\"F1 Score = \")\n",
    "print(metrics.f1_score(y_test,rf_sm))"
   ]
  },
  {
   "cell_type": "code",
   "execution_count": 80,
   "metadata": {},
   "outputs": [
    {
     "name": "stdout",
     "output_type": "stream",
     "text": [
      "0.17 0.439096546623 0.553608620846\n",
      "0.18 0.439748515543 0.564248845422\n",
      "0.19 0.443511589706 0.585846237435\n",
      "0.2 0.443778485359 0.596622294666\n",
      "0.21 0.442787348933 0.607534184551\n",
      "0.22 0.442745019119 0.623879380603\n",
      "0.23 0.439583333333 0.634610160283\n",
      "0.24 0.439386299791 0.647604817531\n",
      "0.25 0.436409721187 0.657701711491\n",
      "0.26 0.429766414141 0.672824413656\n",
      "0.27 0.424883411059 0.687313230101\n",
      "0.28 0.422276621787 0.700805940415\n"
     ]
    }
   ],
   "source": [
    "y_rf_sm = rfc_sm.predict_proba(X_test)[:,1] \n",
    "\n",
    "thresh_list = np.arange(0.17,0.28,0.01)  # k = default \n",
    "\n",
    "for value in thresh_list:\n",
    "    knn_sn_th = y_rf_sm > value\n",
    "    f1_score_v = metrics.f1_score(y_test,knn_sn_th)\n",
    "    accuracy = metrics.accuracy_score(y_test,knn_sn_th)\n",
    "    print(value , f1_score_v, accuracy )"
   ]
  },
  {
   "cell_type": "markdown",
   "metadata": {},
   "source": [
    "### Random Forest with rebalancing and hyperameter tunning had a max f1-score of 0.444 with a threshold of greater than 0.2 "
   ]
  }
 ],
 "metadata": {
  "kernelspec": {
   "display_name": "Python 3",
   "language": "python",
   "name": "python3"
  },
  "language_info": {
   "codemirror_mode": {
    "name": "ipython",
    "version": 3
   },
   "file_extension": ".py",
   "mimetype": "text/x-python",
   "name": "python",
   "nbconvert_exporter": "python",
   "pygments_lexer": "ipython3",
   "version": "3.6.3"
  }
 },
 "nbformat": 4,
 "nbformat_minor": 2
}
