{
 "cells": [
  {
   "cell_type": "code",
   "execution_count": 1,
   "metadata": {
    "collapsed": true
   },
   "outputs": [],
   "source": [
    "# usual imports\n",
    "import pandas as pd\n",
    "import numpy as np\n",
    "import matplotlib.pyplot as plt\n",
    "import seaborn as sns\n",
    "sns.set(style=\"whitegrid\", color_codes=True)\n",
    "%matplotlib inline\n",
    "import datetime as dt\n",
    "from  scipy.stats import chisquare\n",
    "from scipy.stats import chi2_contingency\n",
    "\n",
    "\n",
    "# stats tests \n",
    "from scipy.stats import ttest_ind\n",
    "\n",
    "# ml imports\n",
    "from sklearn.linear_model import LogisticRegressionCV\n",
    "from sklearn.model_selection import train_test_split\n",
    "from sklearn.pipeline import Pipeline\n",
    "from sklearn.svm import SVC\n",
    "from sklearn.linear_model import LogisticRegression\n",
    "from sklearn.model_selection import GridSearchCV\n",
    "from sklearn.tree import DecisionTreeClassifier\n",
    "from sklearn.model_selection import RandomizedSearchCV\n",
    "from sklearn.neighbors import KNeighborsClassifier \n",
    "from sklearn.metrics import classification_report\n",
    "from sklearn.ensemble import RandomForestClassifier\n",
    "\n",
    "from sklearn import metrics\n",
    "from sklearn.metrics import roc_curve\n",
    "from sklearn.model_selection import KFold\n",
    "from sklearn.model_selection import cross_val_score\n",
    "from sklearn.model_selection import cross_val_predict\n",
    "from sklearn.metrics import recall_score\n",
    "from sklearn.metrics import accuracy_score\n",
    "\n",
    "from imblearn.over_sampling import SMOTE\n",
    "from imblearn.pipeline import make_pipeline\n",
    "from imblearn.combine import SMOTEENN, SMOTETomek\n",
    "from imblearn import datasets"
   ]
  },
  {
   "cell_type": "code",
   "execution_count": 2,
   "metadata": {
    "collapsed": true
   },
   "outputs": [],
   "source": [
    "# read in the data\n",
    "data = pd.read_csv(\"KaggleV2-May-2016.csv\", parse_dates=[\"AppointmentDay\", \"ScheduledDay\"])"
   ]
  },
  {
   "cell_type": "markdown",
   "metadata": {},
   "source": [
    "### Initial data cleaning\n",
    "###### For details see other notebooks"
   ]
  },
  {
   "cell_type": "code",
   "execution_count": 3,
   "metadata": {
    "collapsed": true
   },
   "outputs": [],
   "source": [
    "# filter out negative age\n",
    "data = data[data.Age >=0]\n",
    "\n",
    "# This turns the No-show variable into a binary of true or false where true means a no-show.  \n",
    "data['no_show_bi'] = data[\"No-show\"]== 'Yes'\n",
    "\n",
    "# Create a column that is the day of the week of the appointment \n",
    "data[\"appointment_day\"] = data[\"AppointmentDay\"].dt.weekday_name\n",
    "\n",
    "# Remove the Saturday appointments as they are clearly outliers. \n",
    "data= data[data[\"appointment_day\"] != \"Saturday\"]\n",
    "\n",
    "# create a column for the time between when a patient scheduled the appointment to the appointment.\n",
    "data[\"wait\"] = (data[\"AppointmentDay\"].dt.date - data[\"ScheduledDay\"].dt.date)\n",
    "\n",
    "# drop negative wait time rows. \n",
    "data = data[data['wait'] >= \"0 days\"]\n",
    "\n",
    "# remove outlier neighbourhoods\n",
    "remove_list = [\"ILHA DO BOI\", \"ILHA DO FRADE\", \"AEROPORTO\", \"ILHAS OCEÂNICAS DE TRINDADE\",\"PARQUE INDUSTRIAL\"]\n",
    "data= data[~data.Neighbourhood.isin(remove_list)]"
   ]
  },
  {
   "cell_type": "markdown",
   "metadata": {},
   "source": [
    "## Implement Binning System \n",
    "### Age Binning"
   ]
  },
  {
   "cell_type": "code",
   "execution_count": 4,
   "metadata": {
    "collapsed": true
   },
   "outputs": [],
   "source": [
    "def bin_age(df):\n",
    "    '''Creates a function to turn age into 6 groups of binned ages.'''\n",
    "                        # bin ranges 0-3, 4-7, 8-27, 28-40, 41-60, 61 < \n",
    "    if df[\"Age\"] <4:\n",
    "        return 2\n",
    "    elif df[\"Age\"] <8:\n",
    "        return 5\n",
    "    elif df[\"Age\"] <28:\n",
    "        return 16\n",
    "    elif df[\"Age\"] <41:\n",
    "        return 34\n",
    "    elif df[\"Age\"] <61:\n",
    "        return 51\n",
    "    else:\n",
    "        return 70"
   ]
  },
  {
   "cell_type": "code",
   "execution_count": 5,
   "metadata": {
    "collapsed": true
   },
   "outputs": [],
   "source": [
    "# apply binning function\n",
    "data[\"Age_Binned\"]= data.apply(bin_age, axis=1)"
   ]
  },
  {
   "cell_type": "markdown",
   "metadata": {},
   "source": [
    "### Wait time binning"
   ]
  },
  {
   "cell_type": "code",
   "execution_count": 6,
   "metadata": {
    "collapsed": true
   },
   "outputs": [],
   "source": [
    "# turn wait time from time delta to an int\n",
    "data[\"days_waiting\"] = data[\"wait\"].dt.days"
   ]
  },
  {
   "cell_type": "code",
   "execution_count": 7,
   "metadata": {
    "collapsed": true
   },
   "outputs": [],
   "source": [
    "def bin_wait_time(df):\n",
    "    '''Creates a function to turn wait_time into 5 groups of binned wait times .'''\n",
    "                        # bin ranges 0, 1, 2-4, 5-9, 10 < \n",
    "    col=\"days_waiting\"\n",
    "    if df[col]   <1:\n",
    "        return 0\n",
    "    elif df[col] <2:\n",
    "        return 1\n",
    "    elif df[col] <5:\n",
    "        return 3\n",
    "    elif df[col] <10:\n",
    "        return 7\n",
    "    else:\n",
    "        return 15"
   ]
  },
  {
   "cell_type": "code",
   "execution_count": 8,
   "metadata": {
    "collapsed": true
   },
   "outputs": [],
   "source": [
    "# Apply the binning function. \n",
    "data[\"Wait_Binned\"]= data.apply(bin_wait_time, axis=1)"
   ]
  },
  {
   "cell_type": "markdown",
   "metadata": {},
   "source": [
    "# MACHINE LEARNING SECTION"
   ]
  },
  {
   "cell_type": "code",
   "execution_count": 9,
   "metadata": {},
   "outputs": [
    {
     "data": {
      "text/plain": [
       "Index(['PatientId', 'AppointmentID', 'Gender', 'ScheduledDay',\n",
       "       'AppointmentDay', 'Age', 'Neighbourhood', 'Scholarship', 'Hipertension',\n",
       "       'Diabetes', 'Alcoholism', 'Handcap', 'SMS_received', 'No-show',\n",
       "       'no_show_bi', 'appointment_day', 'wait', 'Age_Binned', 'days_waiting',\n",
       "       'Wait_Binned'],\n",
       "      dtype='object')"
      ]
     },
     "execution_count": 9,
     "metadata": {},
     "output_type": "execute_result"
    }
   ],
   "source": [
    "data.columns"
   ]
  },
  {
   "cell_type": "code",
   "execution_count": 10,
   "metadata": {},
   "outputs": [
    {
     "data": {
      "text/html": [
       "<div>\n",
       "<style>\n",
       "    .dataframe thead tr:only-child th {\n",
       "        text-align: right;\n",
       "    }\n",
       "\n",
       "    .dataframe thead th {\n",
       "        text-align: left;\n",
       "    }\n",
       "\n",
       "    .dataframe tbody tr th {\n",
       "        vertical-align: top;\n",
       "    }\n",
       "</style>\n",
       "<table border=\"1\" class=\"dataframe\">\n",
       "  <thead>\n",
       "    <tr style=\"text-align: right;\">\n",
       "      <th></th>\n",
       "      <th>PatientId</th>\n",
       "      <th>AppointmentID</th>\n",
       "      <th>Gender</th>\n",
       "      <th>ScheduledDay</th>\n",
       "      <th>AppointmentDay</th>\n",
       "      <th>Age</th>\n",
       "      <th>Neighbourhood</th>\n",
       "      <th>Scholarship</th>\n",
       "      <th>Hipertension</th>\n",
       "      <th>Diabetes</th>\n",
       "      <th>Alcoholism</th>\n",
       "      <th>Handcap</th>\n",
       "      <th>SMS_received</th>\n",
       "      <th>No-show</th>\n",
       "      <th>no_show_bi</th>\n",
       "      <th>appointment_day</th>\n",
       "      <th>wait</th>\n",
       "      <th>Age_Binned</th>\n",
       "      <th>days_waiting</th>\n",
       "      <th>Wait_Binned</th>\n",
       "    </tr>\n",
       "  </thead>\n",
       "  <tbody>\n",
       "    <tr>\n",
       "      <th>0</th>\n",
       "      <td>2.987250e+13</td>\n",
       "      <td>5642903</td>\n",
       "      <td>F</td>\n",
       "      <td>2016-04-29 18:38:08</td>\n",
       "      <td>2016-04-29</td>\n",
       "      <td>62</td>\n",
       "      <td>JARDIM DA PENHA</td>\n",
       "      <td>0</td>\n",
       "      <td>1</td>\n",
       "      <td>0</td>\n",
       "      <td>0</td>\n",
       "      <td>0</td>\n",
       "      <td>0</td>\n",
       "      <td>No</td>\n",
       "      <td>False</td>\n",
       "      <td>Friday</td>\n",
       "      <td>0 days</td>\n",
       "      <td>70</td>\n",
       "      <td>0</td>\n",
       "      <td>0</td>\n",
       "    </tr>\n",
       "    <tr>\n",
       "      <th>1</th>\n",
       "      <td>5.589978e+14</td>\n",
       "      <td>5642503</td>\n",
       "      <td>M</td>\n",
       "      <td>2016-04-29 16:08:27</td>\n",
       "      <td>2016-04-29</td>\n",
       "      <td>56</td>\n",
       "      <td>JARDIM DA PENHA</td>\n",
       "      <td>0</td>\n",
       "      <td>0</td>\n",
       "      <td>0</td>\n",
       "      <td>0</td>\n",
       "      <td>0</td>\n",
       "      <td>0</td>\n",
       "      <td>No</td>\n",
       "      <td>False</td>\n",
       "      <td>Friday</td>\n",
       "      <td>0 days</td>\n",
       "      <td>51</td>\n",
       "      <td>0</td>\n",
       "      <td>0</td>\n",
       "    </tr>\n",
       "    <tr>\n",
       "      <th>2</th>\n",
       "      <td>4.262962e+12</td>\n",
       "      <td>5642549</td>\n",
       "      <td>F</td>\n",
       "      <td>2016-04-29 16:19:04</td>\n",
       "      <td>2016-04-29</td>\n",
       "      <td>62</td>\n",
       "      <td>MATA DA PRAIA</td>\n",
       "      <td>0</td>\n",
       "      <td>0</td>\n",
       "      <td>0</td>\n",
       "      <td>0</td>\n",
       "      <td>0</td>\n",
       "      <td>0</td>\n",
       "      <td>No</td>\n",
       "      <td>False</td>\n",
       "      <td>Friday</td>\n",
       "      <td>0 days</td>\n",
       "      <td>70</td>\n",
       "      <td>0</td>\n",
       "      <td>0</td>\n",
       "    </tr>\n",
       "    <tr>\n",
       "      <th>3</th>\n",
       "      <td>8.679512e+11</td>\n",
       "      <td>5642828</td>\n",
       "      <td>F</td>\n",
       "      <td>2016-04-29 17:29:31</td>\n",
       "      <td>2016-04-29</td>\n",
       "      <td>8</td>\n",
       "      <td>PONTAL DE CAMBURI</td>\n",
       "      <td>0</td>\n",
       "      <td>0</td>\n",
       "      <td>0</td>\n",
       "      <td>0</td>\n",
       "      <td>0</td>\n",
       "      <td>0</td>\n",
       "      <td>No</td>\n",
       "      <td>False</td>\n",
       "      <td>Friday</td>\n",
       "      <td>0 days</td>\n",
       "      <td>16</td>\n",
       "      <td>0</td>\n",
       "      <td>0</td>\n",
       "    </tr>\n",
       "    <tr>\n",
       "      <th>4</th>\n",
       "      <td>8.841186e+12</td>\n",
       "      <td>5642494</td>\n",
       "      <td>F</td>\n",
       "      <td>2016-04-29 16:07:23</td>\n",
       "      <td>2016-04-29</td>\n",
       "      <td>56</td>\n",
       "      <td>JARDIM DA PENHA</td>\n",
       "      <td>0</td>\n",
       "      <td>1</td>\n",
       "      <td>1</td>\n",
       "      <td>0</td>\n",
       "      <td>0</td>\n",
       "      <td>0</td>\n",
       "      <td>No</td>\n",
       "      <td>False</td>\n",
       "      <td>Friday</td>\n",
       "      <td>0 days</td>\n",
       "      <td>51</td>\n",
       "      <td>0</td>\n",
       "      <td>0</td>\n",
       "    </tr>\n",
       "  </tbody>\n",
       "</table>\n",
       "</div>"
      ],
      "text/plain": [
       "      PatientId  AppointmentID Gender        ScheduledDay AppointmentDay  Age  \\\n",
       "0  2.987250e+13        5642903      F 2016-04-29 18:38:08     2016-04-29   62   \n",
       "1  5.589978e+14        5642503      M 2016-04-29 16:08:27     2016-04-29   56   \n",
       "2  4.262962e+12        5642549      F 2016-04-29 16:19:04     2016-04-29   62   \n",
       "3  8.679512e+11        5642828      F 2016-04-29 17:29:31     2016-04-29    8   \n",
       "4  8.841186e+12        5642494      F 2016-04-29 16:07:23     2016-04-29   56   \n",
       "\n",
       "       Neighbourhood  Scholarship  Hipertension  Diabetes  Alcoholism  \\\n",
       "0    JARDIM DA PENHA            0             1         0           0   \n",
       "1    JARDIM DA PENHA            0             0         0           0   \n",
       "2      MATA DA PRAIA            0             0         0           0   \n",
       "3  PONTAL DE CAMBURI            0             0         0           0   \n",
       "4    JARDIM DA PENHA            0             1         1           0   \n",
       "\n",
       "   Handcap  SMS_received No-show  no_show_bi appointment_day   wait  \\\n",
       "0        0             0      No       False          Friday 0 days   \n",
       "1        0             0      No       False          Friday 0 days   \n",
       "2        0             0      No       False          Friday 0 days   \n",
       "3        0             0      No       False          Friday 0 days   \n",
       "4        0             0      No       False          Friday 0 days   \n",
       "\n",
       "   Age_Binned  days_waiting  Wait_Binned  \n",
       "0          70             0            0  \n",
       "1          51             0            0  \n",
       "2          70             0            0  \n",
       "3          16             0            0  \n",
       "4          51             0            0  "
      ]
     },
     "execution_count": 10,
     "metadata": {},
     "output_type": "execute_result"
    }
   ],
   "source": [
    "data.head()"
   ]
  },
  {
   "cell_type": "markdown",
   "metadata": {},
   "source": [
    "## Wrangle the data into a form where ml can be applied"
   ]
  },
  {
   "cell_type": "code",
   "execution_count": 11,
   "metadata": {
    "scrolled": false
   },
   "outputs": [
    {
     "data": {
      "text/html": [
       "<div>\n",
       "<style>\n",
       "    .dataframe thead tr:only-child th {\n",
       "        text-align: right;\n",
       "    }\n",
       "\n",
       "    .dataframe thead th {\n",
       "        text-align: left;\n",
       "    }\n",
       "\n",
       "    .dataframe tbody tr th {\n",
       "        vertical-align: top;\n",
       "    }\n",
       "</style>\n",
       "<table border=\"1\" class=\"dataframe\">\n",
       "  <thead>\n",
       "    <tr style=\"text-align: right;\">\n",
       "      <th></th>\n",
       "      <th>Neighbourhood</th>\n",
       "      <th>Scholarship</th>\n",
       "      <th>Hipertension</th>\n",
       "      <th>Diabetes</th>\n",
       "      <th>SMS_received</th>\n",
       "      <th>appointment_day</th>\n",
       "      <th>Age_Binned</th>\n",
       "      <th>Wait_Binned</th>\n",
       "    </tr>\n",
       "    <tr>\n",
       "      <th>AppointmentID</th>\n",
       "      <th></th>\n",
       "      <th></th>\n",
       "      <th></th>\n",
       "      <th></th>\n",
       "      <th></th>\n",
       "      <th></th>\n",
       "      <th></th>\n",
       "      <th></th>\n",
       "    </tr>\n",
       "  </thead>\n",
       "  <tbody>\n",
       "    <tr>\n",
       "      <th>5642903</th>\n",
       "      <td>JARDIM DA PENHA</td>\n",
       "      <td>0</td>\n",
       "      <td>1</td>\n",
       "      <td>0</td>\n",
       "      <td>0</td>\n",
       "      <td>Friday</td>\n",
       "      <td>70</td>\n",
       "      <td>0</td>\n",
       "    </tr>\n",
       "    <tr>\n",
       "      <th>5642503</th>\n",
       "      <td>JARDIM DA PENHA</td>\n",
       "      <td>0</td>\n",
       "      <td>0</td>\n",
       "      <td>0</td>\n",
       "      <td>0</td>\n",
       "      <td>Friday</td>\n",
       "      <td>51</td>\n",
       "      <td>0</td>\n",
       "    </tr>\n",
       "    <tr>\n",
       "      <th>5642549</th>\n",
       "      <td>MATA DA PRAIA</td>\n",
       "      <td>0</td>\n",
       "      <td>0</td>\n",
       "      <td>0</td>\n",
       "      <td>0</td>\n",
       "      <td>Friday</td>\n",
       "      <td>70</td>\n",
       "      <td>0</td>\n",
       "    </tr>\n",
       "    <tr>\n",
       "      <th>5642828</th>\n",
       "      <td>PONTAL DE CAMBURI</td>\n",
       "      <td>0</td>\n",
       "      <td>0</td>\n",
       "      <td>0</td>\n",
       "      <td>0</td>\n",
       "      <td>Friday</td>\n",
       "      <td>16</td>\n",
       "      <td>0</td>\n",
       "    </tr>\n",
       "    <tr>\n",
       "      <th>5642494</th>\n",
       "      <td>JARDIM DA PENHA</td>\n",
       "      <td>0</td>\n",
       "      <td>1</td>\n",
       "      <td>1</td>\n",
       "      <td>0</td>\n",
       "      <td>Friday</td>\n",
       "      <td>51</td>\n",
       "      <td>0</td>\n",
       "    </tr>\n",
       "  </tbody>\n",
       "</table>\n",
       "</div>"
      ],
      "text/plain": [
       "                   Neighbourhood  Scholarship  Hipertension  Diabetes  \\\n",
       "AppointmentID                                                           \n",
       "5642903          JARDIM DA PENHA            0             1         0   \n",
       "5642503          JARDIM DA PENHA            0             0         0   \n",
       "5642549            MATA DA PRAIA            0             0         0   \n",
       "5642828        PONTAL DE CAMBURI            0             0         0   \n",
       "5642494          JARDIM DA PENHA            0             1         1   \n",
       "\n",
       "               SMS_received appointment_day Age_Binned Wait_Binned  \n",
       "AppointmentID                                                       \n",
       "5642903                   0          Friday         70           0  \n",
       "5642503                   0          Friday         51           0  \n",
       "5642549                   0          Friday         70           0  \n",
       "5642828                   0          Friday         16           0  \n",
       "5642494                   0          Friday         51           0  "
      ]
     },
     "execution_count": 11,
     "metadata": {},
     "output_type": "execute_result"
    }
   ],
   "source": [
    "# Run cell to run ML on all statistically significant predictor variables. \n",
    "X_create= data.set_index(\"AppointmentID\")[['Neighbourhood', 'Scholarship', 'Hipertension',\n",
    "       'Diabetes','SMS_received','appointment_day', 'Age_Binned', 'Wait_Binned']]\n",
    "X_create[\"Age_Binned\"]=X_create[\"Age_Binned\"].astype(str)\n",
    "X_create[\"Wait_Binned\"]=X_create[\"Wait_Binned\"].astype(str)\n",
    "\n",
    "y_create = data.set_index(\"AppointmentID\")[[\"No-show\"]]\n",
    "y_create[\"No-show\"][y_create[\"No-show\"]==\"Yes\"] = 1\n",
    "y_create[\"No-show\"][y_create[\"No-show\"]==\"No\"]  = 0\n",
    "\n",
    "X_create.head()"
   ]
  },
  {
   "cell_type": "code",
   "execution_count": 12,
   "metadata": {
    "collapsed": true
   },
   "outputs": [],
   "source": [
    "# make the categorical variables into bool columns, drop the first to avoid redundancy. \n",
    "X = pd.get_dummies(X_create, drop_first=True).values\n",
    "\n",
    "# This puts the y values which are our targets into the correct format for ml \n",
    "y = np.array(list(y_create[\"No-show\"]))"
   ]
  },
  {
   "cell_type": "code",
   "execution_count": 13,
   "metadata": {
    "collapsed": true
   },
   "outputs": [],
   "source": [
    "# we split the data at this point to set aside 10% of the data for model evaluation\n",
    "X_train, X_test, y_train, y_test = train_test_split(X, y, test_size = 0.1, random_state=12)"
   ]
  },
  {
   "cell_type": "markdown",
   "metadata": {},
   "source": [
    "## Logistic Regression with IMBLEARN oversampling "
   ]
  },
  {
   "cell_type": "code",
   "execution_count": 14,
   "metadata": {
    "collapsed": true
   },
   "outputs": [],
   "source": [
    "# We split the data a second time in order to do resampling on this second version. \n",
    "X_train2, X_test2, y_train2, y_test2 = train_test_split(X_train, y_train,\n",
    "                                                  test_size = .1,\n",
    "                                                  random_state=12)\n",
    "\n",
    "# Run a SMOTE resampling on the second training data split to balance out the no-shows and shows appointments for ml\n",
    "smote = SMOTE(random_state=12 , ratio='minority') \n",
    "x_train_res, y_train_res = smote.fit_sample(X_train2, y_train2)"
   ]
  },
  {
   "cell_type": "code",
   "execution_count": 15,
   "metadata": {
    "collapsed": true
   },
   "outputs": [],
   "source": [
    "# We run the logistic Regression CV on the rebalanced data, with F1 scoring.  \n",
    "searchCV_SMOTE = LogisticRegressionCV(cv=10, scoring= \"f1\")\n",
    "searchCV_SMOTE.fit(x_train_res, y_train_res)\n",
    "y_pred_LR = searchCV_SMOTE.predict(X_test)"
   ]
  },
  {
   "cell_type": "code",
   "execution_count": 16,
   "metadata": {},
   "outputs": [
    {
     "data": {
      "text/plain": [
       "0.71513437636769273"
      ]
     },
     "execution_count": 16,
     "metadata": {},
     "output_type": "execute_result"
    }
   ],
   "source": [
    "# compute the AUROC score \n",
    "metrics.roc_auc_score(y_test,searchCV_SMOTE.predict_proba(X_test)[:,1])"
   ]
  },
  {
   "cell_type": "code",
   "execution_count": 20,
   "metadata": {},
   "outputs": [
    {
     "data": {
      "text/plain": [
       "0.44188044679022959"
      ]
     },
     "execution_count": 20,
     "metadata": {},
     "output_type": "execute_result"
    }
   ],
   "source": [
    "# computer the f1_score\n",
    "metrics.f1_score(y_test, y_pred_LR)"
   ]
  },
  {
   "cell_type": "code",
   "execution_count": 21,
   "metadata": {},
   "outputs": [
    {
     "name": "stdout",
     "output_type": "stream",
     "text": [
      "0.44 0.438243468594\n",
      "0.45 0.438430311231\n",
      "0.46 0.437406769937\n",
      "0.47 0.437288531093\n",
      "0.48 0.437270029674\n",
      "0.49 0.43924783028\n",
      "0.5 0.44188044679\n",
      "0.51 0.440976591996\n",
      "0.52 0.4396405782\n",
      "0.53 0.43910991234\n",
      "0.54 0.436333240457\n",
      "0.55 0.434545193275\n"
     ]
    }
   ],
   "source": [
    "# run through a bunch of thresholds and get the f1-score's for each. \n",
    "thresh_list = np.arange(0.44,0.55,0.01)  \n",
    "lr_cv_proba = searchCV_SMOTE.predict_proba(X_test)[:,1]\n",
    "for value in thresh_list:\n",
    "    prediction = lr_cv_proba > value\n",
    "    f1_score_v = metrics.f1_score(y_test,prediction)\n",
    "    print(value , f1_score_v )"
   ]
  },
  {
   "cell_type": "markdown",
   "metadata": {},
   "source": [
    "#### Logitic Regression with all the variables and rebalancing gave a max f1-score of 0.441 with a threshould of 0.5"
   ]
  },
  {
   "cell_type": "code",
   "execution_count": 19,
   "metadata": {},
   "outputs": [
    {
     "data": {
      "text/plain": [
       "0.58824594765915061"
      ]
     },
     "execution_count": 19,
     "metadata": {},
     "output_type": "execute_result"
    }
   ],
   "source": [
    "# we see that a accuracy score is around 60%\n",
    "accuracy_score(y_test, y_pred_LR)"
   ]
  },
  {
   "cell_type": "markdown",
   "metadata": {},
   "source": [
    "## Impliment K-nearest neighbors Classifier : rebalanced data"
   ]
  },
  {
   "cell_type": "code",
   "execution_count": 23,
   "metadata": {},
   "outputs": [
    {
     "data": {
      "text/plain": [
       "0.67702377860113971"
      ]
     },
     "execution_count": 23,
     "metadata": {},
     "output_type": "execute_result"
    }
   ],
   "source": [
    "# run with the top variables \n",
    "knn = KNeighborsClassifier(n_neighbors=18, n_jobs=-1 ).fit(x_train_res, y_train_res)\n",
    "knn.score(X_test,y_test)\n",
    "y_pred_knn = knn.predict(X_test)\n",
    "metrics.roc_auc_score(y_test,knn.predict_proba(X_test)[:,1])"
   ]
  },
  {
   "cell_type": "code",
   "execution_count": 24,
   "metadata": {
    "scrolled": false
   },
   "outputs": [
    {
     "name": "stdout",
     "output_type": "stream",
     "text": [
      "0.365886160289\n"
     ]
    }
   ],
   "source": [
    "# scores with n-neighbors = 18\n",
    "print(metrics.f1_score(y_test, y_pred_knn))"
   ]
  },
  {
   "cell_type": "code",
   "execution_count": 25,
   "metadata": {},
   "outputs": [
    {
     "name": "stdout",
     "output_type": "stream",
     "text": [
      "0.15 0.409230140903\n",
      "0.16 0.409230140903\n",
      "0.17 0.413597733711\n",
      "0.18 0.413597733711\n",
      "0.19 0.413597733711\n",
      "0.2 0.413597733711\n",
      "0.21 0.413597733711\n",
      "0.22 0.413597733711\n",
      "0.23 0.409644250089\n",
      "0.24 0.409644250089\n"
     ]
    }
   ],
   "source": [
    "thresh_list = np.arange(0.15,0.25,0.01)  # k = 18 - 0.414 - thresh of 0.22\n",
    "knn_proba = knn.predict_proba(X_test)[:,1]\n",
    "for value in thresh_list:\n",
    "    knn_sn_th = knn_proba > value\n",
    "    f1_score_v = metrics.f1_score(y_test,knn_sn_th)\n",
    "    print(value , f1_score_v )\n",
    "    knn_sn_thresh = 0\n",
    "    f1_score_v = 0"
   ]
  },
  {
   "cell_type": "markdown",
   "metadata": {},
   "source": [
    "#### K nearest neighbors had a max f1-score of 0.414 with a threshold of  0.22 "
   ]
  },
  {
   "cell_type": "code",
   "execution_count": 26,
   "metadata": {
    "scrolled": true
   },
   "outputs": [
    {
     "data": {
      "image/png": "[encoded data removed]",
      "text/plain": [
       "<matplotlib.figure.Figure at 0x1fc4b596588>"
      ]
     },
     "metadata": {},
     "output_type": "display_data"
    }
   ],
   "source": [
    "y_pred_prob = knn.predict_proba(X_test)[:,1]\n",
    "\n",
    "# Generate ROC curve values: fpr, tpr, thresholds\n",
    "fpr, tpr, thresholds = roc_curve(y_test, y_pred_prob)\n",
    "\n",
    "# Plot ROC curve\n",
    "plt.plot([0, 1], [0, 1], 'k--')\n",
    "plt.plot(fpr, tpr)\n",
    "plt.xlabel('False Positive Rate')\n",
    "plt.ylabel('True Positive Rate')\n",
    "plt.title('ROC Curve-KNN')\n",
    "plt.show()\n",
    "#plt.savefig('roc_knn.png') # saves the plot "
   ]
  },
  {
   "cell_type": "markdown",
   "metadata": {},
   "source": [
    "## Random Forest Classifier"
   ]
  },
  {
   "cell_type": "code",
   "execution_count": 65,
   "metadata": {},
   "outputs": [
    {
     "data": {
      "text/plain": [
       "0.79344381055872504"
      ]
     },
     "execution_count": 65,
     "metadata": {},
     "output_type": "execute_result"
    }
   ],
   "source": [
    "# run random forest - all variables, not rebalanced\n",
    "rfc = RandomForestClassifier(n_jobs=-1, random_state = 42, max_depth= 30, min_samples_leaf= 1, n_estimators= 9)\n",
    "rfc.fit(X_train, y_train)\n",
    "rfc.score(X_test, y_test)"
   ]
  },
  {
   "cell_type": "code",
   "execution_count": 66,
   "metadata": {
    "collapsed": true
   },
   "outputs": [],
   "source": [
    "y_pred_RF = rfc.predict(X_test)"
   ]
  },
  {
   "cell_type": "code",
   "execution_count": 67,
   "metadata": {},
   "outputs": [
    {
     "data": {
      "text/plain": [
       "0.71327799954556381"
      ]
     },
     "execution_count": 67,
     "metadata": {},
     "output_type": "execute_result"
    }
   ],
   "source": [
    "metrics.roc_auc_score(y_test,rfc.predict_proba(X_test)[:,1])"
   ]
  },
  {
   "cell_type": "code",
   "execution_count": 68,
   "metadata": {},
   "outputs": [
    {
     "name": "stdout",
     "output_type": "stream",
     "text": [
      "             precision    recall  f1-score   support\n",
      "\n",
      "          0       0.81      0.98      0.88      8810\n",
      "          1       0.43      0.07      0.11      2233\n",
      "\n",
      "avg / total       0.73      0.79      0.73     11043\n",
      "\n"
     ]
    }
   ],
   "source": [
    "print(classification_report(y_test, y_pred_RF))"
   ]
  },
  {
   "cell_type": "code",
   "execution_count": 79,
   "metadata": {
    "collapsed": true
   },
   "outputs": [],
   "source": [
    "y_pred_prob_RF = rfc.predict_proba(X_test)[:,1] > 0.23"
   ]
  },
  {
   "cell_type": "code",
   "execution_count": 80,
   "metadata": {},
   "outputs": [
    {
     "data": {
      "text/plain": [
       "0.42728852838933951"
      ]
     },
     "execution_count": 80,
     "metadata": {},
     "output_type": "execute_result"
    }
   ],
   "source": [
    "metrics.f1_score(y_test,y_pred_prob_RF)"
   ]
  },
  {
   "cell_type": "code",
   "execution_count": 91,
   "metadata": {},
   "outputs": [
    {
     "name": "stdout",
     "output_type": "stream",
     "text": [
      "             precision    recall  f1-score   support\n",
      "\n",
      "          0       0.90      0.58      0.71      8810\n",
      "          1       0.31      0.74      0.43      2233\n",
      "\n",
      "avg / total       0.78      0.61      0.65     11043\n",
      "\n"
     ]
    }
   ],
   "source": [
    "print(classification_report(y_test, y_pred_prob_RF))"
   ]
  },
  {
   "cell_type": "code",
   "execution_count": 92,
   "metadata": {},
   "outputs": [
    {
     "data": {
      "image/png": "[encoded data removed]",
      "text/plain": [
       "<matplotlib.figure.Figure at 0x1df88b07828>"
      ]
     },
     "metadata": {},
     "output_type": "display_data"
    }
   ],
   "source": [
    "y_pred_prob = rfc.predict_proba(X_test)[:,1]\n",
    "\n",
    "# Generate ROC curve values: fpr, tpr, thresholds\n",
    "fpr, tpr, thresholds = roc_curve(y_test, y_pred_prob)\n",
    "\n",
    "# Plot ROC curve\n",
    "plt.plot([0, 1], [0, 1], 'k--')\n",
    "plt.plot(fpr, tpr)\n",
    "plt.xlabel('False Positive Rate')\n",
    "plt.ylabel('True Positive Rate')\n",
    "plt.title('ROC Curve- Random Forest')\n",
    "plt.show()"
   ]
  },
  {
   "cell_type": "markdown",
   "metadata": {},
   "source": [
    "### Grid Search for Random Forest Hyperparameters "
   ]
  },
  {
   "cell_type": "markdown",
   "metadata": {},
   "source": [
    "For Grid Search CV : scoring can be  =  f1, accuracy, recall, or precision    "
   ]
  },
  {
   "cell_type": "code",
   "execution_count": 283,
   "metadata": {},
   "outputs": [
    {
     "name": "stdout",
     "output_type": "stream",
     "text": [
      "{'max_depth': 40, 'min_samples_leaf': 8, 'n_estimators': 28}\n"
     ]
    }
   ],
   "source": [
    "rfc = RandomForestClassifier(n_jobs=-1, random_state = 36) \n",
    " \n",
    "# Use a grid over parameters of interest\n",
    "param_grid = { \n",
    "           \"n_estimators\" : [24,26,28], # [1,3,5,7,9, 18, 27], #36, 45, 54, 63],\n",
    "           \"max_depth\" : [30,35,40], #[30, 32, 34, 36, 38, 40,42,45,48,51,55] ,#30, 32, 34, 36, 38, 40, 42],\n",
    "           \"min_samples_leaf\" : [8,10,12]}\n",
    " \n",
    "CV_rfc = GridSearchCV(estimator=rfc, param_grid=param_grid, cv= 3, scoring= \"f1\" , n_jobs=-1)\n",
    "CV_rfc.fit(x_train_res, y_train_res)\n",
    "print (CV_rfc.best_params_)"
   ]
  },
  {
   "cell_type": "markdown",
   "metadata": {},
   "source": [
    "## RF on rebalanced data. "
   ]
  },
  {
   "cell_type": "code",
   "execution_count": 27,
   "metadata": {},
   "outputs": [
    {
     "data": {
      "text/plain": [
       "0.67861994023363215"
      ]
     },
     "execution_count": 27,
     "metadata": {},
     "output_type": "execute_result"
    }
   ],
   "source": [
    "# run random forest  - We optimized the hyperparameters through grid search and used them below\n",
    "rfc_sm = RandomForestClassifier(n_jobs=-1, random_state = 36,max_depth= 40, min_samples_leaf= 8, n_estimators=28) \n",
    "rfc_sm.fit(x_train_res, y_train_res)\n",
    "rf_sm = rfc_sm.predict(X_test)\n",
    "rfc_sm.score(X_test, y_test)"
   ]
  },
  {
   "cell_type": "code",
   "execution_count": 28,
   "metadata": {},
   "outputs": [
    {
     "name": "stdout",
     "output_type": "stream",
     "text": [
      "ROC_AUC = \n",
      "0.719657617423\n",
      "F1 Score = \n",
      "0.428778367938\n"
     ]
    }
   ],
   "source": [
    "print(\"ROC_AUC = \")\n",
    "print(metrics.roc_auc_score(y_test,rfc_sm.predict_proba(X_test)[:,1]))\n",
    "print(\"F1 Score = \")\n",
    "print(metrics.f1_score(y_test,rf_sm))"
   ]
  },
  {
   "cell_type": "code",
   "execution_count": 31,
   "metadata": {},
   "outputs": [
    {
     "name": "stdout",
     "output_type": "stream",
     "text": [
      "0.4 0.43739151996\n",
      "0.41 0.437642875286\n",
      "0.42 0.438310005184\n",
      "0.43 0.436290860574\n",
      "0.44 0.437772925764\n",
      "0.45 0.435025877745\n",
      "0.46 0.434907010014\n",
      "0.47 0.4345657277\n",
      "0.48 0.43401937046\n",
      "0.49 0.430107526882\n",
      "0.5 0.428778367938\n",
      "0.51 0.425861784595\n",
      "0.52 0.420535411725\n",
      "0.53 0.417218543046\n",
      "0.54 0.411467724486\n",
      "0.55 0.402324709411\n"
     ]
    }
   ],
   "source": [
    "thresh_list = np.arange(0.4,0.55,0.01)\n",
    "y_rf_sm = rfc_sm.predict_proba(X_test)[:,1] \n",
    "\n",
    "for value in thresh_list:\n",
    "    knn_sn_th = y_rf_sm > value\n",
    "    f1_score_v = metrics.f1_score(y_test,knn_sn_th)\n",
    "    print(value , f1_score_v )\n",
    "    knn_sn_thresh = 0\n",
    "    f1_score_v = 0"
   ]
  },
  {
   "cell_type": "markdown",
   "metadata": {},
   "source": [
    "#### The Random Forest with all the variables and rebalancing had a max f1-score of 0.438 with a threshold of greater than 0.42 "
   ]
  },
  {
   "cell_type": "code",
   "execution_count": 372,
   "metadata": {},
   "outputs": [
    {
     "data": {
      "image/png": "[encoded data removed]",
      "text/plain": [
       "<matplotlib.figure.Figure at 0x1fd57825860>"
      ]
     },
     "metadata": {},
     "output_type": "display_data"
    }
   ],
   "source": [
    "y_pred_rfsm = rfc_sm.predict_proba(X_test)[:,1]\n",
    "\n",
    "# Generate ROC curve values: fpr, tpr, thresholds\n",
    "fpr, tpr, thresholds = roc_curve(y_test, y_pred_rfsm)\n",
    "\n",
    "# Plot ROC curve\n",
    "plt.plot([0, 1], [0, 1], 'k--')\n",
    "plt.plot(fpr, tpr)\n",
    "plt.xlabel('False Positive Rate')\n",
    "plt.ylabel('True Positive Rate')\n",
    "plt.title('ROC Curve- Random Forest')\n",
    "plt.show()\n",
    "\n",
    "#plt.savefig('roc_rf.png') # saves the plot "
   ]
  }
 ],
 "metadata": {
  "kernelspec": {
   "display_name": "Python 3",
   "language": "python",
   "name": "python3"
  },
  "language_info": {
   "codemirror_mode": {
    "name": "ipython",
    "version": 3
   },
   "file_extension": ".py",
   "mimetype": "text/x-python",
   "name": "python",
   "nbconvert_exporter": "python",
   "pygments_lexer": "ipython3",
   "version": "3.6.3"
  }
 },
 "nbformat": 4,
 "nbformat_minor": 2
}
